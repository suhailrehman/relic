{
 "cells": [
  {
   "cell_type": "markdown",
   "metadata": {},
   "source": [
    "# Cleaning Notebooks\n"
   ]
  },
  {
   "cell_type": "code",
   "execution_count": 1,
   "metadata": {},
   "outputs": [
    {
     "name": "stderr",
     "output_type": "stream",
     "text": [
      "In /home/suhail/anaconda3/envs/relic/lib/python3.7/site-packages/matplotlib/mpl-data/stylelib/_classic_test.mplstyle: \n",
      "The savefig.frameon rcparam was deprecated in Matplotlib 3.1 and will be removed in 3.3.\n",
      "In /home/suhail/anaconda3/envs/relic/lib/python3.7/site-packages/matplotlib/mpl-data/stylelib/_classic_test.mplstyle: \n",
      "The verbose.level rcparam was deprecated in Matplotlib 3.1 and will be removed in 3.3.\n",
      "In /home/suhail/anaconda3/envs/relic/lib/python3.7/site-packages/matplotlib/mpl-data/stylelib/_classic_test.mplstyle: \n",
      "The verbose.fileo rcparam was deprecated in Matplotlib 3.1 and will be removed in 3.3.\n",
      "../lineage/similarity.py:11: TqdmExperimentalWarning: Using `tqdm.autonotebook.tqdm` in notebook mode. Use `tqdm.tqdm` instead to force console mode (e.g. in jupyter console)\n",
      "  from tqdm.autonotebook import tqdm\n"
     ]
    }
   ],
   "source": [
    "# Imports and Environmental Setup\n",
    "\n",
    "import sys\n",
    "sys.path.insert(0, '..')\n",
    "\n",
    "import matplotlib\n",
    "%matplotlib inline\n",
    "\n",
    "import ipywidgets \n",
    "import agglomerative\n",
    "\n",
    "import os\n",
    "import glob\n",
    "\n",
    "import pandas as pd\n",
    "import networkx as nx\n",
    "\n",
    "from lineage import graphs, similarity\n",
    "\n",
    "import clustering"
   ]
  },
  {
   "cell_type": "code",
   "execution_count": 2,
   "metadata": {},
   "outputs": [
    {
     "data": {
      "text/plain": [
       "array(['nb_668735.ipynb', 'nb_324400.ipynb', 'nb_423587.ipynb',\n",
       "       'nb_292141.ipynb', 'nb_923025.ipynb', 'nb_1127960.ipynb',\n",
       "       'nb_339588.ipynb', 'nb_391713.ipynb', 'nb_747796.ipynb',\n",
       "       'nb_1201018.ipynb', 'nb_181931.ipynb', 'nb_75676.ipynb',\n",
       "       'nb_1183746.ipynb', 'nb_1193283.ipynb', 'nb_1048957.ipynb',\n",
       "       'nb_213583.ipynb', 'nb_705941.ipynb', 'nb_1252269.ipynb',\n",
       "       'nb_180346.ipynb', 'nb_458180.ipynb'], dtype=object)"
      ]
     },
     "execution_count": 2,
     "metadata": {},
     "output_type": "execute_result"
    }
   ],
   "source": [
    "# Load samples here\n",
    "sample_df = pd.read_csv('20200218_sample.csv', header=None, index_col=0)\n",
    "sample_df = sample_df.rename({1:'nb_name'}, axis=1)\n",
    "sample_df.nb_name.values"
   ]
  },
  {
   "cell_type": "code",
   "execution_count": 3,
   "metadata": {},
   "outputs": [],
   "source": [
    "# Manually selected samples; \n",
    "\n",
    "sample_notebooks = ['nb_1172641.ipynb',\n",
    " 'nb_120345.ipynb',\n",
    " 'nb_264704.ipynb',\n",
    " 'nb_28174.ipynb',\n",
    " 'nb_292141.ipynb',\n",
    " 'nb_315237.ipynb',\n",
    " 'nb_339588.ipynb',\n",
    " 'nb_417011.ipynb',\n",
    " 'nb_422202.ipynb',\n",
    " 'nb_442286.ipynb',\n",
    " 'nb_458180.ipynb',\n",
    " 'nb_495072.ipynb',\n",
    " 'nb_814615.ipynb']\n"
   ]
  },
  {
   "cell_type": "code",
   "execution_count": 54,
   "metadata": {},
   "outputs": [
    {
     "data": {
      "application/vnd.jupyter.widget-view+json": {
       "model_id": "2ad5e90cf68845c8b101ab79a249f576",
       "version_major": 2,
       "version_minor": 0
      },
      "text/plain": [
       "interactive(children=(Dropdown(description='notebook', options=('agri-mex', 'churn', 'githubviz', 'london-crim…"
      ]
     },
     "metadata": {},
     "output_type": "display_data"
    }
   ],
   "source": [
    "#Select Notebook\n",
    "from IPython.display import IFrame, HTML\n",
    "\n",
    "RESULT_DIR = '/home/suhail/Projects/sample_workflows/million_notebooks/selected/'\n",
    "#RESULT_DIR = '/home/suhail/ok/'\n",
    "\n",
    "#notebooks = sorted(sample_notebooks)\n",
    "\n",
    "notebooks = sorted([d for d in os.listdir(RESULT_DIR) if os.path.isdir(os.path.join(RESULT_DIR, d))])\n",
    "#notebooks = sample_df.nb_name.values\n",
    "\n",
    "selected_nb = None\n",
    "selected_graph = None\n",
    "\n",
    "def get_notebook_result(result_dir, nb, filename='relic_agglomerative_result.csv'):\n",
    "    return pd.read_csv(result_dir+'/'+nb+'/'+filename, index_col=0)\n",
    "\n",
    "def display_notebook(notebook):\n",
    "    url='https://flamingo.cs.uchicago.edu/jupyter/notebooks/'+RESULT_DIR.replace('/home/suhail/','')+notebook\n",
    "    html='<a href=\"'+url+'\" target=\"_blank\">link</a>'\n",
    "    print(url)\n",
    "    g = graphs.get_graph(RESULT_DIR,notebook)\n",
    "    graphs.draw_graph(g, canvas_size=(30,30))\n",
    "    return g\n",
    "    \n",
    "\n",
    "def select_notebook(notebook):\n",
    "    global selected_nb\n",
    "    global selected_graph\n",
    "    selected_nb = notebook\n",
    "    selected_graph = display_notebook(notebook)\n",
    "    display(get_notebook_result(RESULT_DIR, notebook))\n",
    "    \n",
    "metrics = ['cell','col', 'pc2cellcol', 'pc2colcell']\n",
    "\n",
    "im = ipywidgets.interact_manual(select_notebook, notebook=notebooks, )\n",
    "\n",
    "\n"
   ]
  },
  {
   "cell_type": "code",
   "execution_count": 60,
   "metadata": {},
   "outputs": [
    {
     "data": {
      "text/plain": [
       "Counter({'filter': 1, None: 2, 'merge': 2, 'isnull': 1})"
      ]
     },
     "execution_count": 60,
     "metadata": {},
     "output_type": "execute_result"
    }
   ],
   "source": [
    "from collections import Counter\n",
    "Counter([e[2]['operation'] for e in selected_graph.edges(data=True)])"
   ]
  },
  {
   "cell_type": "code",
   "execution_count": 59,
   "metadata": {
    "scrolled": false
   },
   "outputs": [
    {
     "data": {
      "application/vnd.jupyter.widget-view+json": {
       "model_id": "686044835a9e45509779ba6b559c4c50",
       "version_major": 2,
       "version_minor": 0
      },
      "text/plain": [
       "interactive(children=(Dropdown(description='notebook', options=('agri-mex', 'churn', 'githubviz', 'london-crim…"
      ]
     },
     "metadata": {},
     "output_type": "display_data"
    }
   ],
   "source": [
    "def select_notebook_exp_graph(notebook, metric, weight):\n",
    "    global selected_nb\n",
    "    selected_nb = notebook\n",
    "    display(draw_interactive_graph(RESULT_DIR, selected_nb, metric=metric, weight=weight).show(selected_nb+'.html'))\n",
    "\n",
    "    \n",
    "metrics = ['cell','col', 'pc2cellcol', 'pc2colcell', 'valset', 'rowvalset', 'colvalset', 'cellvalset', 'cell+group', 'cell+group+join', 'cell+join']\n",
    "weights = ['cell_jaccard', 'col_jaccard', 'valset_jaccard', 'rowvalset_jaccard', 'colvalset_jaccard', 'cellvalset_jaccard']\n",
    "\n",
    "im = ipywidgets.interact_manual(select_notebook_exp_graph, notebook=notebooks, metric=metrics, weight=weights)"
   ]
  },
  {
   "cell_type": "code",
   "execution_count": 34,
   "metadata": {},
   "outputs": [
    {
     "data": {
      "text/plain": [
       "'githubviz'"
      ]
     },
     "execution_count": 34,
     "metadata": {},
     "output_type": "execute_result"
    }
   ],
   "source": [
    "selected_nb"
   ]
  },
  {
   "cell_type": "code",
   "execution_count": 28,
   "metadata": {},
   "outputs": [
    {
     "data": {
      "application/vnd.jupyter.widget-view+json": {
       "model_id": "b8acac6c20844e79bf8e7d3c071927a6",
       "version_major": 2,
       "version_minor": 0
      },
      "text/plain": [
       "interactive(children=(Dropdown(description='df', options=('repo_users_reorder.csv', 'user-geocodes-dump.csv', …"
      ]
     },
     "metadata": {},
     "output_type": "display_data"
    }
   ],
   "source": [
    "artifact_dir = RESULT_DIR+selected_nb+'/artifacts/'\n",
    "\n",
    "selected_df = None\n",
    "\n",
    "def get_notebook_artifact_list(nb):\n",
    "    return [os.path.basename(x) for x in glob.glob(artifact_dir+'*.csv')]\n",
    "\n",
    "\n",
    "dataframes = get_notebook_artifact_list(selected_nb)\n",
    "\n",
    "\n",
    "def inspect_dataframe(df):\n",
    "    global selected_df\n",
    "    selected_df = pd.read_csv(artifact_dir+df, index_col=0)\n",
    "    return selected_df\n",
    "\n",
    "im = ipywidgets.interact_manual(inspect_dataframe, df=dataframes)\n"
   ]
  },
  {
   "cell_type": "code",
   "execution_count": 8,
   "metadata": {},
   "outputs": [
    {
     "ename": "NameError",
     "evalue": "name 'selected_df' is not defined",
     "output_type": "error",
     "traceback": [
      "\u001b[0;31m---------------------------------------------------------------------------\u001b[0m",
      "\u001b[0;31mNameError\u001b[0m                                 Traceback (most recent call last)",
      "\u001b[0;32m<ipython-input-8-3434dc090830>\u001b[0m in \u001b[0;36m<module>\u001b[0;34m\u001b[0m\n\u001b[0;32m----> 1\u001b[0;31m \u001b[0mselected_df\u001b[0m\u001b[0;34m.\u001b[0m\u001b[0misnull\u001b[0m\u001b[0;34m(\u001b[0m\u001b[0;34m)\u001b[0m\u001b[0;34m.\u001b[0m\u001b[0msum\u001b[0m\u001b[0;34m(\u001b[0m\u001b[0;34m)\u001b[0m\u001b[0;34m\u001b[0m\u001b[0;34m\u001b[0m\u001b[0m\n\u001b[0m",
      "\u001b[0;31mNameError\u001b[0m: name 'selected_df' is not defined"
     ]
    }
   ],
   "source": [
    "selected_df.isnull().sum()"
   ]
  },
  {
   "cell_type": "code",
   "execution_count": 29,
   "metadata": {},
   "outputs": [
    {
     "data": {
      "text/plain": [
       "OutEdgeView([('crimes.csv', 'crimesByMonth.csv'), ('crimes.csv', 'areaCrime.csv'), ('crimes.csv', 'crimeTypes.csv'), ('crimes.csv', 'typeLoc.csv'), ('crimes.csv', 'crimes__2.csv'), ('crimesByMonth.csv', 'crimesByMonth__1.csv'), ('crimesByMonth__1.csv', 'crimesByMonth__2.csv'), ('areaCrime.csv', 'areaCrime__1.csv'), ('areaCrime.csv', 'locationRecode__1.csv'), ('areaCrime__1.csv', 'areaCrime__2.csv'), ('typeLoc.csv', 'typeLoc__1.csv'), ('locationRecode__1.csv', 'typeLoc__1.csv'), ('typeLoc__1.csv', 'typeLoc__2.csv'), ('typeLoc__2.csv', 'typeLoc__3.csv'), ('crimes__2.csv', 'typeOutcome.csv'), ('typeOutcome.csv', 'typeOutcome__1.csv')])"
      ]
     },
     "execution_count": 29,
     "metadata": {},
     "output_type": "execute_result"
    }
   ],
   "source": [
    "selected_graph.edges()"
   ]
  },
  {
   "cell_type": "code",
   "execution_count": 30,
   "metadata": {},
   "outputs": [
    {
     "data": {
      "application/vnd.jupyter.widget-view+json": {
       "model_id": "3e7f8c840337417795d5a7781bf1e807",
       "version_major": 2,
       "version_minor": 0
      },
      "text/plain": [
       "interactive(children=(Dropdown(description='edge1', options=('repo_users_reorder.csv', 'user-geocodes-dump.csv…"
      ]
     },
     "metadata": {},
     "output_type": "display_data"
    }
   ],
   "source": [
    "add_edge_list = []\n",
    "\n",
    "def add_edge(edge1, edge2, operation):\n",
    "    global add_edge_list\n",
    "    add_edge_list.append((edge1,edge2, operation))\n",
    "\n",
    "im = ipywidgets.interact_manual(add_edge, edge1=dataframes, edge2=dataframes, operation='')"
   ]
  },
  {
   "cell_type": "code",
   "execution_count": 36,
   "metadata": {},
   "outputs": [
    {
     "data": {
      "application/vnd.jupyter.widget-view+json": {
       "model_id": "3bca53cb8a0646dea5b81b255ffe043a",
       "version_major": 2,
       "version_minor": 0
      },
      "text/plain": [
       "interactive(children=(Dropdown(description='edge1', options=('repo_users_reorder.csv', 'user-geocodes-dump.csv…"
      ]
     },
     "metadata": {},
     "output_type": "display_data"
    }
   ],
   "source": [
    "remove_edge_list = []\n",
    "\n",
    "def remove_edge(edge1,edge2):\n",
    "    global remove_edge_list\n",
    "    remove_edge_list.append((edge1,edge2))\n",
    "\n",
    "im = ipywidgets.interact_manual(remove_edge, edge1=dataframes, edge2=dataframes)"
   ]
  },
  {
   "cell_type": "code",
   "execution_count": 38,
   "metadata": {},
   "outputs": [
    {
     "data": {
      "application/vnd.jupyter.widget-view+json": {
       "model_id": "50adf22479e4445a86f6522a2de2e3b1",
       "version_major": 2,
       "version_minor": 0
      },
      "text/plain": [
       "interactive(children=(Dropdown(description='df', options=('repo_users_reorder.csv', 'user-geocodes-dump.csv', …"
      ]
     },
     "metadata": {},
     "output_type": "display_data"
    }
   ],
   "source": [
    "def remove_dataframe(df):\n",
    "    global selected_graph\n",
    "    g = selected_graph\n",
    "    full_path = RESULT_DIR+selected_nb+'/artifacts/'+df\n",
    "    if os.path.exists(full_path):\n",
    "        #print(cell['links'])\n",
    "        try:\n",
    "            os.remove(full_path)\n",
    "        except IsADirectoryError as e:\n",
    "            pass\n",
    "    \n",
    "    if df in g.nodes():\n",
    "        g.remove_node(df)\n",
    "    \n",
    "    selected_graph = g\n",
    "\n",
    "\n",
    "im = ipywidgets.interact_manual(remove_dataframe, df=dataframes)"
   ]
  },
  {
   "cell_type": "code",
   "execution_count": 39,
   "metadata": {},
   "outputs": [
    {
     "data": {
      "text/plain": [
       "OutEdgeView([('extract_user_repo.csv', 'repo_users.csv'), ('users_ren_col.csv', 'repo_users.csv'), ('user-geocodes-dump.csv', 'users_ren_col.csv'), ('repos-dump.csv', 'extract_user_repo.csv')])"
      ]
     },
     "execution_count": 39,
     "metadata": {},
     "output_type": "execute_result"
    }
   ],
   "source": [
    "selected_graph.edges()"
   ]
  },
  {
   "cell_type": "code",
   "execution_count": 40,
   "metadata": {},
   "outputs": [
    {
     "data": {
      "text/plain": [
       "[]"
      ]
     },
     "execution_count": 40,
     "metadata": {},
     "output_type": "execute_result"
    }
   ],
   "source": [
    "remove_edge_list"
   ]
  },
  {
   "cell_type": "code",
   "execution_count": 41,
   "metadata": {},
   "outputs": [
    {
     "data": {
      "text/plain": [
       "[('repo_users.csv', 'repo_users_ranks.csv', 'sort')]"
      ]
     },
     "execution_count": 41,
     "metadata": {},
     "output_type": "execute_result"
    }
   ],
   "source": [
    "add_edge_list"
   ]
  },
  {
   "cell_type": "code",
   "execution_count": 42,
   "metadata": {},
   "outputs": [],
   "source": [
    "def create_custom_graph(add_edge_list, remove_edge_list):\n",
    "    global selected_graph\n",
    "    g = selected_graph\n",
    "    for e1,e2 in remove_edge_list:\n",
    "        try:\n",
    "            g.remove_edge(e1,e2)\n",
    "        except nx.NetworkXError as e:\n",
    "            g.remove_edge(e2,e1)\n",
    "    for e1,e2, op in add_edge_list:\n",
    "        g.add_edge(e1,e2, operation=op)\n",
    "\n",
    "    return g\n",
    "\n",
    "def write_graph_file(g, selected_nb):\n",
    "    outfile = RESULT_DIR+selected_nb+'/'+selected_nb+'_gt_fixed.pkl'\n",
    "    nx.write_gpickle(g, outfile)\n"
   ]
  },
  {
   "cell_type": "code",
   "execution_count": 43,
   "metadata": {},
   "outputs": [
    {
     "data": {
      "text/plain": [
       "OutEdgeDataView([('extract_user_repo.csv', 'repo_users.csv', {'operation': 'merge'}), ('users_ren_col.csv', 'repo_users.csv', {'operation': 'merge'}), ('repo_users.csv', 'repo_users_ranks.csv', {'operation': 'sort'}), ('user-geocodes-dump.csv', 'users_ren_col.csv', {'operation': 'rename column'}), ('repos-dump.csv', 'extract_user_repo.csv', {'operation': 'new derived column'})])"
      ]
     },
     "execution_count": 43,
     "metadata": {},
     "output_type": "execute_result"
    }
   ],
   "source": [
    "g = create_custom_graph(add_edge_list, remove_edge_list)\n",
    "g.edges(data=True)"
   ]
  },
  {
   "cell_type": "code",
   "execution_count": 44,
   "metadata": {},
   "outputs": [],
   "source": [
    "write_graph_file(g,selected_nb)"
   ]
  },
  {
   "cell_type": "code",
   "execution_count": 40,
   "metadata": {},
   "outputs": [
    {
     "name": "stdout",
     "output_type": "stream",
     "text": [
      "Processing: nb_705941.ipynb\n"
     ]
    },
    {
     "data": {
      "application/vnd.jupyter.widget-view+json": {
       "model_id": "",
       "version_major": 2,
       "version_minor": 0
      },
      "text/plain": [
       "HBox(children=(FloatProgress(value=0.0, description='graph pairs', max=21.0, style=ProgressStyle(description_w…"
      ]
     },
     "metadata": {},
     "output_type": "display_data"
    },
    {
     "name": "stdout",
     "output_type": "stream",
     "text": [
      "\r"
     ]
    },
    {
     "data": {
      "application/vnd.jupyter.widget-view+json": {
       "model_id": "",
       "version_major": 2,
       "version_minor": 0
      },
      "text/plain": [
       "HBox(children=(FloatProgress(value=0.0, description='graph pairs', max=21.0, style=ProgressStyle(description_w…"
      ]
     },
     "metadata": {},
     "output_type": "display_data"
    },
    {
     "name": "stdout",
     "output_type": "stream",
     "text": [
      "Finished adding all intra-cluster edges\n"
     ]
    },
    {
     "data": {
      "application/vnd.jupyter.widget-view+json": {
       "model_id": "",
       "version_major": 2,
       "version_minor": 0
      },
      "text/plain": [
       "HBox(children=(FloatProgress(value=0.0, description='graph pairs', max=1.0, style=ProgressStyle(description_wi…"
      ]
     },
     "metadata": {},
     "output_type": "display_data"
    },
    {
     "name": "stdout",
     "output_type": "stream",
     "text": [
      "\r"
     ]
    },
    {
     "data": {
      "application/vnd.jupyter.widget-view+json": {
       "model_id": "",
       "version_major": 2,
       "version_minor": 0
      },
      "text/plain": [
       "HBox(children=(FloatProgress(value=0.0, description='graph pairs', max=1.0, style=ProgressStyle(description_wi…"
      ]
     },
     "metadata": {},
     "output_type": "display_data"
    },
    {
     "name": "stdout",
     "output_type": "stream",
     "text": [
      "\r"
     ]
    },
    {
     "data": {
      "application/vnd.jupyter.widget-view+json": {
       "model_id": "",
       "version_major": 2,
       "version_minor": 0
      },
      "text/plain": [
       "HBox(children=(FloatProgress(value=0.0, description='graph pairs', max=1.0, style=ProgressStyle(description_wi…"
      ]
     },
     "metadata": {},
     "output_type": "display_data"
    },
    {
     "name": "stdout",
     "output_type": "stream",
     "text": [
      "\r"
     ]
    },
    {
     "data": {
      "application/vnd.jupyter.widget-view+json": {
       "model_id": "",
       "version_major": 2,
       "version_minor": 0
      },
      "text/plain": [
       "HBox(children=(FloatProgress(value=0.0, description='graph pairs', max=1.0, style=ProgressStyle(description_wi…"
      ]
     },
     "metadata": {},
     "output_type": "display_data"
    },
    {
     "name": "stdout",
     "output_type": "stream",
     "text": [
      "\r"
     ]
    },
    {
     "data": {
      "application/vnd.jupyter.widget-view+json": {
       "model_id": "",
       "version_major": 2,
       "version_minor": 0
      },
      "text/plain": [
       "HBox(children=(FloatProgress(value=0.0, description='graph pairs', max=1.0, style=ProgressStyle(description_wi…"
      ]
     },
     "metadata": {},
     "output_type": "display_data"
    },
    {
     "name": "stdout",
     "output_type": "stream",
     "text": [
      "\r"
     ]
    },
    {
     "data": {
      "application/vnd.jupyter.widget-view+json": {
       "model_id": "",
       "version_major": 2,
       "version_minor": 0
      },
      "text/plain": [
       "HBox(children=(FloatProgress(value=0.0, description='graph pairs', max=1.0, style=ProgressStyle(description_wi…"
      ]
     },
     "metadata": {},
     "output_type": "display_data"
    },
    {
     "name": "stdout",
     "output_type": "stream",
     "text": [
      "\r"
     ]
    },
    {
     "data": {
      "application/vnd.jupyter.widget-view+json": {
       "model_id": "",
       "version_major": 2,
       "version_minor": 0
      },
      "text/plain": [
       "HBox(children=(FloatProgress(value=0.0, description='graph pairs', max=1.0, style=ProgressStyle(description_wi…"
      ]
     },
     "metadata": {},
     "output_type": "display_data"
    },
    {
     "name": "stdout",
     "output_type": "stream",
     "text": [
      "\r"
     ]
    },
    {
     "data": {
      "application/vnd.jupyter.widget-view+json": {
       "model_id": "",
       "version_major": 2,
       "version_minor": 0
      },
      "text/plain": [
       "HBox(children=(FloatProgress(value=0.0, description='graph pairs', max=1.0, style=ProgressStyle(description_wi…"
      ]
     },
     "metadata": {},
     "output_type": "display_data"
    },
    {
     "name": "stdout",
     "output_type": "stream",
     "text": [
      "\r"
     ]
    },
    {
     "data": {
      "application/vnd.jupyter.widget-view+json": {
       "model_id": "",
       "version_major": 2,
       "version_minor": 0
      },
      "text/plain": [
       "HBox(children=(FloatProgress(value=0.0, description='graph pairs', max=1.0, style=ProgressStyle(description_wi…"
      ]
     },
     "metadata": {},
     "output_type": "display_data"
    },
    {
     "name": "stdout",
     "output_type": "stream",
     "text": [
      "\r"
     ]
    },
    {
     "data": {
      "application/vnd.jupyter.widget-view+json": {
       "model_id": "",
       "version_major": 2,
       "version_minor": 0
      },
      "text/plain": [
       "HBox(children=(FloatProgress(value=0.0, description='graph pairs', max=1.0, style=ProgressStyle(description_wi…"
      ]
     },
     "metadata": {},
     "output_type": "display_data"
    },
    {
     "name": "stdout",
     "output_type": "stream",
     "text": [
      "\r"
     ]
    },
    {
     "data": {
      "application/vnd.jupyter.widget-view+json": {
       "model_id": "",
       "version_major": 2,
       "version_minor": 0
      },
      "text/plain": [
       "HBox(children=(FloatProgress(value=0.0, description='graph pairs', max=1.0, style=ProgressStyle(description_wi…"
      ]
     },
     "metadata": {},
     "output_type": "display_data"
    },
    {
     "name": "stdout",
     "output_type": "stream",
     "text": [
      "\r"
     ]
    },
    {
     "data": {
      "application/vnd.jupyter.widget-view+json": {
       "model_id": "",
       "version_major": 2,
       "version_minor": 0
      },
      "text/plain": [
       "HBox(children=(FloatProgress(value=0.0, description='graph pairs', max=1.0, style=ProgressStyle(description_wi…"
      ]
     },
     "metadata": {},
     "output_type": "display_data"
    },
    {
     "name": "stdout",
     "output_type": "stream",
     "text": [
      "\r"
     ]
    },
    {
     "data": {
      "application/vnd.jupyter.widget-view+json": {
       "model_id": "",
       "version_major": 2,
       "version_minor": 0
      },
      "text/plain": [
       "HBox(children=(FloatProgress(value=0.0, description='graph pairs', max=1.0, style=ProgressStyle(description_wi…"
      ]
     },
     "metadata": {},
     "output_type": "display_data"
    },
    {
     "name": "stdout",
     "output_type": "stream",
     "text": [
      "\r"
     ]
    },
    {
     "data": {
      "application/vnd.jupyter.widget-view+json": {
       "model_id": "",
       "version_major": 2,
       "version_minor": 0
      },
      "text/plain": [
       "HBox(children=(FloatProgress(value=0.0, description='graph pairs', max=1.0, style=ProgressStyle(description_wi…"
      ]
     },
     "metadata": {},
     "output_type": "display_data"
    },
    {
     "name": "stdout",
     "output_type": "stream",
     "text": [
      "\r"
     ]
    },
    {
     "data": {
      "application/vnd.jupyter.widget-view+json": {
       "model_id": "",
       "version_major": 2,
       "version_minor": 0
      },
      "text/plain": [
       "HBox(children=(FloatProgress(value=0.0, description='graph pairs', max=1.0, style=ProgressStyle(description_wi…"
      ]
     },
     "metadata": {},
     "output_type": "display_data"
    },
    {
     "name": "stdout",
     "output_type": "stream",
     "text": [
      "\r"
     ]
    },
    {
     "data": {
      "application/vnd.jupyter.widget-view+json": {
       "model_id": "",
       "version_major": 2,
       "version_minor": 0
      },
      "text/plain": [
       "HBox(children=(FloatProgress(value=0.0, description='graph pairs', max=1.0, style=ProgressStyle(description_wi…"
      ]
     },
     "metadata": {},
     "output_type": "display_data"
    },
    {
     "name": "stdout",
     "output_type": "stream",
     "text": [
      "\r"
     ]
    },
    {
     "data": {
      "application/vnd.jupyter.widget-view+json": {
       "model_id": "",
       "version_major": 2,
       "version_minor": 0
      },
      "text/plain": [
       "HBox(children=(FloatProgress(value=0.0, description='graph pairs', max=1.0, style=ProgressStyle(description_wi…"
      ]
     },
     "metadata": {},
     "output_type": "display_data"
    },
    {
     "name": "stdout",
     "output_type": "stream",
     "text": [
      "\r"
     ]
    },
    {
     "data": {
      "application/vnd.jupyter.widget-view+json": {
       "model_id": "",
       "version_major": 2,
       "version_minor": 0
      },
      "text/plain": [
       "HBox(children=(FloatProgress(value=0.0, description='graph pairs', max=1.0, style=ProgressStyle(description_wi…"
      ]
     },
     "metadata": {},
     "output_type": "display_data"
    },
    {
     "name": "stdout",
     "output_type": "stream",
     "text": [
      "\r"
     ]
    },
    {
     "data": {
      "application/vnd.jupyter.widget-view+json": {
       "model_id": "",
       "version_major": 2,
       "version_minor": 0
      },
      "text/plain": [
       "HBox(children=(FloatProgress(value=0.0, description='graph pairs', max=1.0, style=ProgressStyle(description_wi…"
      ]
     },
     "metadata": {},
     "output_type": "display_data"
    },
    {
     "name": "stdout",
     "output_type": "stream",
     "text": [
      "\r"
     ]
    },
    {
     "data": {
      "application/vnd.jupyter.widget-view+json": {
       "model_id": "",
       "version_major": 2,
       "version_minor": 0
      },
      "text/plain": [
       "HBox(children=(FloatProgress(value=0.0, description='graph pairs', max=1.0, style=ProgressStyle(description_wi…"
      ]
     },
     "metadata": {},
     "output_type": "display_data"
    },
    {
     "name": "stdout",
     "output_type": "stream",
     "text": [
      "\r"
     ]
    },
    {
     "data": {
      "application/vnd.jupyter.widget-view+json": {
       "model_id": "",
       "version_major": 2,
       "version_minor": 0
      },
      "text/plain": [
       "HBox(children=(FloatProgress(value=0.0, description='graph pairs', max=1.0, style=ProgressStyle(description_wi…"
      ]
     },
     "metadata": {},
     "output_type": "display_data"
    },
    {
     "name": "stdout",
     "output_type": "stream",
     "text": [
      "Breaking Tie for cell-level: [('wkd_cas_mean.csv', 'wkd_reg_mean.csv', 0.3333333333333333), ('wtr_reg_mean.csv', 'wtr_cas_mean.csv', 0.3333333333333333), ('hdy_reg_mean.csv', 'hdy_cas_mean.csv', 0.3333333333333333)]\n",
      "Adding edge wkd_cas_mean.csv wkd_reg_mean.csv 0.3333333333333333\n"
     ]
    },
    {
     "data": {
      "application/vnd.jupyter.widget-view+json": {
       "model_id": "",
       "version_major": 2,
       "version_minor": 0
      },
      "text/plain": [
       "HBox(children=(FloatProgress(value=0.0, description='graph pairs', max=2.0, style=ProgressStyle(description_wi…"
      ]
     },
     "metadata": {},
     "output_type": "display_data"
    },
    {
     "name": "stdout",
     "output_type": "stream",
     "text": [
      "\r"
     ]
    },
    {
     "data": {
      "application/vnd.jupyter.widget-view+json": {
       "model_id": "",
       "version_major": 2,
       "version_minor": 0
      },
      "text/plain": [
       "HBox(children=(FloatProgress(value=0.0, description='graph pairs', max=2.0, style=ProgressStyle(description_wi…"
      ]
     },
     "metadata": {},
     "output_type": "display_data"
    },
    {
     "name": "stdout",
     "output_type": "stream",
     "text": [
      "\r"
     ]
    },
    {
     "data": {
      "application/vnd.jupyter.widget-view+json": {
       "model_id": "",
       "version_major": 2,
       "version_minor": 0
      },
      "text/plain": [
       "HBox(children=(FloatProgress(value=0.0, description='graph pairs', max=2.0, style=ProgressStyle(description_wi…"
      ]
     },
     "metadata": {},
     "output_type": "display_data"
    },
    {
     "name": "stdout",
     "output_type": "stream",
     "text": [
      "\r"
     ]
    },
    {
     "data": {
      "application/vnd.jupyter.widget-view+json": {
       "model_id": "",
       "version_major": 2,
       "version_minor": 0
      },
      "text/plain": [
       "HBox(children=(FloatProgress(value=0.0, description='graph pairs', max=2.0, style=ProgressStyle(description_wi…"
      ]
     },
     "metadata": {},
     "output_type": "display_data"
    },
    {
     "name": "stdout",
     "output_type": "stream",
     "text": [
      "\r"
     ]
    },
    {
     "data": {
      "application/vnd.jupyter.widget-view+json": {
       "model_id": "",
       "version_major": 2,
       "version_minor": 0
      },
      "text/plain": [
       "HBox(children=(FloatProgress(value=0.0, description='graph pairs', max=2.0, style=ProgressStyle(description_wi…"
      ]
     },
     "metadata": {},
     "output_type": "display_data"
    },
    {
     "name": "stdout",
     "output_type": "stream",
     "text": [
      "\r"
     ]
    },
    {
     "data": {
      "application/vnd.jupyter.widget-view+json": {
       "model_id": "",
       "version_major": 2,
       "version_minor": 0
      },
      "text/plain": [
       "HBox(children=(FloatProgress(value=0.0, description='graph pairs', max=1.0, style=ProgressStyle(description_wi…"
      ]
     },
     "metadata": {},
     "output_type": "display_data"
    },
    {
     "name": "stdout",
     "output_type": "stream",
     "text": [
      "\r"
     ]
    },
    {
     "data": {
      "application/vnd.jupyter.widget-view+json": {
       "model_id": "",
       "version_major": 2,
       "version_minor": 0
      },
      "text/plain": [
       "HBox(children=(FloatProgress(value=0.0, description='graph pairs', max=1.0, style=ProgressStyle(description_wi…"
      ]
     },
     "metadata": {},
     "output_type": "display_data"
    },
    {
     "name": "stdout",
     "output_type": "stream",
     "text": [
      "\r"
     ]
    },
    {
     "data": {
      "application/vnd.jupyter.widget-view+json": {
       "model_id": "",
       "version_major": 2,
       "version_minor": 0
      },
      "text/plain": [
       "HBox(children=(FloatProgress(value=0.0, description='graph pairs', max=1.0, style=ProgressStyle(description_wi…"
      ]
     },
     "metadata": {},
     "output_type": "display_data"
    },
    {
     "name": "stdout",
     "output_type": "stream",
     "text": [
      "\r"
     ]
    },
    {
     "data": {
      "application/vnd.jupyter.widget-view+json": {
       "model_id": "",
       "version_major": 2,
       "version_minor": 0
      },
      "text/plain": [
       "HBox(children=(FloatProgress(value=0.0, description='graph pairs', max=1.0, style=ProgressStyle(description_wi…"
      ]
     },
     "metadata": {},
     "output_type": "display_data"
    },
    {
     "name": "stdout",
     "output_type": "stream",
     "text": [
      "\r"
     ]
    },
    {
     "data": {
      "application/vnd.jupyter.widget-view+json": {
       "model_id": "",
       "version_major": 2,
       "version_minor": 0
      },
      "text/plain": [
       "HBox(children=(FloatProgress(value=0.0, description='graph pairs', max=1.0, style=ProgressStyle(description_wi…"
      ]
     },
     "metadata": {},
     "output_type": "display_data"
    },
    {
     "name": "stdout",
     "output_type": "stream",
     "text": [
      "\r"
     ]
    },
    {
     "data": {
      "application/vnd.jupyter.widget-view+json": {
       "model_id": "",
       "version_major": 2,
       "version_minor": 0
      },
      "text/plain": [
       "HBox(children=(FloatProgress(value=0.0, description='graph pairs', max=1.0, style=ProgressStyle(description_wi…"
      ]
     },
     "metadata": {},
     "output_type": "display_data"
    },
    {
     "name": "stdout",
     "output_type": "stream",
     "text": [
      "\r"
     ]
    },
    {
     "data": {
      "application/vnd.jupyter.widget-view+json": {
       "model_id": "",
       "version_major": 2,
       "version_minor": 0
      },
      "text/plain": [
       "HBox(children=(FloatProgress(value=0.0, description='graph pairs', max=1.0, style=ProgressStyle(description_wi…"
      ]
     },
     "metadata": {},
     "output_type": "display_data"
    },
    {
     "name": "stdout",
     "output_type": "stream",
     "text": [
      "\r"
     ]
    },
    {
     "data": {
      "application/vnd.jupyter.widget-view+json": {
       "model_id": "",
       "version_major": 2,
       "version_minor": 0
      },
      "text/plain": [
       "HBox(children=(FloatProgress(value=0.0, description='graph pairs', max=1.0, style=ProgressStyle(description_wi…"
      ]
     },
     "metadata": {},
     "output_type": "display_data"
    },
    {
     "name": "stdout",
     "output_type": "stream",
     "text": [
      "\r"
     ]
    },
    {
     "data": {
      "application/vnd.jupyter.widget-view+json": {
       "model_id": "",
       "version_major": 2,
       "version_minor": 0
      },
      "text/plain": [
       "HBox(children=(FloatProgress(value=0.0, description='graph pairs', max=1.0, style=ProgressStyle(description_wi…"
      ]
     },
     "metadata": {},
     "output_type": "display_data"
    },
    {
     "name": "stdout",
     "output_type": "stream",
     "text": [
      "\r"
     ]
    },
    {
     "data": {
      "application/vnd.jupyter.widget-view+json": {
       "model_id": "",
       "version_major": 2,
       "version_minor": 0
      },
      "text/plain": [
       "HBox(children=(FloatProgress(value=0.0, description='graph pairs', max=1.0, style=ProgressStyle(description_wi…"
      ]
     },
     "metadata": {},
     "output_type": "display_data"
    },
    {
     "name": "stdout",
     "output_type": "stream",
     "text": [
      "\r",
      "Breaking Tie for cell-level: [('wtr_reg_mean.csv', 'wtr_cas_mean.csv', 0.3333333333333333), ('hdy_reg_mean.csv', 'hdy_cas_mean.csv', 0.3333333333333333)]\n",
      "Adding edge wtr_reg_mean.csv wtr_cas_mean.csv 0.3333333333333333\n"
     ]
    },
    {
     "data": {
      "application/vnd.jupyter.widget-view+json": {
       "model_id": "",
       "version_major": 2,
       "version_minor": 0
      },
      "text/plain": [
       "HBox(children=(FloatProgress(value=0.0, description='graph pairs', max=4.0, style=ProgressStyle(description_wi…"
      ]
     },
     "metadata": {},
     "output_type": "display_data"
    },
    {
     "name": "stdout",
     "output_type": "stream",
     "text": [
      "\r"
     ]
    },
    {
     "data": {
      "application/vnd.jupyter.widget-view+json": {
       "model_id": "",
       "version_major": 2,
       "version_minor": 0
      },
      "text/plain": [
       "HBox(children=(FloatProgress(value=0.0, description='graph pairs', max=2.0, style=ProgressStyle(description_wi…"
      ]
     },
     "metadata": {},
     "output_type": "display_data"
    },
    {
     "name": "stdout",
     "output_type": "stream",
     "text": [
      "\r"
     ]
    },
    {
     "data": {
      "application/vnd.jupyter.widget-view+json": {
       "model_id": "",
       "version_major": 2,
       "version_minor": 0
      },
      "text/plain": [
       "HBox(children=(FloatProgress(value=0.0, description='graph pairs', max=2.0, style=ProgressStyle(description_wi…"
      ]
     },
     "metadata": {},
     "output_type": "display_data"
    },
    {
     "name": "stdout",
     "output_type": "stream",
     "text": [
      "\r"
     ]
    },
    {
     "data": {
      "application/vnd.jupyter.widget-view+json": {
       "model_id": "",
       "version_major": 2,
       "version_minor": 0
      },
      "text/plain": [
       "HBox(children=(FloatProgress(value=0.0, description='graph pairs', max=2.0, style=ProgressStyle(description_wi…"
      ]
     },
     "metadata": {},
     "output_type": "display_data"
    },
    {
     "name": "stdout",
     "output_type": "stream",
     "text": [
      "\r"
     ]
    },
    {
     "data": {
      "application/vnd.jupyter.widget-view+json": {
       "model_id": "",
       "version_major": 2,
       "version_minor": 0
      },
      "text/plain": [
       "HBox(children=(FloatProgress(value=0.0, description='graph pairs', max=2.0, style=ProgressStyle(description_wi…"
      ]
     },
     "metadata": {},
     "output_type": "display_data"
    },
    {
     "name": "stdout",
     "output_type": "stream",
     "text": [
      "\r"
     ]
    },
    {
     "data": {
      "application/vnd.jupyter.widget-view+json": {
       "model_id": "",
       "version_major": 2,
       "version_minor": 0
      },
      "text/plain": [
       "HBox(children=(FloatProgress(value=0.0, description='graph pairs', max=2.0, style=ProgressStyle(description_wi…"
      ]
     },
     "metadata": {},
     "output_type": "display_data"
    },
    {
     "name": "stdout",
     "output_type": "stream",
     "text": [
      "\r"
     ]
    },
    {
     "data": {
      "application/vnd.jupyter.widget-view+json": {
       "model_id": "",
       "version_major": 2,
       "version_minor": 0
      },
      "text/plain": [
       "HBox(children=(FloatProgress(value=0.0, description='graph pairs', max=2.0, style=ProgressStyle(description_wi…"
      ]
     },
     "metadata": {},
     "output_type": "display_data"
    },
    {
     "name": "stdout",
     "output_type": "stream",
     "text": [
      "\r"
     ]
    },
    {
     "data": {
      "application/vnd.jupyter.widget-view+json": {
       "model_id": "",
       "version_major": 2,
       "version_minor": 0
      },
      "text/plain": [
       "HBox(children=(FloatProgress(value=0.0, description='graph pairs', max=1.0, style=ProgressStyle(description_wi…"
      ]
     },
     "metadata": {},
     "output_type": "display_data"
    },
    {
     "name": "stdout",
     "output_type": "stream",
     "text": [
      "\r"
     ]
    },
    {
     "data": {
      "application/vnd.jupyter.widget-view+json": {
       "model_id": "",
       "version_major": 2,
       "version_minor": 0
      },
      "text/plain": [
       "HBox(children=(FloatProgress(value=0.0, description='graph pairs', max=1.0, style=ProgressStyle(description_wi…"
      ]
     },
     "metadata": {},
     "output_type": "display_data"
    },
    {
     "name": "stdout",
     "output_type": "stream",
     "text": [
      "\r"
     ]
    },
    {
     "data": {
      "application/vnd.jupyter.widget-view+json": {
       "model_id": "",
       "version_major": 2,
       "version_minor": 0
      },
      "text/plain": [
       "HBox(children=(FloatProgress(value=0.0, description='graph pairs', max=1.0, style=ProgressStyle(description_wi…"
      ]
     },
     "metadata": {},
     "output_type": "display_data"
    },
    {
     "name": "stdout",
     "output_type": "stream",
     "text": [
      "\r",
      "Adding edge hdy_reg_mean.csv hdy_cas_mean.csv 0.3333333333333333\n"
     ]
    },
    {
     "data": {
      "application/vnd.jupyter.widget-view+json": {
       "model_id": "",
       "version_major": 2,
       "version_minor": 0
      },
      "text/plain": [
       "HBox(children=(FloatProgress(value=0.0, description='graph pairs', max=4.0, style=ProgressStyle(description_wi…"
      ]
     },
     "metadata": {},
     "output_type": "display_data"
    },
    {
     "name": "stdout",
     "output_type": "stream",
     "text": [
      "\r"
     ]
    },
    {
     "data": {
      "application/vnd.jupyter.widget-view+json": {
       "model_id": "",
       "version_major": 2,
       "version_minor": 0
      },
      "text/plain": [
       "HBox(children=(FloatProgress(value=0.0, description='graph pairs', max=2.0, style=ProgressStyle(description_wi…"
      ]
     },
     "metadata": {},
     "output_type": "display_data"
    },
    {
     "name": "stdout",
     "output_type": "stream",
     "text": [
      "\r"
     ]
    },
    {
     "data": {
      "application/vnd.jupyter.widget-view+json": {
       "model_id": "",
       "version_major": 2,
       "version_minor": 0
      },
      "text/plain": [
       "HBox(children=(FloatProgress(value=0.0, description='graph pairs', max=4.0, style=ProgressStyle(description_wi…"
      ]
     },
     "metadata": {},
     "output_type": "display_data"
    },
    {
     "name": "stdout",
     "output_type": "stream",
     "text": [
      "\r"
     ]
    },
    {
     "data": {
      "application/vnd.jupyter.widget-view+json": {
       "model_id": "",
       "version_major": 2,
       "version_minor": 0
      },
      "text/plain": [
       "HBox(children=(FloatProgress(value=0.0, description='graph pairs', max=2.0, style=ProgressStyle(description_wi…"
      ]
     },
     "metadata": {},
     "output_type": "display_data"
    },
    {
     "name": "stdout",
     "output_type": "stream",
     "text": [
      "\r"
     ]
    },
    {
     "data": {
      "application/vnd.jupyter.widget-view+json": {
       "model_id": "",
       "version_major": 2,
       "version_minor": 0
      },
      "text/plain": [
       "HBox(children=(FloatProgress(value=0.0, description='graph pairs', max=4.0, style=ProgressStyle(description_wi…"
      ]
     },
     "metadata": {},
     "output_type": "display_data"
    },
    {
     "name": "stdout",
     "output_type": "stream",
     "text": [
      "\r"
     ]
    },
    {
     "data": {
      "application/vnd.jupyter.widget-view+json": {
       "model_id": "",
       "version_major": 2,
       "version_minor": 0
      },
      "text/plain": [
       "HBox(children=(FloatProgress(value=0.0, description='graph pairs', max=2.0, style=ProgressStyle(description_wi…"
      ]
     },
     "metadata": {},
     "output_type": "display_data"
    },
    {
     "name": "stdout",
     "output_type": "stream",
     "text": [
      "\r",
      "Breaking Tie for cell-level: [('wkd_cas_mean.csv', 'wtr_cas_mean.csv', 0.10714285714285714), ('wkd_reg_mean.csv', 'wtr_reg_mean.csv', 0.10714285714285714)]\n",
      "Multiple Overlap candidates:  [('wkd_cas_mean.csv', 'wtr_cas_mean.csv', 0), ('wkd_reg_mean.csv', 'wtr_reg_mean.csv', 0)]\n",
      "Adding edge wkd_reg_mean.csv wtr_reg_mean.csv 0.10714285714285714\n"
     ]
    },
    {
     "data": {
      "application/vnd.jupyter.widget-view+json": {
       "model_id": "",
       "version_major": 2,
       "version_minor": 0
      },
      "text/plain": [
       "HBox(children=(FloatProgress(value=0.0, description='graph pairs', max=4.0, style=ProgressStyle(description_wi…"
      ]
     },
     "metadata": {},
     "output_type": "display_data"
    },
    {
     "name": "stdout",
     "output_type": "stream",
     "text": [
      "\r"
     ]
    },
    {
     "data": {
      "application/vnd.jupyter.widget-view+json": {
       "model_id": "",
       "version_major": 2,
       "version_minor": 0
      },
      "text/plain": [
       "HBox(children=(FloatProgress(value=0.0, description='graph pairs', max=8.0, style=ProgressStyle(description_wi…"
      ]
     },
     "metadata": {},
     "output_type": "display_data"
    },
    {
     "name": "stdout",
     "output_type": "stream",
     "text": [
      "\r"
     ]
    },
    {
     "data": {
      "application/vnd.jupyter.widget-view+json": {
       "model_id": "",
       "version_major": 2,
       "version_minor": 0
      },
      "text/plain": [
       "HBox(children=(FloatProgress(value=0.0, description='graph pairs', max=2.0, style=ProgressStyle(description_wi…"
      ]
     },
     "metadata": {},
     "output_type": "display_data"
    },
    {
     "name": "stdout",
     "output_type": "stream",
     "text": [
      "\r",
      "Breaking Tie for cell-level: [('wkd_cas_mean.csv', 'hdy_cas_mean.csv', 0.07142857142857142), ('wkd_reg_mean.csv', 'hdy_reg_mean.csv', 0.07142857142857142)]\n",
      "Multiple Overlap candidates:  [('wkd_cas_mean.csv', 'hdy_cas_mean.csv', 0), ('wkd_reg_mean.csv', 'hdy_reg_mean.csv', 0)]\n",
      "Adding edge wkd_reg_mean.csv hdy_reg_mean.csv 0.07142857142857142\n"
     ]
    },
    {
     "data": {
      "application/vnd.jupyter.widget-view+json": {
       "model_id": "",
       "version_major": 2,
       "version_minor": 0
      },
      "text/plain": [
       "HBox(children=(FloatProgress(value=0.0, description='graph pairs', max=6.0, style=ProgressStyle(description_wi…"
      ]
     },
     "metadata": {},
     "output_type": "display_data"
    },
    {
     "name": "stdout",
     "output_type": "stream",
     "text": [
      "\r",
      "Breaking Tie for cell-level: [('hdy_reg_mean.csv', 'days.csv', 0.03337893296853625), ('hdy_cas_mean.csv', 'days.csv', 0.03337893296853625)]\n",
      "Multiple Overlap candidates:  [('hdy_reg_mean.csv', 'days.csv', 1), ('hdy_cas_mean.csv', 'days.csv', 1)]\n",
      "Adding edge hdy_cas_mean.csv days.csv 0.03337893296853625\n"
     ]
    },
    {
     "data": {
      "text/plain": [
       "<Figure size 3600x3600 with 0 Axes>"
      ]
     },
     "metadata": {},
     "output_type": "display_data"
    }
   ],
   "source": [
    "result, im_frames = agglomerative.lineage_inference_agglomerative(base_dir=RESULT_DIR, nb_name=selected_nb, \n",
    "                                                                      pre_cluster='PC2',\n",
    "                                                                 intra_cell_threshold=0.0001,\n",
    "                                                                 inter_cell_threshold=0.0001, draw=True)"
   ]
  },
  {
   "cell_type": "code",
   "execution_count": 41,
   "metadata": {},
   "outputs": [
    {
     "data": {
      "text/html": [
       "<div>\n",
       "<style scoped>\n",
       "    .dataframe tbody tr th:only-of-type {\n",
       "        vertical-align: middle;\n",
       "    }\n",
       "\n",
       "    .dataframe tbody tr th {\n",
       "        vertical-align: top;\n",
       "    }\n",
       "\n",
       "    .dataframe thead th {\n",
       "        text-align: right;\n",
       "    }\n",
       "</style>\n",
       "<table border=\"1\" class=\"dataframe\">\n",
       "  <thead>\n",
       "    <tr style=\"text-align: right;\">\n",
       "      <th></th>\n",
       "      <th>nb_name</th>\n",
       "      <th>rows</th>\n",
       "      <th>columns</th>\n",
       "      <th>artifacts</th>\n",
       "      <th>index</th>\n",
       "      <th>numclusters</th>\n",
       "      <th>distance_metric</th>\n",
       "      <th>edges_correct</th>\n",
       "      <th>edges_missing</th>\n",
       "      <th>edges_to_remove</th>\n",
       "      <th>join_edges</th>\n",
       "      <th>precision</th>\n",
       "      <th>recall</th>\n",
       "      <th>F1</th>\n",
       "      <th>missing_files</th>\n",
       "      <th>time</th>\n",
       "      <th>pre_cluster</th>\n",
       "    </tr>\n",
       "  </thead>\n",
       "  <tbody>\n",
       "    <tr>\n",
       "      <th>0</th>\n",
       "      <td>nb_705941.ipynb</td>\n",
       "      <td>731</td>\n",
       "      <td>16</td>\n",
       "      <td>7</td>\n",
       "      <td>False</td>\n",
       "      <td>7</td>\n",
       "      <td>cell_mst</td>\n",
       "      <td>0</td>\n",
       "      <td>6</td>\n",
       "      <td>0</td>\n",
       "      <td>NaN</td>\n",
       "      <td>0.000000</td>\n",
       "      <td>0.000000</td>\n",
       "      <td>0.000000</td>\n",
       "      <td>0</td>\n",
       "      <td>1.437053</td>\n",
       "      <td>PC2</td>\n",
       "    </tr>\n",
       "    <tr>\n",
       "      <th>1</th>\n",
       "      <td>nb_705941.ipynb</td>\n",
       "      <td>731</td>\n",
       "      <td>16</td>\n",
       "      <td>7</td>\n",
       "      <td>False</td>\n",
       "      <td>7</td>\n",
       "      <td>cell_mst</td>\n",
       "      <td>0</td>\n",
       "      <td>6</td>\n",
       "      <td>1</td>\n",
       "      <td>NaN</td>\n",
       "      <td>0.000000</td>\n",
       "      <td>0.000000</td>\n",
       "      <td>0.000000</td>\n",
       "      <td>0</td>\n",
       "      <td>4.272968</td>\n",
       "      <td>PC2</td>\n",
       "    </tr>\n",
       "    <tr>\n",
       "      <th>2</th>\n",
       "      <td>nb_705941.ipynb</td>\n",
       "      <td>731</td>\n",
       "      <td>16</td>\n",
       "      <td>7</td>\n",
       "      <td>False</td>\n",
       "      <td>7</td>\n",
       "      <td>cell_mst</td>\n",
       "      <td>0</td>\n",
       "      <td>6</td>\n",
       "      <td>2</td>\n",
       "      <td>NaN</td>\n",
       "      <td>0.000000</td>\n",
       "      <td>0.000000</td>\n",
       "      <td>0.000000</td>\n",
       "      <td>0</td>\n",
       "      <td>6.938071</td>\n",
       "      <td>PC2</td>\n",
       "    </tr>\n",
       "    <tr>\n",
       "      <th>3</th>\n",
       "      <td>nb_705941.ipynb</td>\n",
       "      <td>731</td>\n",
       "      <td>16</td>\n",
       "      <td>7</td>\n",
       "      <td>False</td>\n",
       "      <td>7</td>\n",
       "      <td>cell_mst</td>\n",
       "      <td>0</td>\n",
       "      <td>6</td>\n",
       "      <td>3</td>\n",
       "      <td>NaN</td>\n",
       "      <td>0.000000</td>\n",
       "      <td>0.000000</td>\n",
       "      <td>0.000000</td>\n",
       "      <td>0</td>\n",
       "      <td>9.556713</td>\n",
       "      <td>PC2</td>\n",
       "    </tr>\n",
       "    <tr>\n",
       "      <th>4</th>\n",
       "      <td>nb_705941.ipynb</td>\n",
       "      <td>731</td>\n",
       "      <td>16</td>\n",
       "      <td>7</td>\n",
       "      <td>False</td>\n",
       "      <td>7</td>\n",
       "      <td>cell_mst</td>\n",
       "      <td>0</td>\n",
       "      <td>6</td>\n",
       "      <td>4</td>\n",
       "      <td>NaN</td>\n",
       "      <td>0.000000</td>\n",
       "      <td>0.000000</td>\n",
       "      <td>0.000000</td>\n",
       "      <td>0</td>\n",
       "      <td>12.092870</td>\n",
       "      <td>PC2</td>\n",
       "    </tr>\n",
       "    <tr>\n",
       "      <th>5</th>\n",
       "      <td>nb_705941.ipynb</td>\n",
       "      <td>731</td>\n",
       "      <td>16</td>\n",
       "      <td>7</td>\n",
       "      <td>False</td>\n",
       "      <td>7</td>\n",
       "      <td>cell_mst</td>\n",
       "      <td>0</td>\n",
       "      <td>6</td>\n",
       "      <td>5</td>\n",
       "      <td>NaN</td>\n",
       "      <td>0.000000</td>\n",
       "      <td>0.000000</td>\n",
       "      <td>0.000000</td>\n",
       "      <td>0</td>\n",
       "      <td>14.621837</td>\n",
       "      <td>PC2</td>\n",
       "    </tr>\n",
       "    <tr>\n",
       "      <th>6</th>\n",
       "      <td>nb_705941.ipynb</td>\n",
       "      <td>731</td>\n",
       "      <td>16</td>\n",
       "      <td>7</td>\n",
       "      <td>False</td>\n",
       "      <td>7</td>\n",
       "      <td>cell_mst</td>\n",
       "      <td>1</td>\n",
       "      <td>5</td>\n",
       "      <td>5</td>\n",
       "      <td>NaN</td>\n",
       "      <td>0.166667</td>\n",
       "      <td>0.166667</td>\n",
       "      <td>0.166667</td>\n",
       "      <td>0</td>\n",
       "      <td>17.107012</td>\n",
       "      <td>PC2</td>\n",
       "    </tr>\n",
       "  </tbody>\n",
       "</table>\n",
       "</div>"
      ],
      "text/plain": [
       "           nb_name rows columns artifacts  index numclusters distance_metric  \\\n",
       "0  nb_705941.ipynb  731      16         7  False           7        cell_mst   \n",
       "1  nb_705941.ipynb  731      16         7  False           7        cell_mst   \n",
       "2  nb_705941.ipynb  731      16         7  False           7        cell_mst   \n",
       "3  nb_705941.ipynb  731      16         7  False           7        cell_mst   \n",
       "4  nb_705941.ipynb  731      16         7  False           7        cell_mst   \n",
       "5  nb_705941.ipynb  731      16         7  False           7        cell_mst   \n",
       "6  nb_705941.ipynb  731      16         7  False           7        cell_mst   \n",
       "\n",
       "  edges_correct edges_missing edges_to_remove  join_edges  precision  \\\n",
       "0             0             6               0         NaN   0.000000   \n",
       "1             0             6               1         NaN   0.000000   \n",
       "2             0             6               2         NaN   0.000000   \n",
       "3             0             6               3         NaN   0.000000   \n",
       "4             0             6               4         NaN   0.000000   \n",
       "5             0             6               5         NaN   0.000000   \n",
       "6             1             5               5         NaN   0.166667   \n",
       "\n",
       "     recall        F1 missing_files       time pre_cluster  \n",
       "0  0.000000  0.000000             0   1.437053         PC2  \n",
       "1  0.000000  0.000000             0   4.272968         PC2  \n",
       "2  0.000000  0.000000             0   6.938071         PC2  \n",
       "3  0.000000  0.000000             0   9.556713         PC2  \n",
       "4  0.000000  0.000000             0  12.092870         PC2  \n",
       "5  0.000000  0.000000             0  14.621837         PC2  \n",
       "6  0.166667  0.166667             0  17.107012         PC2  "
      ]
     },
     "execution_count": 41,
     "metadata": {},
     "output_type": "execute_result"
    }
   ],
   "source": [
    "result"
   ]
  },
  {
   "cell_type": "code",
   "execution_count": 42,
   "metadata": {},
   "outputs": [
    {
     "data": {
      "image/png": "[encoded data removed]",
      "text/plain": [
       "<PIL.PngImagePlugin.PngImageFile image mode=RGBA size=3600x3600 at 0x7FA7D150B8D0>"
      ]
     },
     "execution_count": 42,
     "metadata": {},
     "output_type": "execute_result"
    }
   ],
   "source": [
    "im_frames[-1]"
   ]
  },
  {
   "cell_type": "code",
   "execution_count": 10,
   "metadata": {},
   "outputs": [],
   "source": [
    "import numpy as np\n",
    "import itertools\n",
    "from tqdm.autonotebook import tqdm\n",
    "\n",
    "def common_columns(df1,df2):\n",
    "    return set(df1).intersection(set(df2))\n",
    "\n",
    "def get_col_valset(df):\n",
    "    for col in set(df):\n",
    "        yield col, set(df[col].values)\n",
    "\n",
    "def compute_df_pair_features(df1,df2, df1_value_set_dict=None, df2_value_set_dict=None):\n",
    "    common_cols = set(df1).intersection(set(df2))\n",
    "    \n",
    "    if not df1_value_set_dict:\n",
    "        df1_value_set_dict = {name:valset for name, valset in get_col_valset(df1)}\n",
    "    if not df2_value_set_dict:\n",
    "        df2_value_set_dict = {name:valset for name, valset in get_col_valset(df2)}\n",
    "    \n",
    "    cell_jaccard = similarity.compute_jaccard_DF(df1,df2)\n",
    "    col_jaccard = similarity.compute_col_jaccard_DF(df1,df2) #TODO: Use value set\n",
    "    valset_jaccard  = similarity.compute_valset_similarity(df1,df2)\n",
    "    ivalset_jaccard  = similarity.compute_indexed_valset_similarity(df1,df2)\n",
    "    colvalset_jaccard  = similarity.compute_indexed_colvalset_similarity(df1,df2)\n",
    "    cellvalset_jaccard  = similarity.compute_indexed_cellvalset_similarity(df1,df2)\n",
    "    \n",
    "    containment_scores  = [similarity.set_max_containment(df1_value_set_dict[col], \n",
    "                                                          df2_value_set_dict[col]) for col in common_cols]\n",
    "    \n",
    "    #Uniqueness computation\n",
    "    unique_cols = 0\n",
    "    contraction_ratios = []\n",
    "    for col in common_cols:\n",
    "        rows_not_equal = len(df1[col].values) != len(df2[col].values)\n",
    "        df1_unique = len(df1_value_set_dict[col]) == len(df1[col])\n",
    "        df2_unique = len(df2_value_set_dict[col]) == len(df2[col])\n",
    "        \n",
    "        df1_subset = df1_value_set_dict[col].issubset(df2_value_set_dict[col])\n",
    "        df2_subset = df2_value_set_dict[col].issubset(df1_value_set_dict[col])\n",
    "        \n",
    "        if rows_not_equal and (df1_unique or df2_unique) and (df1_subset or df2_subset):\n",
    "            unique_cols += 1\n",
    "            numerator, denominator = max(len(df1[col]), len(df2[col])), min(len(df1[col]), len(df2[col]))\n",
    "            contraction_ratios.append(numerator/denominator)\n",
    "    \n",
    "    result = {\n",
    "        'common_cols' : len(common_cols),\n",
    "        'cell_jaccard' : cell_jaccard,\n",
    "        'col_jaccard' : col_jaccard,\n",
    "        'valset_jaccard' : valset_jaccard,\n",
    "        'rowvalset_jaccard' : ivalset_jaccard,\n",
    "        'colvalset_jaccard': colvalset_jaccard,\n",
    "        'cellvalset_jaccard': cellvalset_jaccard,\n",
    "        'unique_cols': unique_cols,\n",
    "    }\n",
    "    \n",
    "    if containment_scores:\n",
    "        result.update({\n",
    "            'max_containment' : max(containment_scores),\n",
    "            'avg_containment' : np.average(containment_scores),\n",
    "            'min_containment' : min(containment_scores),\n",
    "        })\n",
    "        \n",
    "    if contraction_ratios:\n",
    "        result.update({\n",
    "            'max_contraction' : max(contraction_ratios),\n",
    "            'avg_contraction' : np.average(contraction_ratios),\n",
    "            'min_contraction' : min(contraction_ratios), \n",
    "        })\n",
    "        \n",
    "    \n",
    "    return result\n",
    "\n",
    "def get_all_node_pair_scores(dataset, gt_graph):\n",
    "    pairwise_scores = []\n",
    "    pairs = list(itertools.combinations(dataset.keys(), 2))\n",
    "    df_value_dicts = {}\n",
    "    for d1, d2 in tqdm(pairs, desc='graph pairs', leave=False):\n",
    "        if d1 not in df_value_dicts.keys():\n",
    "            df_value_dicts[d1] = {name:valset for name, valset in get_col_valset(dataset[d1])}\n",
    "        if d2 not in df_value_dicts.keys():\n",
    "            df_value_dicts[d2] = {name:valset for name, valset in get_col_valset(dataset[d2])}\n",
    "        \n",
    "        result = compute_df_pair_features(dataset[d1], dataset[d2], df1_value_set_dict=df_value_dicts[d1], \n",
    "                                          df2_value_set_dict=df_value_dicts[d2])\n",
    "        \n",
    "        gt = False\n",
    "        \n",
    "        if gt_graph.has_edge(d1, d2):\n",
    "            result['operation'] = gt_graph[d1][d2]['operation']\n",
    "            result['source'] = d1\n",
    "            result['dest'] = d2\n",
    "            gt=True\n",
    "        elif gt_graph.has_edge(d2, d1):\n",
    "            result['operation'] = gt_graph[d2][d1]['operation']\n",
    "            result['source'] = d2\n",
    "            result['dest'] = d1\n",
    "            gt=True\n",
    "        else:\n",
    "            result['source'] = d1\n",
    "            result['dest'] = d2\n",
    "            gt=False\n",
    "     \n",
    "        result['ground_truth'] = gt\n",
    "        pairwise_scores.append(result)\n",
    "\n",
    "    return pairwise_scores"
   ]
  },
  {
   "cell_type": "code",
   "execution_count": 11,
   "metadata": {},
   "outputs": [
    {
     "ename": "NameError",
     "evalue": "name 'dataframes' is not defined",
     "output_type": "error",
     "traceback": [
      "\u001b[0;31m---------------------------------------------------------------------------\u001b[0m",
      "\u001b[0;31mNameError\u001b[0m                                 Traceback (most recent call last)",
      "\u001b[0;32m<ipython-input-11-9a6d15cbe0e4>\u001b[0m in \u001b[0;36m<module>\u001b[0;34m\u001b[0m\n\u001b[1;32m      6\u001b[0m     \u001b[0mprint\u001b[0m\u001b[0;34m(\u001b[0m\u001b[0mcompute_df_pair_features\u001b[0m\u001b[0;34m(\u001b[0m\u001b[0mselected_df1\u001b[0m\u001b[0;34m,\u001b[0m\u001b[0mselected_df2\u001b[0m\u001b[0;34m)\u001b[0m\u001b[0;34m)\u001b[0m\u001b[0;34m\u001b[0m\u001b[0;34m\u001b[0m\u001b[0m\n\u001b[1;32m      7\u001b[0m \u001b[0;34m\u001b[0m\u001b[0m\n\u001b[0;32m----> 8\u001b[0;31m \u001b[0mim\u001b[0m \u001b[0;34m=\u001b[0m \u001b[0mipywidgets\u001b[0m\u001b[0;34m.\u001b[0m\u001b[0minteract_manual\u001b[0m\u001b[0;34m(\u001b[0m\u001b[0mcompare_dataframes\u001b[0m\u001b[0;34m,\u001b[0m \u001b[0mdf1\u001b[0m\u001b[0;34m=\u001b[0m\u001b[0mdataframes\u001b[0m\u001b[0;34m,\u001b[0m \u001b[0mdf2\u001b[0m\u001b[0;34m=\u001b[0m\u001b[0mdataframes\u001b[0m\u001b[0;34m)\u001b[0m\u001b[0;34m\u001b[0m\u001b[0;34m\u001b[0m\u001b[0m\n\u001b[0m",
      "\u001b[0;31mNameError\u001b[0m: name 'dataframes' is not defined"
     ]
    }
   ],
   "source": [
    "def compare_dataframes(df1, df2):\n",
    "    selected_df1 = pd.read_csv(artifact_dir+df1, index_col=0)\n",
    "    selected_df2 = pd.read_csv(artifact_dir+df2, index_col=0)\n",
    "    display(selected_df1.head())\n",
    "    display(selected_df2.head())\n",
    "    print(compute_df_pair_features(selected_df1,selected_df2))\n",
    "\n",
    "im = ipywidgets.interact_manual(compare_dataframes, df1=dataframes, df2=dataframes)"
   ]
  },
  {
   "cell_type": "code",
   "execution_count": 15,
   "metadata": {},
   "outputs": [],
   "source": [
    "from pyvis.network import Network\n",
    "import pandas as pd\n",
    "from networkx.drawing.nx_agraph import graphviz_layout\n",
    "from matplotlib.colors import to_hex\n",
    "import matplotlib.pyplot as plt\n",
    "\n",
    "def get_edge_color(e1,e2, g_truth, g_inferred):\n",
    "    in_g_truth = False\n",
    "    in_inferred = False\n",
    "    if g_truth.has_edge(e1,e2) or g_truth.has_edge(e2,e1):\n",
    "        in_g_truth = True\n",
    "    if g_inferred.has_edge(e1,e2) or g_inferred.has_edge(e2,e1):\n",
    "        in_inferred = True\n",
    "        \n",
    "    if in_g_truth and in_inferred:\n",
    "        return 'green'\n",
    "    elif in_inferred: \n",
    "        return 'red'\n",
    "    elif in_g_truth:\n",
    "        return 'black'\n",
    "    else:\n",
    "        return '#D3D3D3'\n",
    "\n",
    "def draw_interactive_graph(RESULT_DIR, selected_nb, metric='cell', weight='cell_jaccard', cached=True):\n",
    "    # , bgcolor=\"#222222\", font_color=\"white\",\n",
    "    nb_net = Network(height=\"750px\", width=\"100%\",  notebook=True)\n",
    "\n",
    "    g = graphs.get_graph(RESULT_DIR, selected_nb)\n",
    "    g_inferred = graphs.get_graph_edge_list(RESULT_DIR, selected_nb, metric)\n",
    "    df_dict = similarity.load_dataset_dir(RESULT_DIR+selected_nb+'/artifacts/', '*.csv', index_col=0)\n",
    "\n",
    "    if os.path.exists(RESULT_DIR+selected_nb+'/pairwise_metrics.csv') and cached:\n",
    "        nb_data = pd.read_csv(RESULT_DIR+selected_nb+'/pairwise_metrics.csv', index_col=0)\n",
    "    else:\n",
    "        nb_data = pd.DataFrame(get_all_node_pair_scores(df_dict, g))\n",
    "    \n",
    "    #print(df_dict)\n",
    "\n",
    "\n",
    "    if '0.csv' not in df_dict:\n",
    "        try:\n",
    "            root_node = [x for x in nx.topological_sort(g)][0] #TODO: Check more than one root issues\n",
    "        except nx.exception.NetworkXUnfeasible as e:\n",
    "            print(\"ERROR: Cycle in Graph\")\n",
    "            root_node = list(df_dict.keys())[0]\n",
    "            pass\n",
    "    else:\n",
    "        root_node = '0.csv'\n",
    "\n",
    "    pos = graphviz_layout(g, root=root_node, prog='dot')\n",
    "\n",
    "    # Cluster Coloring\n",
    "    cluster_dict = clustering.get_graph_clusters(RESULT_DIR+selected_nb+'/inferred/'+'clusters_with_filename.csv')\n",
    "\n",
    "    cmap = plt.cm.Dark2(np.linspace(0,1,len(set(cluster_dict.values()))))\n",
    "    node_color = {e: to_hex(cmap[cluster_dict[e]]) for e in g.nodes()}\n",
    "    \n",
    "    sources = nb_data['source']\n",
    "    targets = nb_data['dest']\n",
    "    weights = nb_data[weight]\n",
    "\n",
    "    edge_data = zip(sources, targets, weights)\n",
    "\n",
    "    for e in edge_data:\n",
    "        src = e[0]\n",
    "        dst = e[1]\n",
    "        w = e[2]\n",
    "\n",
    "        # Edge Coloring\n",
    "        edge_color = get_edge_color(e[0],e[1], g, g_inferred)\n",
    "        \n",
    "        edge_number = get_edge_number(e[0],e[1],g_inferred)\n",
    "\n",
    "        hover_dict = nb_data.loc[(nb_data.source == src) & (nb_data.dest == dst)].to_dict('records')[0]\n",
    "        hover_string = \"<br>\".join([str(k)+\" : \"+str(v) for k,v in hover_dict.items()])\n",
    "        \n",
    "        \n",
    "\n",
    "        src_node_hover_html = df_dict[src].head().to_html() + \"<br> Rows:\"+ str(len(df_dict[src])) + \" Columns:\" + str(len(set(df_dict[src])))\n",
    "        dst_node_hover_html = df_dict[dst].head().to_html() + \"<br> Rows:\"+ str(len(df_dict[dst])) + \" Columns:\" + str(len(set(df_dict[dst])))\n",
    "        nb_net.add_node(src, src, x=pos[src][0], y=pos[src][1], physics=False, title=src_node_hover_html, color=node_color[src])\n",
    "        nb_net.add_node(dst, dst, x=pos[dst][0], y=pos[dst][1], physics=False, title=dst_node_hover_html, color=node_color[dst])\n",
    "\n",
    "        # Edge Coloring\n",
    "        if edge_number is not None:\n",
    "            nb_net.add_edge(src, dst, value=w, title=hover_string, physics=False, color=edge_color, label=edge_number)\n",
    "        else:\n",
    "            nb_net.add_edge(src, dst, value=w, title=hover_string, physics=False, color=edge_color)\n",
    "\n",
    "\n",
    "    return nb_net\n",
    "    \n"
   ]
  },
  {
   "cell_type": "code",
   "execution_count": 13,
   "metadata": {},
   "outputs": [
    {
     "ename": "FileNotFoundError",
     "evalue": "[Errno 2] No such file or directory: '/home/suhail/Projects/sample_workflows/million_notebooks/selected/london-crime/inferred/infered_mst_pc2cellcol.csv'",
     "output_type": "error",
     "traceback": [
      "\u001b[0;31m---------------------------------------------------------------------------\u001b[0m",
      "\u001b[0;31mFileNotFoundError\u001b[0m                         Traceback (most recent call last)",
      "\u001b[0;32m<ipython-input-13-72d84e7b92cd>\u001b[0m in \u001b[0;36m<module>\u001b[0;34m\u001b[0m\n\u001b[0;32m----> 1\u001b[0;31m \u001b[0mg_inferred\u001b[0m \u001b[0;34m=\u001b[0m \u001b[0mgraphs\u001b[0m\u001b[0;34m.\u001b[0m\u001b[0mget_graph_edge_list\u001b[0m\u001b[0;34m(\u001b[0m\u001b[0mRESULT_DIR\u001b[0m\u001b[0;34m,\u001b[0m\u001b[0mselected_nb\u001b[0m\u001b[0;34m,\u001b[0m\u001b[0;34m'pc2cellcol'\u001b[0m\u001b[0;34m)\u001b[0m\u001b[0;34m\u001b[0m\u001b[0;34m\u001b[0m\u001b[0m\n\u001b[0m\u001b[1;32m      2\u001b[0m \u001b[0mg_inferred\u001b[0m\u001b[0;34m.\u001b[0m\u001b[0medges\u001b[0m\u001b[0;34m(\u001b[0m\u001b[0mdata\u001b[0m\u001b[0;34m=\u001b[0m\u001b[0;32mTrue\u001b[0m\u001b[0;34m)\u001b[0m\u001b[0;34m\u001b[0m\u001b[0;34m\u001b[0m\u001b[0m\n",
      "\u001b[0;32m~/Projects/relic/primitives/python/lineage/graphs.py\u001b[0m in \u001b[0;36mget_graph_edge_list\u001b[0;34m(base_dir, nb_name, metric)\u001b[0m\n\u001b[1;32m    102\u001b[0m     \u001b[0mresult_file\u001b[0m \u001b[0;34m=\u001b[0m \u001b[0mbase_dir\u001b[0m\u001b[0;34m+\u001b[0m\u001b[0mnb_name\u001b[0m\u001b[0;34m+\u001b[0m\u001b[0;34m'/inferred/infered_mst_'\u001b[0m\u001b[0;34m+\u001b[0m\u001b[0mmetric\u001b[0m\u001b[0;34m+\u001b[0m\u001b[0;34m'.csv'\u001b[0m\u001b[0;34m\u001b[0m\u001b[0;34m\u001b[0m\u001b[0m\n\u001b[1;32m    103\u001b[0m     \u001b[0;31m#return nx.read_edgelist(result_file, delimiter=',', data=(('weight', float),))\u001b[0m\u001b[0;34m\u001b[0m\u001b[0;34m\u001b[0m\u001b[0;34m\u001b[0m\u001b[0m\n\u001b[0;32m--> 104\u001b[0;31m     \u001b[0;32mreturn\u001b[0m \u001b[0mnx\u001b[0m\u001b[0;34m.\u001b[0m\u001b[0mread_edgelist\u001b[0m\u001b[0;34m(\u001b[0m\u001b[0mresult_file\u001b[0m\u001b[0;34m)\u001b[0m\u001b[0;34m\u001b[0m\u001b[0;34m\u001b[0m\u001b[0m\n\u001b[0m\u001b[1;32m    105\u001b[0m \u001b[0;34m\u001b[0m\u001b[0m\n\u001b[1;32m    106\u001b[0m \u001b[0;32mdef\u001b[0m \u001b[0mget_distance_matrix\u001b[0m\u001b[0;34m(\u001b[0m\u001b[0mbase_dir\u001b[0m\u001b[0;34m,\u001b[0m \u001b[0mnb_name\u001b[0m\u001b[0;34m,\u001b[0m \u001b[0mmetric\u001b[0m\u001b[0;34m)\u001b[0m\u001b[0;34m:\u001b[0m\u001b[0;34m\u001b[0m\u001b[0;34m\u001b[0m\u001b[0m\n",
      "\u001b[0;32m</home/suhail/anaconda3/envs/relic/lib/python3.7/site-packages/decorator.py:decorator-gen-742>\u001b[0m in \u001b[0;36mread_edgelist\u001b[0;34m(path, comments, delimiter, create_using, nodetype, data, edgetype, encoding)\u001b[0m\n",
      "\u001b[0;32m~/anaconda3/envs/relic/lib/python3.7/site-packages/networkx/utils/decorators.py\u001b[0m in \u001b[0;36m_open_file\u001b[0;34m(func_to_be_decorated, *args, **kwargs)\u001b[0m\n\u001b[1;32m    212\u001b[0m         \u001b[0;32mif\u001b[0m \u001b[0mis_string_like\u001b[0m\u001b[0;34m(\u001b[0m\u001b[0mpath\u001b[0m\u001b[0;34m)\u001b[0m\u001b[0;34m:\u001b[0m\u001b[0;34m\u001b[0m\u001b[0;34m\u001b[0m\u001b[0m\n\u001b[1;32m    213\u001b[0m             \u001b[0mext\u001b[0m \u001b[0;34m=\u001b[0m \u001b[0msplitext\u001b[0m\u001b[0;34m(\u001b[0m\u001b[0mpath\u001b[0m\u001b[0;34m)\u001b[0m\u001b[0;34m[\u001b[0m\u001b[0;36m1\u001b[0m\u001b[0;34m]\u001b[0m\u001b[0;34m\u001b[0m\u001b[0;34m\u001b[0m\u001b[0m\n\u001b[0;32m--> 214\u001b[0;31m             \u001b[0mfobj\u001b[0m \u001b[0;34m=\u001b[0m \u001b[0m_dispatch_dict\u001b[0m\u001b[0;34m[\u001b[0m\u001b[0mext\u001b[0m\u001b[0;34m]\u001b[0m\u001b[0;34m(\u001b[0m\u001b[0mpath\u001b[0m\u001b[0;34m,\u001b[0m \u001b[0mmode\u001b[0m\u001b[0;34m=\u001b[0m\u001b[0mmode\u001b[0m\u001b[0;34m)\u001b[0m\u001b[0;34m\u001b[0m\u001b[0;34m\u001b[0m\u001b[0m\n\u001b[0m\u001b[1;32m    215\u001b[0m             \u001b[0mclose_fobj\u001b[0m \u001b[0;34m=\u001b[0m \u001b[0;32mTrue\u001b[0m\u001b[0;34m\u001b[0m\u001b[0;34m\u001b[0m\u001b[0m\n\u001b[1;32m    216\u001b[0m         \u001b[0;32melif\u001b[0m \u001b[0mhasattr\u001b[0m\u001b[0;34m(\u001b[0m\u001b[0mpath\u001b[0m\u001b[0;34m,\u001b[0m \u001b[0;34m'read'\u001b[0m\u001b[0;34m)\u001b[0m\u001b[0;34m:\u001b[0m\u001b[0;34m\u001b[0m\u001b[0;34m\u001b[0m\u001b[0m\n",
      "\u001b[0;31mFileNotFoundError\u001b[0m: [Errno 2] No such file or directory: '/home/suhail/Projects/sample_workflows/million_notebooks/selected/london-crime/inferred/infered_mst_pc2cellcol.csv'"
     ]
    }
   ],
   "source": [
    "g_inferred = graphs.get_graph_edge_list(RESULT_DIR,selected_nb,'pc2cellcol')\n",
    "g_inferred.edges(data=True)"
   ]
  },
  {
   "cell_type": "code",
   "execution_count": null,
   "metadata": {},
   "outputs": [],
   "source": []
  },
  {
   "cell_type": "code",
   "execution_count": 14,
   "metadata": {},
   "outputs": [],
   "source": [
    "def get_edge_number(e1,e2, g_inferred):\n",
    "    if g_inferred.has_edge(e1,e2) and 'num' in g_inferred[e1][e2]:\n",
    "        return g_inferred[e1][e2]['num']\n",
    "    elif g_inferred.has_edge(e2,e1) and 'num' in g_inferred[e2][e1]:\n",
    "        return g_inferred[e2][e1]['num']\n",
    "    return None\n",
    "   "
   ]
  },
  {
   "cell_type": "code",
   "execution_count": 10,
   "metadata": {},
   "outputs": [
    {
     "ename": "TypeError",
     "evalue": "can only concatenate str (not \"NoneType\") to str",
     "output_type": "error",
     "traceback": [
      "\u001b[0;31m---------------------------------------------------------------------------\u001b[0m",
      "\u001b[0;31mTypeError\u001b[0m                                 Traceback (most recent call last)",
      "\u001b[0;32m<ipython-input-10-78da4746f45d>\u001b[0m in \u001b[0;36m<module>\u001b[0;34m\u001b[0m\n\u001b[0;32m----> 1\u001b[0;31m \u001b[0mcluster_dict\u001b[0m \u001b[0;34m=\u001b[0m \u001b[0mclustering\u001b[0m\u001b[0;34m.\u001b[0m\u001b[0mget_graph_clusters\u001b[0m\u001b[0;34m(\u001b[0m\u001b[0mRESULT_DIR\u001b[0m\u001b[0;34m+\u001b[0m\u001b[0mselected_nb\u001b[0m\u001b[0;34m+\u001b[0m\u001b[0;34m'/inferred/'\u001b[0m\u001b[0;34m+\u001b[0m\u001b[0;34m'clusters_with_filename.csv'\u001b[0m\u001b[0;34m)\u001b[0m\u001b[0;34m\u001b[0m\u001b[0;34m\u001b[0m\u001b[0m\n\u001b[0m\u001b[1;32m      2\u001b[0m \u001b[0mcluster_dict\u001b[0m\u001b[0;34m\u001b[0m\u001b[0;34m\u001b[0m\u001b[0m\n",
      "\u001b[0;31mTypeError\u001b[0m: can only concatenate str (not \"NoneType\") to str"
     ]
    }
   ],
   "source": [
    "cluster_dict = clustering.get_graph_clusters(RESULT_DIR+selected_nb+'/inferred/'+'clusters_with_filename.csv')\n",
    "cluster_dict"
   ]
  },
  {
   "cell_type": "code",
   "execution_count": 11,
   "metadata": {},
   "outputs": [
    {
     "ename": "TypeError",
     "evalue": "can only concatenate str (not \"NoneType\") to str",
     "output_type": "error",
     "traceback": [
      "\u001b[0;31m---------------------------------------------------------------------------\u001b[0m",
      "\u001b[0;31mTypeError\u001b[0m                                 Traceback (most recent call last)",
      "\u001b[0;32m<ipython-input-11-dafabc22a0b1>\u001b[0m in \u001b[0;36m<module>\u001b[0;34m\u001b[0m\n\u001b[0;32m----> 1\u001b[0;31m \u001b[0mdf_dict\u001b[0m \u001b[0;34m=\u001b[0m \u001b[0msimilarity\u001b[0m\u001b[0;34m.\u001b[0m\u001b[0mload_dataset_dir\u001b[0m\u001b[0;34m(\u001b[0m\u001b[0mRESULT_DIR\u001b[0m\u001b[0;34m+\u001b[0m\u001b[0mselected_nb\u001b[0m\u001b[0;34m+\u001b[0m\u001b[0;34m'/artifacts/'\u001b[0m\u001b[0;34m,\u001b[0m \u001b[0;34m'*.csv'\u001b[0m\u001b[0;34m,\u001b[0m \u001b[0mindex_col\u001b[0m\u001b[0;34m=\u001b[0m\u001b[0;36m0\u001b[0m\u001b[0;34m)\u001b[0m\u001b[0;34m\u001b[0m\u001b[0;34m\u001b[0m\u001b[0m\n\u001b[0m\u001b[1;32m      2\u001b[0m \u001b[0mdf_dict\u001b[0m\u001b[0;34m.\u001b[0m\u001b[0mkeys\u001b[0m\u001b[0;34m(\u001b[0m\u001b[0;34m)\u001b[0m\u001b[0;34m\u001b[0m\u001b[0;34m\u001b[0m\u001b[0m\n",
      "\u001b[0;31mTypeError\u001b[0m: can only concatenate str (not \"NoneType\") to str"
     ]
    }
   ],
   "source": [
    "df_dict = similarity.load_dataset_dir(RESULT_DIR+selected_nb+'/artifacts/', '*.csv', index_col=0)\n",
    "df_dict.keys()"
   ]
  },
  {
   "cell_type": "code",
   "execution_count": 12,
   "metadata": {},
   "outputs": [
    {
     "ename": "SyntaxError",
     "evalue": "invalid syntax (<ipython-input-12-822e1ca1e71b>, line 9)",
     "output_type": "error",
     "traceback": [
      "\u001b[0;36m  File \u001b[0;32m\"<ipython-input-12-822e1ca1e71b>\"\u001b[0;36m, line \u001b[0;32m9\u001b[0m\n\u001b[0;31m    if df1.index.name or len(set(df.index):\u001b[0m\n\u001b[0m                                          ^\u001b[0m\n\u001b[0;31mSyntaxError\u001b[0m\u001b[0;31m:\u001b[0m invalid syntax\n"
     ]
    }
   ],
   "source": [
    "def compute_col_jaccard_DF(df1,df2):\n",
    "\n",
    "    # Empty DF check\n",
    "\n",
    "    # fill NaN values in df1, df2 to some token val\n",
    "    df1 = df1.fillna('jac_tmp_NA')\n",
    "    df2 = df2.fillna('jac_tmp_NA')\n",
    "    \n",
    "    if df1.index.name or len(set(df.index):\n",
    "        print(\"df1 reset\")\n",
    "        df1 = df1.reset_index()\n",
    "    if df2.index.name:\n",
    "        print(\"df2 reset\")\n",
    "        df2 = df2.reset_index()\n",
    "\n",
    "    common_cols = set(df1).intersection(set(df2))\n",
    "\n",
    "    if(len(common_cols) == 0):\n",
    "        return 0.0\n",
    "\n",
    "\n",
    "    common_cols_jaccard = []\n",
    "\n",
    "    # Check common cols and print True/False\n",
    "    for col in common_cols:\n",
    "        try:\n",
    "            common_cols_jaccard.append(similarity.set_jaccard_similarity(set(df1[col].values), set(df2[col].values)))\n",
    "        except Exception as e:\n",
    "            print(col)\n",
    "            print(similarity.set_jaccard_similarity(set(df1[col].values), set(df2[col].values)))\n",
    "            raise e\n",
    "\n",
    "    # return np.average(common_cols_jaccard)\n",
    "    return np.sum(common_cols_jaccard) / len(set(df1).union(set(df2)))"
   ]
  },
  {
   "cell_type": "code",
   "execution_count": 7,
   "metadata": {},
   "outputs": [],
   "source": [
    "df_dict = similarity.load_dataset_dir(RESULT_DIR+selected_nb+'/artifacts/', '*.csv', index_col=0)\n"
   ]
  },
  {
   "cell_type": "code",
   "execution_count": 27,
   "metadata": {},
   "outputs": [],
   "source": [
    "def compute_jaccard_DF(df1,df2, pk_col_name=None, reindex=True, column_match=True):\n",
    "\n",
    "    # fill NaN values in df1, df2 to some token val\n",
    "    df1 = df1.fillna('jac_tmp_NA')\n",
    "    df2 = df2.fillna('jac_tmp_NA')\n",
    "\n",
    "    try:\n",
    "        df3 = df1.merge(df2, how='outer', left_index=True, right_index=True, suffixes=['_jac_tmp_1','_jac_tmp_2'])\n",
    "    except TypeError as e:\n",
    "        # print(\"Can't Merge\")\n",
    "        return 0\n",
    "\n",
    "    # Get set of column column names:\n",
    "    comparison_cols = set(col for col in df3.columns if'_jac_tmp_' in str(col))\n",
    "    common_cols = set(col.split('_jac_tmp_',1)[0] for col in comparison_cols)\n",
    "\n",
    "    if(len(common_cols) == 0):\n",
    "        return 0\n",
    "\n",
    "    # Get set of non-common columns:\n",
    "    uniq_cols = set(col for col in df3.columns if'_jac_tmp_' not in str(col))\n",
    "    if(pk_col_name):\n",
    "        uniq_cols.remove(pk_col_name)\n",
    "\n",
    "    # Check common cols and print True/False\n",
    "    for col in common_cols:\n",
    "        left = col+'_jac_tmp_1'\n",
    "        right = col+'_jac_tmp_2'\n",
    "        df3[col] = df3[left] == df3[right]\n",
    "\n",
    "    # Unique columns are already false\n",
    "    for col in uniq_cols:\n",
    "        df3[col] = False\n",
    "\n",
    "    #Drop superflous columns\n",
    "    df3 = df3.drop(columns=comparison_cols)\n",
    "    if(pk_col_name):\n",
    "        df3 = df3.drop(columns=[pk_col_name])\n",
    "\n",
    "    # Compute Jaccard Similarity\n",
    "    #intersection = np.sum(np.sum(df3))\n",
    "    #union = df3.size\n",
    "    return df3 #float(intersection) / union\n"
   ]
  },
  {
   "cell_type": "code",
   "execution_count": 28,
   "metadata": {},
   "outputs": [
    {
     "data": {
      "text/html": [
       "<div>\n",
       "<style scoped>\n",
       "    .dataframe tbody tr th:only-of-type {\n",
       "        vertical-align: middle;\n",
       "    }\n",
       "\n",
       "    .dataframe tbody tr th {\n",
       "        vertical-align: top;\n",
       "    }\n",
       "\n",
       "    .dataframe thead th {\n",
       "        text-align: right;\n",
       "    }\n",
       "</style>\n",
       "<table border=\"1\" class=\"dataframe\">\n",
       "  <thead>\n",
       "    <tr style=\"text-align: right;\">\n",
       "      <th></th>\n",
       "      <th>contributor_firstname</th>\n",
       "      <th>ocd_prop_id</th>\n",
       "      <th>ccdc_prop_id</th>\n",
       "      <th>contributor_city</th>\n",
       "      <th>committee_name_x</th>\n",
       "      <th>prop_name</th>\n",
       "      <th>committee_position</th>\n",
       "      <th>contributor_state</th>\n",
       "      <th>committee_name_y</th>\n",
       "      <th>calaccess_prop_id</th>\n",
       "      <th>amount</th>\n",
       "      <th>calaccess_filing_id</th>\n",
       "      <th>contributor_zip</th>\n",
       "      <th>contributor_lastname</th>\n",
       "      <th>date_received</th>\n",
       "      <th>contributor_is_self_employed</th>\n",
       "      <th>contributor_occupation</th>\n",
       "      <th>ccdc_committee_id</th>\n",
       "      <th>calaccess_committee_id</th>\n",
       "      <th>contributor_employer</th>\n",
       "    </tr>\n",
       "  </thead>\n",
       "  <tbody>\n",
       "    <tr>\n",
       "      <th>4</th>\n",
       "      <td>False</td>\n",
       "      <td>False</td>\n",
       "      <td>False</td>\n",
       "      <td>False</td>\n",
       "      <td>False</td>\n",
       "      <td>False</td>\n",
       "      <td>False</td>\n",
       "      <td>False</td>\n",
       "      <td>False</td>\n",
       "      <td>False</td>\n",
       "      <td>False</td>\n",
       "      <td>False</td>\n",
       "      <td>False</td>\n",
       "      <td>False</td>\n",
       "      <td>False</td>\n",
       "      <td>False</td>\n",
       "      <td>False</td>\n",
       "      <td>False</td>\n",
       "      <td>False</td>\n",
       "      <td>False</td>\n",
       "    </tr>\n",
       "    <tr>\n",
       "      <th>5</th>\n",
       "      <td>False</td>\n",
       "      <td>False</td>\n",
       "      <td>False</td>\n",
       "      <td>False</td>\n",
       "      <td>False</td>\n",
       "      <td>False</td>\n",
       "      <td>False</td>\n",
       "      <td>False</td>\n",
       "      <td>False</td>\n",
       "      <td>False</td>\n",
       "      <td>False</td>\n",
       "      <td>False</td>\n",
       "      <td>False</td>\n",
       "      <td>False</td>\n",
       "      <td>False</td>\n",
       "      <td>False</td>\n",
       "      <td>False</td>\n",
       "      <td>False</td>\n",
       "      <td>False</td>\n",
       "      <td>False</td>\n",
       "    </tr>\n",
       "    <tr>\n",
       "      <th>9</th>\n",
       "      <td>False</td>\n",
       "      <td>False</td>\n",
       "      <td>False</td>\n",
       "      <td>False</td>\n",
       "      <td>False</td>\n",
       "      <td>False</td>\n",
       "      <td>False</td>\n",
       "      <td>False</td>\n",
       "      <td>False</td>\n",
       "      <td>False</td>\n",
       "      <td>False</td>\n",
       "      <td>False</td>\n",
       "      <td>False</td>\n",
       "      <td>False</td>\n",
       "      <td>False</td>\n",
       "      <td>False</td>\n",
       "      <td>False</td>\n",
       "      <td>False</td>\n",
       "      <td>False</td>\n",
       "      <td>False</td>\n",
       "    </tr>\n",
       "    <tr>\n",
       "      <th>20</th>\n",
       "      <td>False</td>\n",
       "      <td>False</td>\n",
       "      <td>False</td>\n",
       "      <td>False</td>\n",
       "      <td>False</td>\n",
       "      <td>False</td>\n",
       "      <td>False</td>\n",
       "      <td>False</td>\n",
       "      <td>False</td>\n",
       "      <td>False</td>\n",
       "      <td>False</td>\n",
       "      <td>False</td>\n",
       "      <td>False</td>\n",
       "      <td>False</td>\n",
       "      <td>False</td>\n",
       "      <td>False</td>\n",
       "      <td>False</td>\n",
       "      <td>False</td>\n",
       "      <td>False</td>\n",
       "      <td>False</td>\n",
       "    </tr>\n",
       "    <tr>\n",
       "      <th>44</th>\n",
       "      <td>False</td>\n",
       "      <td>False</td>\n",
       "      <td>False</td>\n",
       "      <td>False</td>\n",
       "      <td>False</td>\n",
       "      <td>False</td>\n",
       "      <td>False</td>\n",
       "      <td>False</td>\n",
       "      <td>False</td>\n",
       "      <td>False</td>\n",
       "      <td>False</td>\n",
       "      <td>False</td>\n",
       "      <td>False</td>\n",
       "      <td>False</td>\n",
       "      <td>False</td>\n",
       "      <td>False</td>\n",
       "      <td>False</td>\n",
       "      <td>False</td>\n",
       "      <td>False</td>\n",
       "      <td>False</td>\n",
       "    </tr>\n",
       "    <tr>\n",
       "      <th>52</th>\n",
       "      <td>False</td>\n",
       "      <td>False</td>\n",
       "      <td>False</td>\n",
       "      <td>False</td>\n",
       "      <td>False</td>\n",
       "      <td>False</td>\n",
       "      <td>False</td>\n",
       "      <td>False</td>\n",
       "      <td>False</td>\n",
       "      <td>False</td>\n",
       "      <td>False</td>\n",
       "      <td>False</td>\n",
       "      <td>False</td>\n",
       "      <td>False</td>\n",
       "      <td>False</td>\n",
       "      <td>False</td>\n",
       "      <td>False</td>\n",
       "      <td>False</td>\n",
       "      <td>False</td>\n",
       "      <td>False</td>\n",
       "    </tr>\n",
       "    <tr>\n",
       "      <th>57</th>\n",
       "      <td>False</td>\n",
       "      <td>False</td>\n",
       "      <td>False</td>\n",
       "      <td>False</td>\n",
       "      <td>False</td>\n",
       "      <td>False</td>\n",
       "      <td>False</td>\n",
       "      <td>False</td>\n",
       "      <td>False</td>\n",
       "      <td>False</td>\n",
       "      <td>False</td>\n",
       "      <td>False</td>\n",
       "      <td>False</td>\n",
       "      <td>False</td>\n",
       "      <td>False</td>\n",
       "      <td>False</td>\n",
       "      <td>False</td>\n",
       "      <td>False</td>\n",
       "      <td>False</td>\n",
       "      <td>False</td>\n",
       "    </tr>\n",
       "    <tr>\n",
       "      <th>61</th>\n",
       "      <td>False</td>\n",
       "      <td>False</td>\n",
       "      <td>False</td>\n",
       "      <td>False</td>\n",
       "      <td>False</td>\n",
       "      <td>False</td>\n",
       "      <td>False</td>\n",
       "      <td>False</td>\n",
       "      <td>False</td>\n",
       "      <td>False</td>\n",
       "      <td>False</td>\n",
       "      <td>False</td>\n",
       "      <td>False</td>\n",
       "      <td>False</td>\n",
       "      <td>False</td>\n",
       "      <td>False</td>\n",
       "      <td>False</td>\n",
       "      <td>False</td>\n",
       "      <td>False</td>\n",
       "      <td>False</td>\n",
       "    </tr>\n",
       "    <tr>\n",
       "      <th>62</th>\n",
       "      <td>False</td>\n",
       "      <td>False</td>\n",
       "      <td>False</td>\n",
       "      <td>False</td>\n",
       "      <td>False</td>\n",
       "      <td>False</td>\n",
       "      <td>False</td>\n",
       "      <td>False</td>\n",
       "      <td>False</td>\n",
       "      <td>False</td>\n",
       "      <td>False</td>\n",
       "      <td>False</td>\n",
       "      <td>False</td>\n",
       "      <td>False</td>\n",
       "      <td>False</td>\n",
       "      <td>False</td>\n",
       "      <td>False</td>\n",
       "      <td>False</td>\n",
       "      <td>False</td>\n",
       "      <td>False</td>\n",
       "    </tr>\n",
       "    <tr>\n",
       "      <th>63</th>\n",
       "      <td>False</td>\n",
       "      <td>False</td>\n",
       "      <td>False</td>\n",
       "      <td>False</td>\n",
       "      <td>False</td>\n",
       "      <td>False</td>\n",
       "      <td>False</td>\n",
       "      <td>False</td>\n",
       "      <td>False</td>\n",
       "      <td>False</td>\n",
       "      <td>False</td>\n",
       "      <td>False</td>\n",
       "      <td>False</td>\n",
       "      <td>False</td>\n",
       "      <td>False</td>\n",
       "      <td>False</td>\n",
       "      <td>False</td>\n",
       "      <td>False</td>\n",
       "      <td>False</td>\n",
       "      <td>False</td>\n",
       "    </tr>\n",
       "    <tr>\n",
       "      <th>106</th>\n",
       "      <td>False</td>\n",
       "      <td>False</td>\n",
       "      <td>False</td>\n",
       "      <td>False</td>\n",
       "      <td>False</td>\n",
       "      <td>False</td>\n",
       "      <td>False</td>\n",
       "      <td>False</td>\n",
       "      <td>False</td>\n",
       "      <td>False</td>\n",
       "      <td>False</td>\n",
       "      <td>False</td>\n",
       "      <td>False</td>\n",
       "      <td>False</td>\n",
       "      <td>False</td>\n",
       "      <td>False</td>\n",
       "      <td>False</td>\n",
       "      <td>False</td>\n",
       "      <td>False</td>\n",
       "      <td>False</td>\n",
       "    </tr>\n",
       "    <tr>\n",
       "      <th>134</th>\n",
       "      <td>False</td>\n",
       "      <td>False</td>\n",
       "      <td>False</td>\n",
       "      <td>False</td>\n",
       "      <td>False</td>\n",
       "      <td>False</td>\n",
       "      <td>False</td>\n",
       "      <td>False</td>\n",
       "      <td>False</td>\n",
       "      <td>False</td>\n",
       "      <td>False</td>\n",
       "      <td>False</td>\n",
       "      <td>False</td>\n",
       "      <td>False</td>\n",
       "      <td>False</td>\n",
       "      <td>False</td>\n",
       "      <td>False</td>\n",
       "      <td>False</td>\n",
       "      <td>False</td>\n",
       "      <td>False</td>\n",
       "    </tr>\n",
       "    <tr>\n",
       "      <th>135</th>\n",
       "      <td>False</td>\n",
       "      <td>False</td>\n",
       "      <td>False</td>\n",
       "      <td>False</td>\n",
       "      <td>False</td>\n",
       "      <td>False</td>\n",
       "      <td>False</td>\n",
       "      <td>False</td>\n",
       "      <td>False</td>\n",
       "      <td>False</td>\n",
       "      <td>False</td>\n",
       "      <td>False</td>\n",
       "      <td>False</td>\n",
       "      <td>False</td>\n",
       "      <td>False</td>\n",
       "      <td>False</td>\n",
       "      <td>False</td>\n",
       "      <td>False</td>\n",
       "      <td>False</td>\n",
       "      <td>False</td>\n",
       "    </tr>\n",
       "    <tr>\n",
       "      <th>151</th>\n",
       "      <td>False</td>\n",
       "      <td>False</td>\n",
       "      <td>False</td>\n",
       "      <td>False</td>\n",
       "      <td>False</td>\n",
       "      <td>False</td>\n",
       "      <td>False</td>\n",
       "      <td>False</td>\n",
       "      <td>False</td>\n",
       "      <td>False</td>\n",
       "      <td>False</td>\n",
       "      <td>False</td>\n",
       "      <td>False</td>\n",
       "      <td>False</td>\n",
       "      <td>False</td>\n",
       "      <td>False</td>\n",
       "      <td>False</td>\n",
       "      <td>False</td>\n",
       "      <td>False</td>\n",
       "      <td>False</td>\n",
       "    </tr>\n",
       "    <tr>\n",
       "      <th>155</th>\n",
       "      <td>False</td>\n",
       "      <td>False</td>\n",
       "      <td>False</td>\n",
       "      <td>False</td>\n",
       "      <td>False</td>\n",
       "      <td>False</td>\n",
       "      <td>False</td>\n",
       "      <td>False</td>\n",
       "      <td>False</td>\n",
       "      <td>False</td>\n",
       "      <td>False</td>\n",
       "      <td>False</td>\n",
       "      <td>False</td>\n",
       "      <td>False</td>\n",
       "      <td>False</td>\n",
       "      <td>False</td>\n",
       "      <td>False</td>\n",
       "      <td>False</td>\n",
       "      <td>False</td>\n",
       "      <td>False</td>\n",
       "    </tr>\n",
       "    <tr>\n",
       "      <th>156</th>\n",
       "      <td>False</td>\n",
       "      <td>False</td>\n",
       "      <td>False</td>\n",
       "      <td>False</td>\n",
       "      <td>False</td>\n",
       "      <td>False</td>\n",
       "      <td>False</td>\n",
       "      <td>False</td>\n",
       "      <td>False</td>\n",
       "      <td>False</td>\n",
       "      <td>False</td>\n",
       "      <td>False</td>\n",
       "      <td>False</td>\n",
       "      <td>False</td>\n",
       "      <td>False</td>\n",
       "      <td>False</td>\n",
       "      <td>False</td>\n",
       "      <td>False</td>\n",
       "      <td>False</td>\n",
       "      <td>False</td>\n",
       "    </tr>\n",
       "    <tr>\n",
       "      <th>175</th>\n",
       "      <td>False</td>\n",
       "      <td>False</td>\n",
       "      <td>False</td>\n",
       "      <td>False</td>\n",
       "      <td>False</td>\n",
       "      <td>False</td>\n",
       "      <td>False</td>\n",
       "      <td>False</td>\n",
       "      <td>False</td>\n",
       "      <td>False</td>\n",
       "      <td>False</td>\n",
       "      <td>False</td>\n",
       "      <td>False</td>\n",
       "      <td>False</td>\n",
       "      <td>False</td>\n",
       "      <td>False</td>\n",
       "      <td>False</td>\n",
       "      <td>False</td>\n",
       "      <td>False</td>\n",
       "      <td>False</td>\n",
       "    </tr>\n",
       "    <tr>\n",
       "      <th>177</th>\n",
       "      <td>False</td>\n",
       "      <td>False</td>\n",
       "      <td>False</td>\n",
       "      <td>False</td>\n",
       "      <td>False</td>\n",
       "      <td>False</td>\n",
       "      <td>False</td>\n",
       "      <td>False</td>\n",
       "      <td>False</td>\n",
       "      <td>False</td>\n",
       "      <td>False</td>\n",
       "      <td>False</td>\n",
       "      <td>False</td>\n",
       "      <td>False</td>\n",
       "      <td>False</td>\n",
       "      <td>False</td>\n",
       "      <td>False</td>\n",
       "      <td>False</td>\n",
       "      <td>False</td>\n",
       "      <td>False</td>\n",
       "    </tr>\n",
       "    <tr>\n",
       "      <th>187</th>\n",
       "      <td>False</td>\n",
       "      <td>False</td>\n",
       "      <td>False</td>\n",
       "      <td>False</td>\n",
       "      <td>False</td>\n",
       "      <td>False</td>\n",
       "      <td>False</td>\n",
       "      <td>False</td>\n",
       "      <td>False</td>\n",
       "      <td>False</td>\n",
       "      <td>False</td>\n",
       "      <td>False</td>\n",
       "      <td>False</td>\n",
       "      <td>False</td>\n",
       "      <td>False</td>\n",
       "      <td>False</td>\n",
       "      <td>False</td>\n",
       "      <td>False</td>\n",
       "      <td>False</td>\n",
       "      <td>False</td>\n",
       "    </tr>\n",
       "    <tr>\n",
       "      <th>205</th>\n",
       "      <td>False</td>\n",
       "      <td>False</td>\n",
       "      <td>False</td>\n",
       "      <td>False</td>\n",
       "      <td>False</td>\n",
       "      <td>False</td>\n",
       "      <td>False</td>\n",
       "      <td>False</td>\n",
       "      <td>False</td>\n",
       "      <td>False</td>\n",
       "      <td>False</td>\n",
       "      <td>False</td>\n",
       "      <td>False</td>\n",
       "      <td>False</td>\n",
       "      <td>False</td>\n",
       "      <td>False</td>\n",
       "      <td>False</td>\n",
       "      <td>False</td>\n",
       "      <td>False</td>\n",
       "      <td>False</td>\n",
       "    </tr>\n",
       "    <tr>\n",
       "      <th>206</th>\n",
       "      <td>False</td>\n",
       "      <td>False</td>\n",
       "      <td>False</td>\n",
       "      <td>False</td>\n",
       "      <td>False</td>\n",
       "      <td>False</td>\n",
       "      <td>False</td>\n",
       "      <td>False</td>\n",
       "      <td>False</td>\n",
       "      <td>False</td>\n",
       "      <td>False</td>\n",
       "      <td>False</td>\n",
       "      <td>False</td>\n",
       "      <td>False</td>\n",
       "      <td>False</td>\n",
       "      <td>False</td>\n",
       "      <td>False</td>\n",
       "      <td>False</td>\n",
       "      <td>False</td>\n",
       "      <td>False</td>\n",
       "    </tr>\n",
       "    <tr>\n",
       "      <th>214</th>\n",
       "      <td>False</td>\n",
       "      <td>False</td>\n",
       "      <td>False</td>\n",
       "      <td>False</td>\n",
       "      <td>False</td>\n",
       "      <td>False</td>\n",
       "      <td>False</td>\n",
       "      <td>False</td>\n",
       "      <td>False</td>\n",
       "      <td>False</td>\n",
       "      <td>False</td>\n",
       "      <td>False</td>\n",
       "      <td>False</td>\n",
       "      <td>False</td>\n",
       "      <td>False</td>\n",
       "      <td>False</td>\n",
       "      <td>False</td>\n",
       "      <td>False</td>\n",
       "      <td>False</td>\n",
       "      <td>False</td>\n",
       "    </tr>\n",
       "    <tr>\n",
       "      <th>231</th>\n",
       "      <td>False</td>\n",
       "      <td>False</td>\n",
       "      <td>False</td>\n",
       "      <td>False</td>\n",
       "      <td>False</td>\n",
       "      <td>False</td>\n",
       "      <td>False</td>\n",
       "      <td>False</td>\n",
       "      <td>False</td>\n",
       "      <td>False</td>\n",
       "      <td>False</td>\n",
       "      <td>False</td>\n",
       "      <td>False</td>\n",
       "      <td>False</td>\n",
       "      <td>False</td>\n",
       "      <td>False</td>\n",
       "      <td>False</td>\n",
       "      <td>False</td>\n",
       "      <td>False</td>\n",
       "      <td>False</td>\n",
       "    </tr>\n",
       "    <tr>\n",
       "      <th>237</th>\n",
       "      <td>False</td>\n",
       "      <td>False</td>\n",
       "      <td>False</td>\n",
       "      <td>False</td>\n",
       "      <td>False</td>\n",
       "      <td>False</td>\n",
       "      <td>False</td>\n",
       "      <td>False</td>\n",
       "      <td>False</td>\n",
       "      <td>False</td>\n",
       "      <td>False</td>\n",
       "      <td>False</td>\n",
       "      <td>False</td>\n",
       "      <td>False</td>\n",
       "      <td>False</td>\n",
       "      <td>False</td>\n",
       "      <td>False</td>\n",
       "      <td>False</td>\n",
       "      <td>False</td>\n",
       "      <td>False</td>\n",
       "    </tr>\n",
       "    <tr>\n",
       "      <th>240</th>\n",
       "      <td>False</td>\n",
       "      <td>False</td>\n",
       "      <td>False</td>\n",
       "      <td>False</td>\n",
       "      <td>False</td>\n",
       "      <td>False</td>\n",
       "      <td>False</td>\n",
       "      <td>False</td>\n",
       "      <td>False</td>\n",
       "      <td>False</td>\n",
       "      <td>False</td>\n",
       "      <td>False</td>\n",
       "      <td>False</td>\n",
       "      <td>False</td>\n",
       "      <td>False</td>\n",
       "      <td>False</td>\n",
       "      <td>False</td>\n",
       "      <td>False</td>\n",
       "      <td>False</td>\n",
       "      <td>False</td>\n",
       "    </tr>\n",
       "    <tr>\n",
       "      <th>244</th>\n",
       "      <td>False</td>\n",
       "      <td>False</td>\n",
       "      <td>False</td>\n",
       "      <td>False</td>\n",
       "      <td>False</td>\n",
       "      <td>False</td>\n",
       "      <td>False</td>\n",
       "      <td>False</td>\n",
       "      <td>False</td>\n",
       "      <td>False</td>\n",
       "      <td>False</td>\n",
       "      <td>False</td>\n",
       "      <td>False</td>\n",
       "      <td>False</td>\n",
       "      <td>False</td>\n",
       "      <td>False</td>\n",
       "      <td>False</td>\n",
       "      <td>False</td>\n",
       "      <td>False</td>\n",
       "      <td>False</td>\n",
       "    </tr>\n",
       "    <tr>\n",
       "      <th>246</th>\n",
       "      <td>False</td>\n",
       "      <td>False</td>\n",
       "      <td>False</td>\n",
       "      <td>False</td>\n",
       "      <td>False</td>\n",
       "      <td>False</td>\n",
       "      <td>False</td>\n",
       "      <td>False</td>\n",
       "      <td>False</td>\n",
       "      <td>False</td>\n",
       "      <td>False</td>\n",
       "      <td>False</td>\n",
       "      <td>False</td>\n",
       "      <td>False</td>\n",
       "      <td>False</td>\n",
       "      <td>False</td>\n",
       "      <td>False</td>\n",
       "      <td>False</td>\n",
       "      <td>False</td>\n",
       "      <td>False</td>\n",
       "    </tr>\n",
       "    <tr>\n",
       "      <th>251</th>\n",
       "      <td>False</td>\n",
       "      <td>False</td>\n",
       "      <td>False</td>\n",
       "      <td>False</td>\n",
       "      <td>False</td>\n",
       "      <td>False</td>\n",
       "      <td>False</td>\n",
       "      <td>False</td>\n",
       "      <td>False</td>\n",
       "      <td>False</td>\n",
       "      <td>False</td>\n",
       "      <td>False</td>\n",
       "      <td>False</td>\n",
       "      <td>False</td>\n",
       "      <td>False</td>\n",
       "      <td>False</td>\n",
       "      <td>False</td>\n",
       "      <td>False</td>\n",
       "      <td>False</td>\n",
       "      <td>False</td>\n",
       "    </tr>\n",
       "    <tr>\n",
       "      <th>252</th>\n",
       "      <td>False</td>\n",
       "      <td>False</td>\n",
       "      <td>False</td>\n",
       "      <td>False</td>\n",
       "      <td>False</td>\n",
       "      <td>False</td>\n",
       "      <td>False</td>\n",
       "      <td>False</td>\n",
       "      <td>False</td>\n",
       "      <td>False</td>\n",
       "      <td>False</td>\n",
       "      <td>False</td>\n",
       "      <td>False</td>\n",
       "      <td>False</td>\n",
       "      <td>False</td>\n",
       "      <td>False</td>\n",
       "      <td>False</td>\n",
       "      <td>False</td>\n",
       "      <td>False</td>\n",
       "      <td>False</td>\n",
       "    </tr>\n",
       "    <tr>\n",
       "      <th>253</th>\n",
       "      <td>False</td>\n",
       "      <td>False</td>\n",
       "      <td>False</td>\n",
       "      <td>False</td>\n",
       "      <td>False</td>\n",
       "      <td>False</td>\n",
       "      <td>False</td>\n",
       "      <td>False</td>\n",
       "      <td>False</td>\n",
       "      <td>False</td>\n",
       "      <td>False</td>\n",
       "      <td>False</td>\n",
       "      <td>False</td>\n",
       "      <td>False</td>\n",
       "      <td>False</td>\n",
       "      <td>False</td>\n",
       "      <td>False</td>\n",
       "      <td>False</td>\n",
       "      <td>False</td>\n",
       "      <td>False</td>\n",
       "    </tr>\n",
       "    <tr>\n",
       "      <th>...</th>\n",
       "      <td>...</td>\n",
       "      <td>...</td>\n",
       "      <td>...</td>\n",
       "      <td>...</td>\n",
       "      <td>...</td>\n",
       "      <td>...</td>\n",
       "      <td>...</td>\n",
       "      <td>...</td>\n",
       "      <td>...</td>\n",
       "      <td>...</td>\n",
       "      <td>...</td>\n",
       "      <td>...</td>\n",
       "      <td>...</td>\n",
       "      <td>...</td>\n",
       "      <td>...</td>\n",
       "      <td>...</td>\n",
       "      <td>...</td>\n",
       "      <td>...</td>\n",
       "      <td>...</td>\n",
       "      <td>...</td>\n",
       "    </tr>\n",
       "    <tr>\n",
       "      <th>698</th>\n",
       "      <td>False</td>\n",
       "      <td>False</td>\n",
       "      <td>False</td>\n",
       "      <td>False</td>\n",
       "      <td>False</td>\n",
       "      <td>False</td>\n",
       "      <td>False</td>\n",
       "      <td>False</td>\n",
       "      <td>False</td>\n",
       "      <td>False</td>\n",
       "      <td>False</td>\n",
       "      <td>False</td>\n",
       "      <td>False</td>\n",
       "      <td>False</td>\n",
       "      <td>False</td>\n",
       "      <td>False</td>\n",
       "      <td>False</td>\n",
       "      <td>False</td>\n",
       "      <td>False</td>\n",
       "      <td>False</td>\n",
       "    </tr>\n",
       "    <tr>\n",
       "      <th>702</th>\n",
       "      <td>False</td>\n",
       "      <td>False</td>\n",
       "      <td>False</td>\n",
       "      <td>False</td>\n",
       "      <td>False</td>\n",
       "      <td>False</td>\n",
       "      <td>False</td>\n",
       "      <td>False</td>\n",
       "      <td>False</td>\n",
       "      <td>False</td>\n",
       "      <td>False</td>\n",
       "      <td>False</td>\n",
       "      <td>False</td>\n",
       "      <td>False</td>\n",
       "      <td>False</td>\n",
       "      <td>False</td>\n",
       "      <td>False</td>\n",
       "      <td>False</td>\n",
       "      <td>False</td>\n",
       "      <td>False</td>\n",
       "    </tr>\n",
       "    <tr>\n",
       "      <th>711</th>\n",
       "      <td>False</td>\n",
       "      <td>False</td>\n",
       "      <td>False</td>\n",
       "      <td>False</td>\n",
       "      <td>False</td>\n",
       "      <td>False</td>\n",
       "      <td>False</td>\n",
       "      <td>False</td>\n",
       "      <td>False</td>\n",
       "      <td>False</td>\n",
       "      <td>False</td>\n",
       "      <td>False</td>\n",
       "      <td>False</td>\n",
       "      <td>False</td>\n",
       "      <td>False</td>\n",
       "      <td>False</td>\n",
       "      <td>False</td>\n",
       "      <td>False</td>\n",
       "      <td>False</td>\n",
       "      <td>False</td>\n",
       "    </tr>\n",
       "    <tr>\n",
       "      <th>721</th>\n",
       "      <td>False</td>\n",
       "      <td>False</td>\n",
       "      <td>False</td>\n",
       "      <td>False</td>\n",
       "      <td>False</td>\n",
       "      <td>False</td>\n",
       "      <td>False</td>\n",
       "      <td>False</td>\n",
       "      <td>False</td>\n",
       "      <td>False</td>\n",
       "      <td>False</td>\n",
       "      <td>False</td>\n",
       "      <td>False</td>\n",
       "      <td>False</td>\n",
       "      <td>False</td>\n",
       "      <td>False</td>\n",
       "      <td>False</td>\n",
       "      <td>False</td>\n",
       "      <td>False</td>\n",
       "      <td>False</td>\n",
       "    </tr>\n",
       "    <tr>\n",
       "      <th>727</th>\n",
       "      <td>False</td>\n",
       "      <td>False</td>\n",
       "      <td>False</td>\n",
       "      <td>False</td>\n",
       "      <td>False</td>\n",
       "      <td>False</td>\n",
       "      <td>False</td>\n",
       "      <td>False</td>\n",
       "      <td>False</td>\n",
       "      <td>False</td>\n",
       "      <td>False</td>\n",
       "      <td>False</td>\n",
       "      <td>False</td>\n",
       "      <td>False</td>\n",
       "      <td>False</td>\n",
       "      <td>False</td>\n",
       "      <td>False</td>\n",
       "      <td>False</td>\n",
       "      <td>False</td>\n",
       "      <td>False</td>\n",
       "    </tr>\n",
       "    <tr>\n",
       "      <th>731</th>\n",
       "      <td>False</td>\n",
       "      <td>False</td>\n",
       "      <td>False</td>\n",
       "      <td>False</td>\n",
       "      <td>False</td>\n",
       "      <td>False</td>\n",
       "      <td>False</td>\n",
       "      <td>False</td>\n",
       "      <td>False</td>\n",
       "      <td>False</td>\n",
       "      <td>False</td>\n",
       "      <td>False</td>\n",
       "      <td>False</td>\n",
       "      <td>False</td>\n",
       "      <td>False</td>\n",
       "      <td>False</td>\n",
       "      <td>False</td>\n",
       "      <td>False</td>\n",
       "      <td>False</td>\n",
       "      <td>False</td>\n",
       "    </tr>\n",
       "    <tr>\n",
       "      <th>767</th>\n",
       "      <td>False</td>\n",
       "      <td>False</td>\n",
       "      <td>False</td>\n",
       "      <td>False</td>\n",
       "      <td>False</td>\n",
       "      <td>False</td>\n",
       "      <td>False</td>\n",
       "      <td>False</td>\n",
       "      <td>False</td>\n",
       "      <td>False</td>\n",
       "      <td>False</td>\n",
       "      <td>False</td>\n",
       "      <td>False</td>\n",
       "      <td>False</td>\n",
       "      <td>False</td>\n",
       "      <td>False</td>\n",
       "      <td>False</td>\n",
       "      <td>False</td>\n",
       "      <td>False</td>\n",
       "      <td>False</td>\n",
       "    </tr>\n",
       "    <tr>\n",
       "      <th>796</th>\n",
       "      <td>False</td>\n",
       "      <td>False</td>\n",
       "      <td>False</td>\n",
       "      <td>False</td>\n",
       "      <td>False</td>\n",
       "      <td>False</td>\n",
       "      <td>False</td>\n",
       "      <td>False</td>\n",
       "      <td>False</td>\n",
       "      <td>False</td>\n",
       "      <td>False</td>\n",
       "      <td>False</td>\n",
       "      <td>False</td>\n",
       "      <td>False</td>\n",
       "      <td>False</td>\n",
       "      <td>False</td>\n",
       "      <td>False</td>\n",
       "      <td>False</td>\n",
       "      <td>False</td>\n",
       "      <td>False</td>\n",
       "    </tr>\n",
       "    <tr>\n",
       "      <th>835</th>\n",
       "      <td>True</td>\n",
       "      <td>True</td>\n",
       "      <td>True</td>\n",
       "      <td>True</td>\n",
       "      <td>True</td>\n",
       "      <td>True</td>\n",
       "      <td>True</td>\n",
       "      <td>True</td>\n",
       "      <td>True</td>\n",
       "      <td>True</td>\n",
       "      <td>True</td>\n",
       "      <td>True</td>\n",
       "      <td>False</td>\n",
       "      <td>True</td>\n",
       "      <td>True</td>\n",
       "      <td>True</td>\n",
       "      <td>True</td>\n",
       "      <td>True</td>\n",
       "      <td>True</td>\n",
       "      <td>True</td>\n",
       "    </tr>\n",
       "    <tr>\n",
       "      <th>836</th>\n",
       "      <td>True</td>\n",
       "      <td>True</td>\n",
       "      <td>True</td>\n",
       "      <td>True</td>\n",
       "      <td>True</td>\n",
       "      <td>True</td>\n",
       "      <td>True</td>\n",
       "      <td>True</td>\n",
       "      <td>True</td>\n",
       "      <td>True</td>\n",
       "      <td>True</td>\n",
       "      <td>True</td>\n",
       "      <td>False</td>\n",
       "      <td>True</td>\n",
       "      <td>True</td>\n",
       "      <td>True</td>\n",
       "      <td>True</td>\n",
       "      <td>True</td>\n",
       "      <td>True</td>\n",
       "      <td>True</td>\n",
       "    </tr>\n",
       "    <tr>\n",
       "      <th>837</th>\n",
       "      <td>True</td>\n",
       "      <td>True</td>\n",
       "      <td>True</td>\n",
       "      <td>True</td>\n",
       "      <td>True</td>\n",
       "      <td>True</td>\n",
       "      <td>True</td>\n",
       "      <td>True</td>\n",
       "      <td>True</td>\n",
       "      <td>True</td>\n",
       "      <td>True</td>\n",
       "      <td>True</td>\n",
       "      <td>False</td>\n",
       "      <td>True</td>\n",
       "      <td>True</td>\n",
       "      <td>True</td>\n",
       "      <td>True</td>\n",
       "      <td>True</td>\n",
       "      <td>True</td>\n",
       "      <td>True</td>\n",
       "    </tr>\n",
       "    <tr>\n",
       "      <th>838</th>\n",
       "      <td>True</td>\n",
       "      <td>True</td>\n",
       "      <td>True</td>\n",
       "      <td>True</td>\n",
       "      <td>True</td>\n",
       "      <td>True</td>\n",
       "      <td>True</td>\n",
       "      <td>True</td>\n",
       "      <td>True</td>\n",
       "      <td>True</td>\n",
       "      <td>True</td>\n",
       "      <td>True</td>\n",
       "      <td>False</td>\n",
       "      <td>True</td>\n",
       "      <td>True</td>\n",
       "      <td>True</td>\n",
       "      <td>True</td>\n",
       "      <td>True</td>\n",
       "      <td>True</td>\n",
       "      <td>True</td>\n",
       "    </tr>\n",
       "    <tr>\n",
       "      <th>839</th>\n",
       "      <td>True</td>\n",
       "      <td>True</td>\n",
       "      <td>True</td>\n",
       "      <td>True</td>\n",
       "      <td>True</td>\n",
       "      <td>True</td>\n",
       "      <td>True</td>\n",
       "      <td>True</td>\n",
       "      <td>True</td>\n",
       "      <td>True</td>\n",
       "      <td>True</td>\n",
       "      <td>True</td>\n",
       "      <td>False</td>\n",
       "      <td>True</td>\n",
       "      <td>True</td>\n",
       "      <td>True</td>\n",
       "      <td>True</td>\n",
       "      <td>True</td>\n",
       "      <td>True</td>\n",
       "      <td>True</td>\n",
       "    </tr>\n",
       "    <tr>\n",
       "      <th>840</th>\n",
       "      <td>False</td>\n",
       "      <td>False</td>\n",
       "      <td>False</td>\n",
       "      <td>False</td>\n",
       "      <td>False</td>\n",
       "      <td>False</td>\n",
       "      <td>False</td>\n",
       "      <td>False</td>\n",
       "      <td>False</td>\n",
       "      <td>False</td>\n",
       "      <td>False</td>\n",
       "      <td>False</td>\n",
       "      <td>False</td>\n",
       "      <td>False</td>\n",
       "      <td>False</td>\n",
       "      <td>False</td>\n",
       "      <td>False</td>\n",
       "      <td>False</td>\n",
       "      <td>False</td>\n",
       "      <td>False</td>\n",
       "    </tr>\n",
       "    <tr>\n",
       "      <th>843</th>\n",
       "      <td>False</td>\n",
       "      <td>False</td>\n",
       "      <td>False</td>\n",
       "      <td>False</td>\n",
       "      <td>False</td>\n",
       "      <td>False</td>\n",
       "      <td>False</td>\n",
       "      <td>False</td>\n",
       "      <td>False</td>\n",
       "      <td>False</td>\n",
       "      <td>False</td>\n",
       "      <td>False</td>\n",
       "      <td>False</td>\n",
       "      <td>False</td>\n",
       "      <td>False</td>\n",
       "      <td>False</td>\n",
       "      <td>False</td>\n",
       "      <td>False</td>\n",
       "      <td>False</td>\n",
       "      <td>False</td>\n",
       "    </tr>\n",
       "    <tr>\n",
       "      <th>844</th>\n",
       "      <td>False</td>\n",
       "      <td>False</td>\n",
       "      <td>False</td>\n",
       "      <td>False</td>\n",
       "      <td>False</td>\n",
       "      <td>False</td>\n",
       "      <td>False</td>\n",
       "      <td>False</td>\n",
       "      <td>False</td>\n",
       "      <td>False</td>\n",
       "      <td>False</td>\n",
       "      <td>False</td>\n",
       "      <td>False</td>\n",
       "      <td>False</td>\n",
       "      <td>False</td>\n",
       "      <td>False</td>\n",
       "      <td>False</td>\n",
       "      <td>False</td>\n",
       "      <td>False</td>\n",
       "      <td>False</td>\n",
       "    </tr>\n",
       "    <tr>\n",
       "      <th>845</th>\n",
       "      <td>False</td>\n",
       "      <td>False</td>\n",
       "      <td>False</td>\n",
       "      <td>False</td>\n",
       "      <td>False</td>\n",
       "      <td>False</td>\n",
       "      <td>False</td>\n",
       "      <td>False</td>\n",
       "      <td>False</td>\n",
       "      <td>False</td>\n",
       "      <td>False</td>\n",
       "      <td>False</td>\n",
       "      <td>False</td>\n",
       "      <td>False</td>\n",
       "      <td>False</td>\n",
       "      <td>False</td>\n",
       "      <td>False</td>\n",
       "      <td>False</td>\n",
       "      <td>False</td>\n",
       "      <td>False</td>\n",
       "    </tr>\n",
       "    <tr>\n",
       "      <th>846</th>\n",
       "      <td>False</td>\n",
       "      <td>False</td>\n",
       "      <td>False</td>\n",
       "      <td>False</td>\n",
       "      <td>False</td>\n",
       "      <td>False</td>\n",
       "      <td>False</td>\n",
       "      <td>False</td>\n",
       "      <td>False</td>\n",
       "      <td>False</td>\n",
       "      <td>False</td>\n",
       "      <td>False</td>\n",
       "      <td>False</td>\n",
       "      <td>False</td>\n",
       "      <td>False</td>\n",
       "      <td>False</td>\n",
       "      <td>False</td>\n",
       "      <td>False</td>\n",
       "      <td>False</td>\n",
       "      <td>False</td>\n",
       "    </tr>\n",
       "    <tr>\n",
       "      <th>848</th>\n",
       "      <td>False</td>\n",
       "      <td>False</td>\n",
       "      <td>False</td>\n",
       "      <td>False</td>\n",
       "      <td>False</td>\n",
       "      <td>False</td>\n",
       "      <td>False</td>\n",
       "      <td>False</td>\n",
       "      <td>False</td>\n",
       "      <td>False</td>\n",
       "      <td>False</td>\n",
       "      <td>False</td>\n",
       "      <td>False</td>\n",
       "      <td>False</td>\n",
       "      <td>False</td>\n",
       "      <td>False</td>\n",
       "      <td>False</td>\n",
       "      <td>False</td>\n",
       "      <td>False</td>\n",
       "      <td>False</td>\n",
       "    </tr>\n",
       "    <tr>\n",
       "      <th>849</th>\n",
       "      <td>False</td>\n",
       "      <td>False</td>\n",
       "      <td>False</td>\n",
       "      <td>False</td>\n",
       "      <td>False</td>\n",
       "      <td>False</td>\n",
       "      <td>False</td>\n",
       "      <td>False</td>\n",
       "      <td>False</td>\n",
       "      <td>False</td>\n",
       "      <td>False</td>\n",
       "      <td>False</td>\n",
       "      <td>False</td>\n",
       "      <td>False</td>\n",
       "      <td>False</td>\n",
       "      <td>False</td>\n",
       "      <td>False</td>\n",
       "      <td>False</td>\n",
       "      <td>False</td>\n",
       "      <td>False</td>\n",
       "    </tr>\n",
       "    <tr>\n",
       "      <th>850</th>\n",
       "      <td>False</td>\n",
       "      <td>False</td>\n",
       "      <td>False</td>\n",
       "      <td>False</td>\n",
       "      <td>False</td>\n",
       "      <td>False</td>\n",
       "      <td>False</td>\n",
       "      <td>False</td>\n",
       "      <td>False</td>\n",
       "      <td>False</td>\n",
       "      <td>False</td>\n",
       "      <td>False</td>\n",
       "      <td>False</td>\n",
       "      <td>False</td>\n",
       "      <td>False</td>\n",
       "      <td>False</td>\n",
       "      <td>False</td>\n",
       "      <td>False</td>\n",
       "      <td>False</td>\n",
       "      <td>False</td>\n",
       "    </tr>\n",
       "    <tr>\n",
       "      <th>851</th>\n",
       "      <td>False</td>\n",
       "      <td>False</td>\n",
       "      <td>False</td>\n",
       "      <td>False</td>\n",
       "      <td>False</td>\n",
       "      <td>False</td>\n",
       "      <td>False</td>\n",
       "      <td>False</td>\n",
       "      <td>False</td>\n",
       "      <td>False</td>\n",
       "      <td>False</td>\n",
       "      <td>False</td>\n",
       "      <td>False</td>\n",
       "      <td>False</td>\n",
       "      <td>False</td>\n",
       "      <td>False</td>\n",
       "      <td>False</td>\n",
       "      <td>False</td>\n",
       "      <td>False</td>\n",
       "      <td>False</td>\n",
       "    </tr>\n",
       "    <tr>\n",
       "      <th>852</th>\n",
       "      <td>False</td>\n",
       "      <td>False</td>\n",
       "      <td>False</td>\n",
       "      <td>False</td>\n",
       "      <td>False</td>\n",
       "      <td>False</td>\n",
       "      <td>False</td>\n",
       "      <td>False</td>\n",
       "      <td>False</td>\n",
       "      <td>False</td>\n",
       "      <td>False</td>\n",
       "      <td>False</td>\n",
       "      <td>False</td>\n",
       "      <td>False</td>\n",
       "      <td>False</td>\n",
       "      <td>False</td>\n",
       "      <td>False</td>\n",
       "      <td>False</td>\n",
       "      <td>False</td>\n",
       "      <td>False</td>\n",
       "    </tr>\n",
       "    <tr>\n",
       "      <th>853</th>\n",
       "      <td>False</td>\n",
       "      <td>False</td>\n",
       "      <td>False</td>\n",
       "      <td>False</td>\n",
       "      <td>False</td>\n",
       "      <td>False</td>\n",
       "      <td>False</td>\n",
       "      <td>False</td>\n",
       "      <td>False</td>\n",
       "      <td>False</td>\n",
       "      <td>False</td>\n",
       "      <td>False</td>\n",
       "      <td>False</td>\n",
       "      <td>False</td>\n",
       "      <td>False</td>\n",
       "      <td>False</td>\n",
       "      <td>False</td>\n",
       "      <td>False</td>\n",
       "      <td>False</td>\n",
       "      <td>False</td>\n",
       "    </tr>\n",
       "    <tr>\n",
       "      <th>854</th>\n",
       "      <td>False</td>\n",
       "      <td>False</td>\n",
       "      <td>False</td>\n",
       "      <td>False</td>\n",
       "      <td>False</td>\n",
       "      <td>False</td>\n",
       "      <td>False</td>\n",
       "      <td>False</td>\n",
       "      <td>False</td>\n",
       "      <td>False</td>\n",
       "      <td>False</td>\n",
       "      <td>False</td>\n",
       "      <td>False</td>\n",
       "      <td>False</td>\n",
       "      <td>False</td>\n",
       "      <td>False</td>\n",
       "      <td>False</td>\n",
       "      <td>False</td>\n",
       "      <td>False</td>\n",
       "      <td>False</td>\n",
       "    </tr>\n",
       "    <tr>\n",
       "      <th>855</th>\n",
       "      <td>False</td>\n",
       "      <td>False</td>\n",
       "      <td>False</td>\n",
       "      <td>False</td>\n",
       "      <td>False</td>\n",
       "      <td>False</td>\n",
       "      <td>False</td>\n",
       "      <td>False</td>\n",
       "      <td>False</td>\n",
       "      <td>False</td>\n",
       "      <td>False</td>\n",
       "      <td>False</td>\n",
       "      <td>False</td>\n",
       "      <td>False</td>\n",
       "      <td>False</td>\n",
       "      <td>False</td>\n",
       "      <td>False</td>\n",
       "      <td>False</td>\n",
       "      <td>False</td>\n",
       "      <td>False</td>\n",
       "    </tr>\n",
       "    <tr>\n",
       "      <th>856</th>\n",
       "      <td>True</td>\n",
       "      <td>True</td>\n",
       "      <td>True</td>\n",
       "      <td>True</td>\n",
       "      <td>True</td>\n",
       "      <td>True</td>\n",
       "      <td>True</td>\n",
       "      <td>True</td>\n",
       "      <td>True</td>\n",
       "      <td>True</td>\n",
       "      <td>True</td>\n",
       "      <td>True</td>\n",
       "      <td>False</td>\n",
       "      <td>True</td>\n",
       "      <td>True</td>\n",
       "      <td>True</td>\n",
       "      <td>True</td>\n",
       "      <td>True</td>\n",
       "      <td>True</td>\n",
       "      <td>True</td>\n",
       "    </tr>\n",
       "    <tr>\n",
       "      <th>857</th>\n",
       "      <td>False</td>\n",
       "      <td>False</td>\n",
       "      <td>False</td>\n",
       "      <td>False</td>\n",
       "      <td>False</td>\n",
       "      <td>False</td>\n",
       "      <td>False</td>\n",
       "      <td>False</td>\n",
       "      <td>False</td>\n",
       "      <td>False</td>\n",
       "      <td>False</td>\n",
       "      <td>False</td>\n",
       "      <td>False</td>\n",
       "      <td>False</td>\n",
       "      <td>False</td>\n",
       "      <td>False</td>\n",
       "      <td>False</td>\n",
       "      <td>False</td>\n",
       "      <td>False</td>\n",
       "      <td>False</td>\n",
       "    </tr>\n",
       "    <tr>\n",
       "      <th>858</th>\n",
       "      <td>True</td>\n",
       "      <td>True</td>\n",
       "      <td>True</td>\n",
       "      <td>True</td>\n",
       "      <td>True</td>\n",
       "      <td>True</td>\n",
       "      <td>True</td>\n",
       "      <td>True</td>\n",
       "      <td>True</td>\n",
       "      <td>True</td>\n",
       "      <td>True</td>\n",
       "      <td>True</td>\n",
       "      <td>False</td>\n",
       "      <td>True</td>\n",
       "      <td>True</td>\n",
       "      <td>True</td>\n",
       "      <td>True</td>\n",
       "      <td>True</td>\n",
       "      <td>True</td>\n",
       "      <td>True</td>\n",
       "    </tr>\n",
       "    <tr>\n",
       "      <th>859</th>\n",
       "      <td>True</td>\n",
       "      <td>True</td>\n",
       "      <td>True</td>\n",
       "      <td>True</td>\n",
       "      <td>True</td>\n",
       "      <td>True</td>\n",
       "      <td>True</td>\n",
       "      <td>True</td>\n",
       "      <td>True</td>\n",
       "      <td>True</td>\n",
       "      <td>True</td>\n",
       "      <td>True</td>\n",
       "      <td>False</td>\n",
       "      <td>True</td>\n",
       "      <td>True</td>\n",
       "      <td>True</td>\n",
       "      <td>True</td>\n",
       "      <td>True</td>\n",
       "      <td>True</td>\n",
       "      <td>True</td>\n",
       "    </tr>\n",
       "  </tbody>\n",
       "</table>\n",
       "<p>247 rows × 20 columns</p>\n",
       "</div>"
      ],
      "text/plain": [
       "     contributor_firstname  ocd_prop_id  ccdc_prop_id  contributor_city  \\\n",
       "4                    False        False         False             False   \n",
       "5                    False        False         False             False   \n",
       "9                    False        False         False             False   \n",
       "20                   False        False         False             False   \n",
       "44                   False        False         False             False   \n",
       "52                   False        False         False             False   \n",
       "57                   False        False         False             False   \n",
       "61                   False        False         False             False   \n",
       "62                   False        False         False             False   \n",
       "63                   False        False         False             False   \n",
       "106                  False        False         False             False   \n",
       "134                  False        False         False             False   \n",
       "135                  False        False         False             False   \n",
       "151                  False        False         False             False   \n",
       "155                  False        False         False             False   \n",
       "156                  False        False         False             False   \n",
       "175                  False        False         False             False   \n",
       "177                  False        False         False             False   \n",
       "187                  False        False         False             False   \n",
       "205                  False        False         False             False   \n",
       "206                  False        False         False             False   \n",
       "214                  False        False         False             False   \n",
       "231                  False        False         False             False   \n",
       "237                  False        False         False             False   \n",
       "240                  False        False         False             False   \n",
       "244                  False        False         False             False   \n",
       "246                  False        False         False             False   \n",
       "251                  False        False         False             False   \n",
       "252                  False        False         False             False   \n",
       "253                  False        False         False             False   \n",
       "..                     ...          ...           ...               ...   \n",
       "698                  False        False         False             False   \n",
       "702                  False        False         False             False   \n",
       "711                  False        False         False             False   \n",
       "721                  False        False         False             False   \n",
       "727                  False        False         False             False   \n",
       "731                  False        False         False             False   \n",
       "767                  False        False         False             False   \n",
       "796                  False        False         False             False   \n",
       "835                   True         True          True              True   \n",
       "836                   True         True          True              True   \n",
       "837                   True         True          True              True   \n",
       "838                   True         True          True              True   \n",
       "839                   True         True          True              True   \n",
       "840                  False        False         False             False   \n",
       "843                  False        False         False             False   \n",
       "844                  False        False         False             False   \n",
       "845                  False        False         False             False   \n",
       "846                  False        False         False             False   \n",
       "848                  False        False         False             False   \n",
       "849                  False        False         False             False   \n",
       "850                  False        False         False             False   \n",
       "851                  False        False         False             False   \n",
       "852                  False        False         False             False   \n",
       "853                  False        False         False             False   \n",
       "854                  False        False         False             False   \n",
       "855                  False        False         False             False   \n",
       "856                   True         True          True              True   \n",
       "857                  False        False         False             False   \n",
       "858                   True         True          True              True   \n",
       "859                   True         True          True              True   \n",
       "\n",
       "     committee_name_x  prop_name  committee_position  contributor_state  \\\n",
       "4               False      False               False              False   \n",
       "5               False      False               False              False   \n",
       "9               False      False               False              False   \n",
       "20              False      False               False              False   \n",
       "44              False      False               False              False   \n",
       "52              False      False               False              False   \n",
       "57              False      False               False              False   \n",
       "61              False      False               False              False   \n",
       "62              False      False               False              False   \n",
       "63              False      False               False              False   \n",
       "106             False      False               False              False   \n",
       "134             False      False               False              False   \n",
       "135             False      False               False              False   \n",
       "151             False      False               False              False   \n",
       "155             False      False               False              False   \n",
       "156             False      False               False              False   \n",
       "175             False      False               False              False   \n",
       "177             False      False               False              False   \n",
       "187             False      False               False              False   \n",
       "205             False      False               False              False   \n",
       "206             False      False               False              False   \n",
       "214             False      False               False              False   \n",
       "231             False      False               False              False   \n",
       "237             False      False               False              False   \n",
       "240             False      False               False              False   \n",
       "244             False      False               False              False   \n",
       "246             False      False               False              False   \n",
       "251             False      False               False              False   \n",
       "252             False      False               False              False   \n",
       "253             False      False               False              False   \n",
       "..                ...        ...                 ...                ...   \n",
       "698             False      False               False              False   \n",
       "702             False      False               False              False   \n",
       "711             False      False               False              False   \n",
       "721             False      False               False              False   \n",
       "727             False      False               False              False   \n",
       "731             False      False               False              False   \n",
       "767             False      False               False              False   \n",
       "796             False      False               False              False   \n",
       "835              True       True                True               True   \n",
       "836              True       True                True               True   \n",
       "837              True       True                True               True   \n",
       "838              True       True                True               True   \n",
       "839              True       True                True               True   \n",
       "840             False      False               False              False   \n",
       "843             False      False               False              False   \n",
       "844             False      False               False              False   \n",
       "845             False      False               False              False   \n",
       "846             False      False               False              False   \n",
       "848             False      False               False              False   \n",
       "849             False      False               False              False   \n",
       "850             False      False               False              False   \n",
       "851             False      False               False              False   \n",
       "852             False      False               False              False   \n",
       "853             False      False               False              False   \n",
       "854             False      False               False              False   \n",
       "855             False      False               False              False   \n",
       "856              True       True                True               True   \n",
       "857             False      False               False              False   \n",
       "858              True       True                True               True   \n",
       "859              True       True                True               True   \n",
       "\n",
       "     committee_name_y  calaccess_prop_id  amount  calaccess_filing_id  \\\n",
       "4               False              False   False                False   \n",
       "5               False              False   False                False   \n",
       "9               False              False   False                False   \n",
       "20              False              False   False                False   \n",
       "44              False              False   False                False   \n",
       "52              False              False   False                False   \n",
       "57              False              False   False                False   \n",
       "61              False              False   False                False   \n",
       "62              False              False   False                False   \n",
       "63              False              False   False                False   \n",
       "106             False              False   False                False   \n",
       "134             False              False   False                False   \n",
       "135             False              False   False                False   \n",
       "151             False              False   False                False   \n",
       "155             False              False   False                False   \n",
       "156             False              False   False                False   \n",
       "175             False              False   False                False   \n",
       "177             False              False   False                False   \n",
       "187             False              False   False                False   \n",
       "205             False              False   False                False   \n",
       "206             False              False   False                False   \n",
       "214             False              False   False                False   \n",
       "231             False              False   False                False   \n",
       "237             False              False   False                False   \n",
       "240             False              False   False                False   \n",
       "244             False              False   False                False   \n",
       "246             False              False   False                False   \n",
       "251             False              False   False                False   \n",
       "252             False              False   False                False   \n",
       "253             False              False   False                False   \n",
       "..                ...                ...     ...                  ...   \n",
       "698             False              False   False                False   \n",
       "702             False              False   False                False   \n",
       "711             False              False   False                False   \n",
       "721             False              False   False                False   \n",
       "727             False              False   False                False   \n",
       "731             False              False   False                False   \n",
       "767             False              False   False                False   \n",
       "796             False              False   False                False   \n",
       "835              True               True    True                 True   \n",
       "836              True               True    True                 True   \n",
       "837              True               True    True                 True   \n",
       "838              True               True    True                 True   \n",
       "839              True               True    True                 True   \n",
       "840             False              False   False                False   \n",
       "843             False              False   False                False   \n",
       "844             False              False   False                False   \n",
       "845             False              False   False                False   \n",
       "846             False              False   False                False   \n",
       "848             False              False   False                False   \n",
       "849             False              False   False                False   \n",
       "850             False              False   False                False   \n",
       "851             False              False   False                False   \n",
       "852             False              False   False                False   \n",
       "853             False              False   False                False   \n",
       "854             False              False   False                False   \n",
       "855             False              False   False                False   \n",
       "856              True               True    True                 True   \n",
       "857             False              False   False                False   \n",
       "858              True               True    True                 True   \n",
       "859              True               True    True                 True   \n",
       "\n",
       "     contributor_zip  contributor_lastname  date_received  \\\n",
       "4              False                 False          False   \n",
       "5              False                 False          False   \n",
       "9              False                 False          False   \n",
       "20             False                 False          False   \n",
       "44             False                 False          False   \n",
       "52             False                 False          False   \n",
       "57             False                 False          False   \n",
       "61             False                 False          False   \n",
       "62             False                 False          False   \n",
       "63             False                 False          False   \n",
       "106            False                 False          False   \n",
       "134            False                 False          False   \n",
       "135            False                 False          False   \n",
       "151            False                 False          False   \n",
       "155            False                 False          False   \n",
       "156            False                 False          False   \n",
       "175            False                 False          False   \n",
       "177            False                 False          False   \n",
       "187            False                 False          False   \n",
       "205            False                 False          False   \n",
       "206            False                 False          False   \n",
       "214            False                 False          False   \n",
       "231            False                 False          False   \n",
       "237            False                 False          False   \n",
       "240            False                 False          False   \n",
       "244            False                 False          False   \n",
       "246            False                 False          False   \n",
       "251            False                 False          False   \n",
       "252            False                 False          False   \n",
       "253            False                 False          False   \n",
       "..               ...                   ...            ...   \n",
       "698            False                 False          False   \n",
       "702            False                 False          False   \n",
       "711            False                 False          False   \n",
       "721            False                 False          False   \n",
       "727            False                 False          False   \n",
       "731            False                 False          False   \n",
       "767            False                 False          False   \n",
       "796            False                 False          False   \n",
       "835            False                  True           True   \n",
       "836            False                  True           True   \n",
       "837            False                  True           True   \n",
       "838            False                  True           True   \n",
       "839            False                  True           True   \n",
       "840            False                 False          False   \n",
       "843            False                 False          False   \n",
       "844            False                 False          False   \n",
       "845            False                 False          False   \n",
       "846            False                 False          False   \n",
       "848            False                 False          False   \n",
       "849            False                 False          False   \n",
       "850            False                 False          False   \n",
       "851            False                 False          False   \n",
       "852            False                 False          False   \n",
       "853            False                 False          False   \n",
       "854            False                 False          False   \n",
       "855            False                 False          False   \n",
       "856            False                  True           True   \n",
       "857            False                 False          False   \n",
       "858            False                  True           True   \n",
       "859            False                  True           True   \n",
       "\n",
       "     contributor_is_self_employed  contributor_occupation  ccdc_committee_id  \\\n",
       "4                           False                   False              False   \n",
       "5                           False                   False              False   \n",
       "9                           False                   False              False   \n",
       "20                          False                   False              False   \n",
       "44                          False                   False              False   \n",
       "52                          False                   False              False   \n",
       "57                          False                   False              False   \n",
       "61                          False                   False              False   \n",
       "62                          False                   False              False   \n",
       "63                          False                   False              False   \n",
       "106                         False                   False              False   \n",
       "134                         False                   False              False   \n",
       "135                         False                   False              False   \n",
       "151                         False                   False              False   \n",
       "155                         False                   False              False   \n",
       "156                         False                   False              False   \n",
       "175                         False                   False              False   \n",
       "177                         False                   False              False   \n",
       "187                         False                   False              False   \n",
       "205                         False                   False              False   \n",
       "206                         False                   False              False   \n",
       "214                         False                   False              False   \n",
       "231                         False                   False              False   \n",
       "237                         False                   False              False   \n",
       "240                         False                   False              False   \n",
       "244                         False                   False              False   \n",
       "246                         False                   False              False   \n",
       "251                         False                   False              False   \n",
       "252                         False                   False              False   \n",
       "253                         False                   False              False   \n",
       "..                            ...                     ...                ...   \n",
       "698                         False                   False              False   \n",
       "702                         False                   False              False   \n",
       "711                         False                   False              False   \n",
       "721                         False                   False              False   \n",
       "727                         False                   False              False   \n",
       "731                         False                   False              False   \n",
       "767                         False                   False              False   \n",
       "796                         False                   False              False   \n",
       "835                          True                    True               True   \n",
       "836                          True                    True               True   \n",
       "837                          True                    True               True   \n",
       "838                          True                    True               True   \n",
       "839                          True                    True               True   \n",
       "840                         False                   False              False   \n",
       "843                         False                   False              False   \n",
       "844                         False                   False              False   \n",
       "845                         False                   False              False   \n",
       "846                         False                   False              False   \n",
       "848                         False                   False              False   \n",
       "849                         False                   False              False   \n",
       "850                         False                   False              False   \n",
       "851                         False                   False              False   \n",
       "852                         False                   False              False   \n",
       "853                         False                   False              False   \n",
       "854                         False                   False              False   \n",
       "855                         False                   False              False   \n",
       "856                          True                    True               True   \n",
       "857                         False                   False              False   \n",
       "858                          True                    True               True   \n",
       "859                          True                    True               True   \n",
       "\n",
       "     calaccess_committee_id  contributor_employer  \n",
       "4                     False                 False  \n",
       "5                     False                 False  \n",
       "9                     False                 False  \n",
       "20                    False                 False  \n",
       "44                    False                 False  \n",
       "52                    False                 False  \n",
       "57                    False                 False  \n",
       "61                    False                 False  \n",
       "62                    False                 False  \n",
       "63                    False                 False  \n",
       "106                   False                 False  \n",
       "134                   False                 False  \n",
       "135                   False                 False  \n",
       "151                   False                 False  \n",
       "155                   False                 False  \n",
       "156                   False                 False  \n",
       "175                   False                 False  \n",
       "177                   False                 False  \n",
       "187                   False                 False  \n",
       "205                   False                 False  \n",
       "206                   False                 False  \n",
       "214                   False                 False  \n",
       "231                   False                 False  \n",
       "237                   False                 False  \n",
       "240                   False                 False  \n",
       "244                   False                 False  \n",
       "246                   False                 False  \n",
       "251                   False                 False  \n",
       "252                   False                 False  \n",
       "253                   False                 False  \n",
       "..                      ...                   ...  \n",
       "698                   False                 False  \n",
       "702                   False                 False  \n",
       "711                   False                 False  \n",
       "721                   False                 False  \n",
       "727                   False                 False  \n",
       "731                   False                 False  \n",
       "767                   False                 False  \n",
       "796                   False                 False  \n",
       "835                    True                  True  \n",
       "836                    True                  True  \n",
       "837                    True                  True  \n",
       "838                    True                  True  \n",
       "839                    True                  True  \n",
       "840                   False                 False  \n",
       "843                   False                 False  \n",
       "844                   False                 False  \n",
       "845                   False                 False  \n",
       "846                   False                 False  \n",
       "848                   False                 False  \n",
       "849                   False                 False  \n",
       "850                   False                 False  \n",
       "851                   False                 False  \n",
       "852                   False                 False  \n",
       "853                   False                 False  \n",
       "854                   False                 False  \n",
       "855                   False                 False  \n",
       "856                    True                  True  \n",
       "857                   False                 False  \n",
       "858                    True                  True  \n",
       "859                    True                  True  \n",
       "\n",
       "[247 rows x 20 columns]"
      ]
     },
     "execution_count": 28,
     "metadata": {},
     "output_type": "execute_result"
    }
   ],
   "source": [
    "compute_jaccard_DF(df_dict['oppose.csv'], df_dict['noncacontribs.csv'], column_match=True)"
   ]
  },
  {
   "cell_type": "code",
   "execution_count": 24,
   "metadata": {},
   "outputs": [
    {
     "data": {
      "text/plain": [
       "0.06897942718838242"
      ]
     },
     "execution_count": 24,
     "metadata": {},
     "output_type": "execute_result"
    }
   ],
   "source": [
    "similarity.compute_indexed_cellvalset_similarity(df_dict['oppose.csv'], df_dict['noncacontribs.csv'])"
   ]
  },
  {
   "cell_type": "code",
   "execution_count": 32,
   "metadata": {},
   "outputs": [
    {
     "data": {
      "text/plain": [
       "0.06923076923076923"
      ]
     },
     "execution_count": 32,
     "metadata": {},
     "output_type": "execute_result"
    }
   ],
   "source": [
    "similarity.compute_jaccard_DF(df_dict['oppose.csv'], df_dict['noncacontribs.csv'],reindex=False)"
   ]
  },
  {
   "cell_type": "code",
   "execution_count": null,
   "metadata": {},
   "outputs": [],
   "source": [
    "similarity"
   ]
  },
  {
   "cell_type": "code",
   "execution_count": 90,
   "metadata": {},
   "outputs": [
    {
     "ename": "KeyError",
     "evalue": "'df.csv'",
     "output_type": "error",
     "traceback": [
      "\u001b[0;31m---------------------------------------------------------------------------\u001b[0m",
      "\u001b[0;31mKeyError\u001b[0m                                  Traceback (most recent call last)",
      "\u001b[0;32m<ipython-input-90-c9b786bd43e0>\u001b[0m in \u001b[0;36m<module>\u001b[0;34m\u001b[0m\n\u001b[0;32m----> 1\u001b[0;31m \u001b[0msimilarity\u001b[0m\u001b[0;34m.\u001b[0m\u001b[0mcompute_col_jaccard_DF\u001b[0m\u001b[0;34m(\u001b[0m\u001b[0mdf_dict\u001b[0m\u001b[0;34m[\u001b[0m\u001b[0;34m'df.csv'\u001b[0m\u001b[0;34m]\u001b[0m\u001b[0;34m,\u001b[0m \u001b[0mdf_dict\u001b[0m\u001b[0;34m[\u001b[0m\u001b[0;34m'gp1.csv'\u001b[0m\u001b[0;34m]\u001b[0m\u001b[0;34m)\u001b[0m\u001b[0;34m\u001b[0m\u001b[0;34m\u001b[0m\u001b[0m\n\u001b[0m",
      "\u001b[0;31mKeyError\u001b[0m: 'df.csv'"
     ]
    }
   ],
   "source": [
    "similarity.compute_col_jaccard_DF(df_dict['df.csv'], df_dict['gp1.csv'])"
   ]
  },
  {
   "cell_type": "code",
   "execution_count": 69,
   "metadata": {},
   "outputs": [
    {
     "data": {
      "text/plain": [
       "{0,\n",
       " 1,\n",
       " 2,\n",
       " 3,\n",
       " 4,\n",
       " 5,\n",
       " 6,\n",
       " 7,\n",
       " 8,\n",
       " 9,\n",
       " 10,\n",
       " 11,\n",
       " 12,\n",
       " 13,\n",
       " 14,\n",
       " 15,\n",
       " 16,\n",
       " 17,\n",
       " 18,\n",
       " 19,\n",
       " 20,\n",
       " 21,\n",
       " 22,\n",
       " 23,\n",
       " 24,\n",
       " 25,\n",
       " 26,\n",
       " 27,\n",
       " 28,\n",
       " 29,\n",
       " 30,\n",
       " 31,\n",
       " 32,\n",
       " 33,\n",
       " 34,\n",
       " 35,\n",
       " 36,\n",
       " 37,\n",
       " 38,\n",
       " 39,\n",
       " 40,\n",
       " 41,\n",
       " 42,\n",
       " 43,\n",
       " 44,\n",
       " 45,\n",
       " 46,\n",
       " 47,\n",
       " 48,\n",
       " 49,\n",
       " 50,\n",
       " 51,\n",
       " 52,\n",
       " 53,\n",
       " 54,\n",
       " 55,\n",
       " 56,\n",
       " 57,\n",
       " 58,\n",
       " 59,\n",
       " 60,\n",
       " 61,\n",
       " 62,\n",
       " 63,\n",
       " 64,\n",
       " 65,\n",
       " 66,\n",
       " 67,\n",
       " 68,\n",
       " 69,\n",
       " 70,\n",
       " 71,\n",
       " 72,\n",
       " 73,\n",
       " 74,\n",
       " 75,\n",
       " 76,\n",
       " 77,\n",
       " 78,\n",
       " 79,\n",
       " 80,\n",
       " 81,\n",
       " 82,\n",
       " 83,\n",
       " 84,\n",
       " 85,\n",
       " 86,\n",
       " 87,\n",
       " 88,\n",
       " 89,\n",
       " 90,\n",
       " 91,\n",
       " 92,\n",
       " 93,\n",
       " 94,\n",
       " 95,\n",
       " 96,\n",
       " 97,\n",
       " 98,\n",
       " 99,\n",
       " 100,\n",
       " 101,\n",
       " 102,\n",
       " 103,\n",
       " 104,\n",
       " 105,\n",
       " 106,\n",
       " 107,\n",
       " 108,\n",
       " 109,\n",
       " 110,\n",
       " 111,\n",
       " 112,\n",
       " 113,\n",
       " 114,\n",
       " 115,\n",
       " 116,\n",
       " 117,\n",
       " 118,\n",
       " 119,\n",
       " 120,\n",
       " 121,\n",
       " 122,\n",
       " 123,\n",
       " 124,\n",
       " 125,\n",
       " 126,\n",
       " 127,\n",
       " 128,\n",
       " 129,\n",
       " 130,\n",
       " 131,\n",
       " 132,\n",
       " 133,\n",
       " 134,\n",
       " 135,\n",
       " 136,\n",
       " 137,\n",
       " 138,\n",
       " 139,\n",
       " 140,\n",
       " 141,\n",
       " 142,\n",
       " 143,\n",
       " 144,\n",
       " 145,\n",
       " 146,\n",
       " 147,\n",
       " 148,\n",
       " 149,\n",
       " 150,\n",
       " 151,\n",
       " 152,\n",
       " 153,\n",
       " 154,\n",
       " 155,\n",
       " 156,\n",
       " 157,\n",
       " 158,\n",
       " 159,\n",
       " 160,\n",
       " 161,\n",
       " 162,\n",
       " 163,\n",
       " 164,\n",
       " 165,\n",
       " 166,\n",
       " 167,\n",
       " 168,\n",
       " 169,\n",
       " 170,\n",
       " 171,\n",
       " 172,\n",
       " 173,\n",
       " 174,\n",
       " 175,\n",
       " 176,\n",
       " 177,\n",
       " 178,\n",
       " 179,\n",
       " 180,\n",
       " 181,\n",
       " 182,\n",
       " 183,\n",
       " 184,\n",
       " 185,\n",
       " 186,\n",
       " 187,\n",
       " 188,\n",
       " 189,\n",
       " 190,\n",
       " 191,\n",
       " 192,\n",
       " 193,\n",
       " 194,\n",
       " 195,\n",
       " 196,\n",
       " 197,\n",
       " 198,\n",
       " 199,\n",
       " 200,\n",
       " 201,\n",
       " 202,\n",
       " 203,\n",
       " 204,\n",
       " 205,\n",
       " 206,\n",
       " 207,\n",
       " 208,\n",
       " 209,\n",
       " 210,\n",
       " 211,\n",
       " 212,\n",
       " 213,\n",
       " 214,\n",
       " 215,\n",
       " 216,\n",
       " 217,\n",
       " 218,\n",
       " 219,\n",
       " 220,\n",
       " 221,\n",
       " 222,\n",
       " 223,\n",
       " 224,\n",
       " 225,\n",
       " 226,\n",
       " 227,\n",
       " 228,\n",
       " 229,\n",
       " 230,\n",
       " 231,\n",
       " 232,\n",
       " 233,\n",
       " 234,\n",
       " 235,\n",
       " 236,\n",
       " 237,\n",
       " 238,\n",
       " 239,\n",
       " 240,\n",
       " 241,\n",
       " 242,\n",
       " 243}"
      ]
     },
     "execution_count": 69,
     "metadata": {},
     "output_type": "execute_result"
    }
   ],
   "source": [
    "set(df_dict['df.csv'].index)"
   ]
  },
  {
   "cell_type": "code",
   "execution_count": 10,
   "metadata": {},
   "outputs": [
    {
     "ename": "NameError",
     "evalue": "name 'df_dict' is not defined",
     "output_type": "error",
     "traceback": [
      "\u001b[0;31m---------------------------------------------------------------------------\u001b[0m",
      "\u001b[0;31mNameError\u001b[0m                                 Traceback (most recent call last)",
      "\u001b[0;32m<ipython-input-10-6a85a75c4646>\u001b[0m in \u001b[0;36m<module>\u001b[0;34m\u001b[0m\n\u001b[0;32m----> 1\u001b[0;31m \u001b[0mdf_dict\u001b[0m\u001b[0;34m.\u001b[0m\u001b[0mkeys\u001b[0m\u001b[0;34m(\u001b[0m\u001b[0;34m)\u001b[0m\u001b[0;34m\u001b[0m\u001b[0;34m\u001b[0m\u001b[0m\n\u001b[0m",
      "\u001b[0;31mNameError\u001b[0m: name 'df_dict' is not defined"
     ]
    }
   ],
   "source": [
    "df_dict.keys()"
   ]
  },
  {
   "cell_type": "code",
   "execution_count": 96,
   "metadata": {},
   "outputs": [
    {
     "data": {
      "text/plain": [
       "{'Adur',\n",
       " 'Ashford',\n",
       " 'Aylesbury Vale',\n",
       " 'Babergh',\n",
       " 'Barking and Dagenham',\n",
       " 'Barnet',\n",
       " 'Basildon',\n",
       " 'Bassetlaw',\n",
       " 'Bedford',\n",
       " 'Bexley',\n",
       " 'Birmingham',\n",
       " 'Blackpool',\n",
       " 'Bracknell Forest',\n",
       " 'Bradford',\n",
       " 'Braintree',\n",
       " 'Brent',\n",
       " 'Brentwood',\n",
       " 'Brighton and Hove',\n",
       " 'Bristol',\n",
       " 'Broadland',\n",
       " 'Bromley',\n",
       " 'Broxbourne',\n",
       " 'Cambridge',\n",
       " 'Camden',\n",
       " 'Canterbury',\n",
       " 'Central Bedfordshire',\n",
       " 'Chelmsford',\n",
       " 'Cheltenham',\n",
       " 'Cheshire East',\n",
       " 'Cheshire West and Chester',\n",
       " 'Chiltern',\n",
       " 'City of London',\n",
       " 'Colchester',\n",
       " 'Corby',\n",
       " 'Cornwall',\n",
       " 'Cotswold',\n",
       " 'County Durham',\n",
       " 'Coventry',\n",
       " 'Crawley',\n",
       " 'Croydon',\n",
       " 'Dacorum',\n",
       " 'Darlington',\n",
       " 'Dartford',\n",
       " 'Ealing',\n",
       " 'East Devon',\n",
       " 'East Dorset',\n",
       " 'East Hertfordshire',\n",
       " 'East Northamptonshire',\n",
       " 'Eastbourne',\n",
       " 'Elmbridge',\n",
       " 'Enfield',\n",
       " 'Epping Forest',\n",
       " 'Epsom and Ewell',\n",
       " 'Fareham',\n",
       " 'Fylde',\n",
       " 'Gravesham',\n",
       " 'Greenwich',\n",
       " 'Guildford',\n",
       " 'Hackney',\n",
       " 'Hammersmith and Fulham',\n",
       " 'Harborough',\n",
       " 'Haringey',\n",
       " 'Harlow',\n",
       " 'Harrow',\n",
       " 'Hastings',\n",
       " 'Havering',\n",
       " 'Herefordshire',\n",
       " 'Hertsmere',\n",
       " 'Hillingdon',\n",
       " 'Horsham',\n",
       " 'Hounslow',\n",
       " 'Huntingdonshire',\n",
       " 'Ipswich',\n",
       " 'Isle of Wight',\n",
       " 'Islington',\n",
       " 'Kensington and Chelsea',\n",
       " 'Kettering',\n",
       " 'Kingston upon Thames',\n",
       " 'Kirklees',\n",
       " 'Lambeth',\n",
       " 'Lancaster',\n",
       " 'Leeds',\n",
       " 'Leicester',\n",
       " 'Lewisham',\n",
       " 'Liverpool',\n",
       " 'Luton',\n",
       " 'Maldon',\n",
       " 'Malvern Hills',\n",
       " 'Manchester',\n",
       " 'Medway',\n",
       " 'Merton',\n",
       " 'Milton Keynes',\n",
       " 'Mole Valley',\n",
       " 'Neath Port Talbot',\n",
       " 'New Forest',\n",
       " 'Newcastle upon Tyne',\n",
       " 'Newham',\n",
       " 'North Hertfordshire',\n",
       " 'North Kesteven',\n",
       " 'North Tyneside',\n",
       " 'Northampton',\n",
       " 'Northumberland',\n",
       " 'Norwich',\n",
       " 'Nottingham',\n",
       " 'Pendle',\n",
       " 'Peterborough',\n",
       " 'Portsmouth',\n",
       " 'Preston',\n",
       " 'Reading',\n",
       " 'Redbridge',\n",
       " 'Reigate and Banstead',\n",
       " 'Richmond upon Thames',\n",
       " 'Richmondshire',\n",
       " 'Rochford',\n",
       " 'Rother',\n",
       " 'Rugby',\n",
       " 'Runnymede',\n",
       " 'Sevenoaks',\n",
       " 'Shepway',\n",
       " 'Shropshire',\n",
       " 'Slough',\n",
       " 'South Bucks',\n",
       " 'South Kesteven',\n",
       " 'South Norfolk',\n",
       " 'South Oxfordshire',\n",
       " 'Southampton',\n",
       " 'Southend-on-Sea',\n",
       " 'Southwark',\n",
       " 'Spelthorne',\n",
       " 'St Albans',\n",
       " 'St Edmundsbury',\n",
       " 'St. Helens',\n",
       " 'Stafford',\n",
       " 'Stevenage',\n",
       " 'Stratford-on-Avon',\n",
       " 'Suffolk Coastal',\n",
       " 'Surrey Heath',\n",
       " 'Sutton',\n",
       " 'Swansea',\n",
       " 'Swindon',\n",
       " 'Tamworth',\n",
       " 'Tandridge',\n",
       " 'Thanet',\n",
       " 'Three Rivers',\n",
       " 'Thurrock',\n",
       " 'Tonbridge and Malling',\n",
       " 'Torbay',\n",
       " 'Tower Hamlets',\n",
       " 'Uttlesford',\n",
       " 'Wakefield',\n",
       " 'Waltham Forest',\n",
       " 'Wandsworth',\n",
       " 'Warrington',\n",
       " 'Watford',\n",
       " 'Waveney',\n",
       " 'Waverley',\n",
       " 'Wealden',\n",
       " 'Welwyn Hatfield',\n",
       " 'West Berkshire',\n",
       " 'West Lancashire',\n",
       " 'Westminster',\n",
       " 'Weymouth and Portland',\n",
       " 'Wigan',\n",
       " 'Winchester',\n",
       " 'Windsor and Maidenhead',\n",
       " 'Wirral',\n",
       " 'Woking',\n",
       " 'Wokingham',\n",
       " 'Wolverhampton',\n",
       " 'Worthing',\n",
       " 'Wychavon',\n",
       " 'Wycombe'}"
      ]
     },
     "execution_count": 96,
     "metadata": {},
     "output_type": "execute_result"
    }
   ],
   "source": [
    "test_df=df_dict['crimes.csv']\n",
    "set(test_df.Area.values)"
   ]
  },
  {
   "cell_type": "code",
   "execution_count": 8,
   "metadata": {},
   "outputs": [],
   "source": [
    "import itertools\n",
    "\n",
    "def generate_frozen_set(col):\n",
    "    return set((i,v) for i, v in col.iteritems())\n",
    "\n",
    "def get_indexed_values(df):\n",
    "    all_values = set()\n",
    "    for col in df:\n",
    "        all_values = all_values.union(generate_frozen_set(df[col]))\n",
    "    return all_values\n",
    "\n"
   ]
  },
  {
   "cell_type": "code",
   "execution_count": 9,
   "metadata": {},
   "outputs": [
    {
     "ename": "NameError",
     "evalue": "name 'test_df' is not defined",
     "output_type": "error",
     "traceback": [
      "\u001b[0;31m---------------------------------------------------------------------------\u001b[0m",
      "\u001b[0;31mNameError\u001b[0m                                 Traceback (most recent call last)",
      "\u001b[0;32m<ipython-input-9-0dcdcb22809f>\u001b[0m in \u001b[0;36m<module>\u001b[0;34m\u001b[0m\n\u001b[0;32m----> 1\u001b[0;31m \u001b[0mtest_df\u001b[0m\u001b[0;34m\u001b[0m\u001b[0;34m\u001b[0m\u001b[0m\n\u001b[0m",
      "\u001b[0;31mNameError\u001b[0m: name 'test_df' is not defined"
     ]
    }
   ],
   "source": [
    "test_df"
   ]
  },
  {
   "cell_type": "code",
   "execution_count": 48,
   "metadata": {},
   "outputs": [
    {
     "data": {
      "application/vnd.jupyter.widget-view+json": {
       "model_id": "",
       "version_major": 2,
       "version_minor": 0
      },
      "text/plain": [
       "HBox(children=(FloatProgress(value=0.0, description='graph pairs', max=120.0, style=ProgressStyle(description_…"
      ]
     },
     "metadata": {},
     "output_type": "display_data"
    },
    {
     "name": "stdout",
     "output_type": "stream",
     "text": [
      "\r"
     ]
    }
   ],
   "source": [
    "pairscores = get_all_node_pair_scores(df_dict, selected_graph)"
   ]
  },
  {
   "cell_type": "code",
   "execution_count": 24,
   "metadata": {},
   "outputs": [
    {
     "ename": "NameError",
     "evalue": "name 'pairscores' is not defined",
     "output_type": "error",
     "traceback": [
      "\u001b[0;31m---------------------------------------------------------------------------\u001b[0m",
      "\u001b[0;31mNameError\u001b[0m                                 Traceback (most recent call last)",
      "\u001b[0;32m<ipython-input-24-973fc62c46fb>\u001b[0m in \u001b[0;36m<module>\u001b[0;34m\u001b[0m\n\u001b[0;32m----> 1\u001b[0;31m \u001b[0mpairsdf\u001b[0m \u001b[0;34m=\u001b[0m \u001b[0mpd\u001b[0m\u001b[0;34m.\u001b[0m\u001b[0mDataFrame\u001b[0m\u001b[0;34m(\u001b[0m\u001b[0mpairscores\u001b[0m\u001b[0;34m)\u001b[0m\u001b[0;34m\u001b[0m\u001b[0;34m\u001b[0m\u001b[0m\n\u001b[0m\u001b[1;32m      2\u001b[0m \u001b[0mcell_scores\u001b[0m \u001b[0;34m=\u001b[0m \u001b[0mpairsdf\u001b[0m\u001b[0;34m[\u001b[0m\u001b[0;34m'cell_jaccard'\u001b[0m\u001b[0;34m]\u001b[0m\u001b[0;34m\u001b[0m\u001b[0;34m\u001b[0m\u001b[0m\n\u001b[1;32m      3\u001b[0m \u001b[0mcell_scores\u001b[0m\u001b[0;34m[\u001b[0m\u001b[0mcell_scores\u001b[0m \u001b[0;34m!=\u001b[0m \u001b[0;36m0\u001b[0m\u001b[0;34m]\u001b[0m\u001b[0;34m.\u001b[0m\u001b[0mmean\u001b[0m\u001b[0;34m(\u001b[0m\u001b[0;34m)\u001b[0m\u001b[0;34m\u001b[0m\u001b[0;34m\u001b[0m\u001b[0m\n",
      "\u001b[0;31mNameError\u001b[0m: name 'pairscores' is not defined"
     ]
    }
   ],
   "source": [
    "pairsdf = pd.DataFrame(pairscores)\n",
    "cell_scores = pairsdf['cell_jaccard']\n",
    "cell_scores[cell_scores != 0].mean()"
   ]
  },
  {
   "cell_type": "code",
   "execution_count": 46,
   "metadata": {},
   "outputs": [],
   "source": [
    "def get_average_metric(pairdf, metric):\n",
    "    scores = pairdf[metric]\n",
    "    return scores[scores != 0].mean()\n",
    "\n",
    "def get_avg_metrics(pairsdf):\n",
    "    return {weight: get_average_metric(pairsdf, weight) for weight in weights}\n",
    "\n",
    "def get_all_wf_metrics(RESULT_DIR, notebooks):\n",
    "    metric_dict = {}\n",
    "    for nb in notebooks:\n",
    "        df_dict = similarity.load_dataset_dir(RESULT_DIR+nb+'/artifacts/', '*.csv', index_col=0)\n",
    "        graph = graphs.get_graph(RESULT_DIR, nb)\n",
    "        #if os.path.exists(RESULT_DIR+nb+'/pairwise_metrics.csv'):\n",
    "        #    pairsdf = pd.read_csv(RESULT_DIR+nb+'/pairwise_metrics.csv', index_col=0)\n",
    "        #else:\n",
    "        pairsdf = pd.DataFrame(get_all_node_pair_scores(df_dict, graph))\n",
    "        pairsdf.to_csv(RESULT_DIR+nb+'/pairwise_metrics.csv')\n",
    "        \n",
    "        metric_dict[nb] = get_avg_metrics(pairsdf)\n",
    "    \n",
    "    return metric_dict\n",
    "        \n",
    "        \n",
    "        "
   ]
  },
  {
   "cell_type": "code",
   "execution_count": 47,
   "metadata": {},
   "outputs": [
    {
     "data": {
      "application/vnd.jupyter.widget-view+json": {
       "model_id": "",
       "version_major": 2,
       "version_minor": 0
      },
      "text/plain": [
       "HBox(children=(FloatProgress(value=0.0, description='graph pairs', max=15.0, style=ProgressStyle(description_w…"
      ]
     },
     "metadata": {},
     "output_type": "display_data"
    },
    {
     "name": "stdout",
     "output_type": "stream",
     "text": [
      "\r"
     ]
    }
   ],
   "source": [
    "notebooks = ['githubviz']\n",
    "wf_avg_dicts = get_all_wf_metrics(RESULT_DIR, notebooks)"
   ]
  },
  {
   "cell_type": "code",
   "execution_count": 53,
   "metadata": {},
   "outputs": [
    {
     "data": {
      "text/plain": [
       "{'agri-mex': {'cell_jaccard': 0.2272481979372987,\n",
       "  'col_jaccard': 0.300413220110696,\n",
       "  'valset_jaccard': 0.4135614623906497,\n",
       "  'ivalset_jaccard': 0.2129989473255946},\n",
       " 'churn': {'cell_jaccard': 0.6134453781512605,\n",
       "  'col_jaccard': 0.6134453781512605,\n",
       "  'valset_jaccard': 0.5620717359463021,\n",
       "  'ivalset_jaccard': 0.6159053773194283},\n",
       " 'githubviz': {'cell_jaccard': 0.3965632792456016,\n",
       "  'col_jaccard': 0.555081569664903,\n",
       "  'valset_jaccard': 0.4158870595850713,\n",
       "  'ivalset_jaccard': 0.3360877878989988},\n",
       " 'london-crime': {'cell_jaccard': 0.08507831121281414,\n",
       "  'col_jaccard': 0.27237200731784417,\n",
       "  'valset_jaccard': 0.22364644915466161,\n",
       "  'ivalset_jaccard': 0.09871643917663732},\n",
       " 'prop64': {'cell_jaccard': 0.04568239858363557,\n",
       "  'col_jaccard': 0.20391984822255452,\n",
       "  'valset_jaccard': 0.08619915817752927,\n",
       "  'ivalset_jaccard': 0.04656451886163775},\n",
       " 'retail': {'cell_jaccard': 0.3225655528935008,\n",
       "  'col_jaccard': 0.5311226322490168,\n",
       "  'valset_jaccard': 0.824092878290984,\n",
       "  'ivalset_jaccard': 0.43297784577363707},\n",
       " 'titanic': {'cell_jaccard': 0.5922319684644028,\n",
       "  'col_jaccard': 0.6545911924523896,\n",
       "  'valset_jaccard': 0.4171832691929723,\n",
       "  'ivalset_jaccard': 0.7352611159743534}}"
      ]
     },
     "execution_count": 53,
     "metadata": {},
     "output_type": "execute_result"
    }
   ],
   "source": [
    "wf_avg_dicts\n"
   ]
  },
  {
   "cell_type": "code",
   "execution_count": 15,
   "metadata": {},
   "outputs": [
    {
     "data": {
      "text/plain": [
       "<Figure size 2400x1200 with 0 Axes>"
      ]
     },
     "metadata": {},
     "output_type": "display_data"
    },
    {
     "data": {
      "image/png": "[encoded data removed]",
      "text/plain": [
       "<Figure size 485.625x360 with 1 Axes>"
      ]
     },
     "metadata": {
      "needs_background": "light"
     },
     "output_type": "display_data"
    },
    {
     "data": {
      "image/png": "[encoded data removed]",
      "text/plain": [
       "<Figure size 485.625x360 with 1 Axes>"
      ]
     },
     "metadata": {
      "needs_background": "light"
     },
     "output_type": "display_data"
    },
    {
     "data": {
      "image/png": "[encoded data removed]",
      "text/plain": [
       "<Figure size 485.625x360 with 1 Axes>"
      ]
     },
     "metadata": {
      "needs_background": "light"
     },
     "output_type": "display_data"
    },
    {
     "data": {
      "image/png": "[encoded data removed]",
      "text/plain": [
       "<Figure size 485.625x360 with 1 Axes>"
      ]
     },
     "metadata": {
      "needs_background": "light"
     },
     "output_type": "display_data"
    },
    {
     "data": {
      "image/png": "[encoded data removed]",
      "text/plain": [
       "<Figure size 485.625x360 with 1 Axes>"
      ]
     },
     "metadata": {
      "needs_background": "light"
     },
     "output_type": "display_data"
    },
    {
     "data": {
      "image/png": "[encoded data removed]",
      "text/plain": [
       "<Figure size 485.625x360 with 1 Axes>"
      ]
     },
     "metadata": {
      "needs_background": "light"
     },
     "output_type": "display_data"
    },
    {
     "data": {
      "image/png": "[encoded data removed]",
      "text/plain": [
       "<Figure size 485.625x360 with 1 Axes>"
      ]
     },
     "metadata": {
      "needs_background": "light"
     },
     "output_type": "display_data"
    }
   ],
   "source": [
    "import seaborn as sns\n",
    "import matplotlib.pyplot as plt\n",
    "\n",
    "fig = plt.figure(num=None, figsize=(8, 4), dpi=300, facecolor='w', edgecolor='k')\n",
    "weights = ['valset_jaccard', 'rowvalset_jaccard', 'colvalset_jaccard', 'cell_jaccard']\n",
    "\n",
    "for nb in notebooks:\n",
    "    pairsdf = pd.read_csv(RESULT_DIR+nb+'/pairwise_metrics.csv', index_col=0).rename({'ivalset_jaccard': 'rowvalset_jaccard'}, axis=1)\n",
    "    viz_df = pairsdf[weights+['ground_truth']].melt('ground_truth').rename({'variable': 'similarity_metric'}, axis=1)\n",
    "    \n",
    "    sns.catplot(x='ground_truth', y='value', data=viz_df, hue='similarity_metric', kind='swarm', palette='Set1', hue_order=weights)\n",
    "    plt.ylabel('Edge Similarity')\n",
    "    plt.title(nb+' ('+str(len(graphs.get_graph(RESULT_DIR, nb).edges()))+ ' edges)')\n",
    "    #display(pairsdf)\n",
    "    #\n",
    "    #for weight in weights:\n",
    "    #    sns.scatterplot(x='ground_truth', y=, data=top_vals, hue=weight)\n",
    "\n",
    "    "
   ]
  },
  {
   "cell_type": "code",
   "execution_count": 27,
   "metadata": {},
   "outputs": [
    {
     "data": {
      "text/html": [
       "<div>\n",
       "<style scoped>\n",
       "    .dataframe tbody tr th:only-of-type {\n",
       "        vertical-align: middle;\n",
       "    }\n",
       "\n",
       "    .dataframe tbody tr th {\n",
       "        vertical-align: top;\n",
       "    }\n",
       "\n",
       "    .dataframe thead th {\n",
       "        text-align: right;\n",
       "    }\n",
       "</style>\n",
       "<table border=\"1\" class=\"dataframe\">\n",
       "  <thead>\n",
       "    <tr style=\"text-align: right;\">\n",
       "      <th></th>\n",
       "      <th>avg_containment</th>\n",
       "      <th>avg_contraction</th>\n",
       "      <th>cell_jaccard</th>\n",
       "      <th>col_jaccard</th>\n",
       "      <th>colvalset_jaccard</th>\n",
       "      <th>common_cols</th>\n",
       "      <th>dest</th>\n",
       "      <th>ground_truth</th>\n",
       "      <th>ivalset_jaccard</th>\n",
       "      <th>max_containment</th>\n",
       "      <th>max_contraction</th>\n",
       "      <th>min_containment</th>\n",
       "      <th>min_contraction</th>\n",
       "      <th>operation</th>\n",
       "      <th>source</th>\n",
       "      <th>unique_cols</th>\n",
       "      <th>valset_jaccard</th>\n",
       "    </tr>\n",
       "  </thead>\n",
       "  <tbody>\n",
       "    <tr>\n",
       "      <th>0</th>\n",
       "      <td>0.982434</td>\n",
       "      <td>1.091861</td>\n",
       "      <td>0.069311</td>\n",
       "      <td>0.321177</td>\n",
       "      <td>0.364978</td>\n",
       "      <td>5</td>\n",
       "      <td>HSdf.csv</td>\n",
       "      <td>False</td>\n",
       "      <td>0.070572</td>\n",
       "      <td>1.000000</td>\n",
       "      <td>1.091861</td>\n",
       "      <td>0.912168</td>\n",
       "      <td>1.091861</td>\n",
       "      <td>NaN</td>\n",
       "      <td>AtlasHSWithMexMerge.csv</td>\n",
       "      <td>1</td>\n",
       "      <td>0.485371</td>\n",
       "    </tr>\n",
       "    <tr>\n",
       "      <th>1</th>\n",
       "      <td>0.996516</td>\n",
       "      <td>NaN</td>\n",
       "      <td>0.089652</td>\n",
       "      <td>0.692159</td>\n",
       "      <td>0.818618</td>\n",
       "      <td>9</td>\n",
       "      <td>AtlasHSWithMexMerge.csv</td>\n",
       "      <td>True</td>\n",
       "      <td>0.078521</td>\n",
       "      <td>1.000000</td>\n",
       "      <td>NaN</td>\n",
       "      <td>0.985205</td>\n",
       "      <td>NaN</td>\n",
       "      <td>merge</td>\n",
       "      <td>MexHS__1.csv</td>\n",
       "      <td>0</td>\n",
       "      <td>0.920744</td>\n",
       "    </tr>\n",
       "    <tr>\n",
       "      <th>2</th>\n",
       "      <td>0.333333</td>\n",
       "      <td>11.385321</td>\n",
       "      <td>0.010723</td>\n",
       "      <td>0.188688</td>\n",
       "      <td>0.025949</td>\n",
       "      <td>12</td>\n",
       "      <td>AtlasHS_WithNoMexican.csv</td>\n",
       "      <td>True</td>\n",
       "      <td>0.037043</td>\n",
       "      <td>1.000000</td>\n",
       "      <td>11.385321</td>\n",
       "      <td>0.000000</td>\n",
       "      <td>11.385321</td>\n",
       "      <td>isnull</td>\n",
       "      <td>AtlasHSWithMexMerge.csv</td>\n",
       "      <td>2</td>\n",
       "      <td>0.034084</td>\n",
       "    </tr>\n",
       "    <tr>\n",
       "      <th>3</th>\n",
       "      <td>1.000000</td>\n",
       "      <td>1.091861</td>\n",
       "      <td>0.069311</td>\n",
       "      <td>0.251610</td>\n",
       "      <td>0.259304</td>\n",
       "      <td>4</td>\n",
       "      <td>HSdf__1.csv</td>\n",
       "      <td>False</td>\n",
       "      <td>0.074259</td>\n",
       "      <td>1.000000</td>\n",
       "      <td>1.091861</td>\n",
       "      <td>1.000000</td>\n",
       "      <td>1.091861</td>\n",
       "      <td>NaN</td>\n",
       "      <td>AtlasHSWithMexMerge.csv</td>\n",
       "      <td>1</td>\n",
       "      <td>0.355616</td>\n",
       "    </tr>\n",
       "    <tr>\n",
       "      <th>4</th>\n",
       "      <td>1.000000</td>\n",
       "      <td>NaN</td>\n",
       "      <td>0.069311</td>\n",
       "      <td>0.333333</td>\n",
       "      <td>0.266130</td>\n",
       "      <td>4</td>\n",
       "      <td>AtlasHSWithMexMerge.csv</td>\n",
       "      <td>True</td>\n",
       "      <td>0.076485</td>\n",
       "      <td>1.000000</td>\n",
       "      <td>NaN</td>\n",
       "      <td>1.000000</td>\n",
       "      <td>NaN</td>\n",
       "      <td>merge</td>\n",
       "      <td>AtlasHS.csv</td>\n",
       "      <td>0</td>\n",
       "      <td>0.358867</td>\n",
       "    </tr>\n",
       "    <tr>\n",
       "      <th>5</th>\n",
       "      <td>0.907284</td>\n",
       "      <td>NaN</td>\n",
       "      <td>0.089646</td>\n",
       "      <td>0.619566</td>\n",
       "      <td>0.762018</td>\n",
       "      <td>9</td>\n",
       "      <td>MexHS.csv</td>\n",
       "      <td>False</td>\n",
       "      <td>0.077390</td>\n",
       "      <td>1.000000</td>\n",
       "      <td>NaN</td>\n",
       "      <td>0.500000</td>\n",
       "      <td>NaN</td>\n",
       "      <td>NaN</td>\n",
       "      <td>AtlasHSWithMexMerge.csv</td>\n",
       "      <td>0</td>\n",
       "      <td>0.874117</td>\n",
       "    </tr>\n",
       "    <tr>\n",
       "      <th>6</th>\n",
       "      <td>0.992602</td>\n",
       "      <td>1.179286</td>\n",
       "      <td>0.070664</td>\n",
       "      <td>0.139773</td>\n",
       "      <td>0.227259</td>\n",
       "      <td>2</td>\n",
       "      <td>MexHS__1.csv</td>\n",
       "      <td>False</td>\n",
       "      <td>0.160776</td>\n",
       "      <td>1.000000</td>\n",
       "      <td>1.179286</td>\n",
       "      <td>0.985205</td>\n",
       "      <td>1.179286</td>\n",
       "      <td>NaN</td>\n",
       "      <td>HSdf.csv</td>\n",
       "      <td>1</td>\n",
       "      <td>0.459118</td>\n",
       "    </tr>\n",
       "    <tr>\n",
       "      <th>7</th>\n",
       "      <td>0.800000</td>\n",
       "      <td>12.431193</td>\n",
       "      <td>0.000000</td>\n",
       "      <td>0.081785</td>\n",
       "      <td>0.054150</td>\n",
       "      <td>5</td>\n",
       "      <td>AtlasHS_WithNoMexican.csv</td>\n",
       "      <td>False</td>\n",
       "      <td>0.012653</td>\n",
       "      <td>1.000000</td>\n",
       "      <td>12.431193</td>\n",
       "      <td>0.000000</td>\n",
       "      <td>12.431193</td>\n",
       "      <td>NaN</td>\n",
       "      <td>HSdf.csv</td>\n",
       "      <td>2</td>\n",
       "      <td>0.058026</td>\n",
       "    </tr>\n",
       "    <tr>\n",
       "      <th>8</th>\n",
       "      <td>0.968750</td>\n",
       "      <td>NaN</td>\n",
       "      <td>0.800000</td>\n",
       "      <td>0.800000</td>\n",
       "      <td>0.670076</td>\n",
       "      <td>4</td>\n",
       "      <td>HSdf__1.csv</td>\n",
       "      <td>True</td>\n",
       "      <td>0.795759</td>\n",
       "      <td>1.000000</td>\n",
       "      <td>NaN</td>\n",
       "      <td>0.875000</td>\n",
       "      <td>NaN</td>\n",
       "      <td>filter</td>\n",
       "      <td>HSdf.csv</td>\n",
       "      <td>0</td>\n",
       "      <td>0.701759</td>\n",
       "    </tr>\n",
       "    <tr>\n",
       "      <th>9</th>\n",
       "      <td>1.000000</td>\n",
       "      <td>1.091861</td>\n",
       "      <td>0.732694</td>\n",
       "      <td>0.603864</td>\n",
       "      <td>0.615568</td>\n",
       "      <td>4</td>\n",
       "      <td>AtlasHS.csv</td>\n",
       "      <td>False</td>\n",
       "      <td>0.732694</td>\n",
       "      <td>1.000000</td>\n",
       "      <td>1.091861</td>\n",
       "      <td>1.000000</td>\n",
       "      <td>1.091861</td>\n",
       "      <td>NaN</td>\n",
       "      <td>HSdf.csv</td>\n",
       "      <td>1</td>\n",
       "      <td>0.668052</td>\n",
       "    </tr>\n",
       "    <tr>\n",
       "      <th>10</th>\n",
       "      <td>0.993173</td>\n",
       "      <td>1.080542</td>\n",
       "      <td>0.077183</td>\n",
       "      <td>0.152091</td>\n",
       "      <td>0.234904</td>\n",
       "      <td>2</td>\n",
       "      <td>MexHS.csv</td>\n",
       "      <td>False</td>\n",
       "      <td>0.161439</td>\n",
       "      <td>1.000000</td>\n",
       "      <td>1.080542</td>\n",
       "      <td>0.986345</td>\n",
       "      <td>1.080542</td>\n",
       "      <td>NaN</td>\n",
       "      <td>HSdf.csv</td>\n",
       "      <td>1</td>\n",
       "      <td>0.438186</td>\n",
       "    </tr>\n",
       "    <tr>\n",
       "      <th>11</th>\n",
       "      <td>0.000000</td>\n",
       "      <td>NaN</td>\n",
       "      <td>0.000067</td>\n",
       "      <td>0.000218</td>\n",
       "      <td>0.000000</td>\n",
       "      <td>9</td>\n",
       "      <td>AtlasHS_WithNoMexican.csv</td>\n",
       "      <td>False</td>\n",
       "      <td>0.010400</td>\n",
       "      <td>0.000000</td>\n",
       "      <td>NaN</td>\n",
       "      <td>0.000000</td>\n",
       "      <td>NaN</td>\n",
       "      <td>NaN</td>\n",
       "      <td>MexHS__1.csv</td>\n",
       "      <td>0</td>\n",
       "      <td>0.008281</td>\n",
       "    </tr>\n",
       "    <tr>\n",
       "      <th>12</th>\n",
       "      <td>0.985205</td>\n",
       "      <td>NaN</td>\n",
       "      <td>0.085937</td>\n",
       "      <td>0.069109</td>\n",
       "      <td>0.115146</td>\n",
       "      <td>1</td>\n",
       "      <td>HSdf__1.csv</td>\n",
       "      <td>False</td>\n",
       "      <td>0.077866</td>\n",
       "      <td>0.985205</td>\n",
       "      <td>NaN</td>\n",
       "      <td>0.985205</td>\n",
       "      <td>NaN</td>\n",
       "      <td>NaN</td>\n",
       "      <td>MexHS__1.csv</td>\n",
       "      <td>0</td>\n",
       "      <td>0.324547</td>\n",
       "    </tr>\n",
       "    <tr>\n",
       "      <th>13</th>\n",
       "      <td>0.985205</td>\n",
       "      <td>NaN</td>\n",
       "      <td>0.086769</td>\n",
       "      <td>0.074987</td>\n",
       "      <td>0.118212</td>\n",
       "      <td>1</td>\n",
       "      <td>AtlasHS.csv</td>\n",
       "      <td>False</td>\n",
       "      <td>0.080597</td>\n",
       "      <td>0.985205</td>\n",
       "      <td>NaN</td>\n",
       "      <td>0.985205</td>\n",
       "      <td>NaN</td>\n",
       "      <td>NaN</td>\n",
       "      <td>MexHS__1.csv</td>\n",
       "      <td>0</td>\n",
       "      <td>0.327270</td>\n",
       "    </tr>\n",
       "    <tr>\n",
       "      <th>14</th>\n",
       "      <td>1.000000</td>\n",
       "      <td>1.091384</td>\n",
       "      <td>0.916268</td>\n",
       "      <td>0.852289</td>\n",
       "      <td>0.917607</td>\n",
       "      <td>9</td>\n",
       "      <td>MexHS__1.csv</td>\n",
       "      <td>True</td>\n",
       "      <td>0.919086</td>\n",
       "      <td>1.000000</td>\n",
       "      <td>1.091384</td>\n",
       "      <td>1.000000</td>\n",
       "      <td>1.091384</td>\n",
       "      <td>NaN</td>\n",
       "      <td>MexHS.csv</td>\n",
       "      <td>3</td>\n",
       "      <td>0.945912</td>\n",
       "    </tr>\n",
       "    <tr>\n",
       "      <th>15</th>\n",
       "      <td>1.000000</td>\n",
       "      <td>12.431193</td>\n",
       "      <td>0.000000</td>\n",
       "      <td>0.081785</td>\n",
       "      <td>0.073954</td>\n",
       "      <td>4</td>\n",
       "      <td>HSdf__1.csv</td>\n",
       "      <td>False</td>\n",
       "      <td>0.015241</td>\n",
       "      <td>1.000000</td>\n",
       "      <td>12.431193</td>\n",
       "      <td>1.000000</td>\n",
       "      <td>12.431193</td>\n",
       "      <td>NaN</td>\n",
       "      <td>AtlasHS_WithNoMexican.csv</td>\n",
       "      <td>2</td>\n",
       "      <td>0.076090</td>\n",
       "    </tr>\n",
       "    <tr>\n",
       "      <th>16</th>\n",
       "      <td>1.000000</td>\n",
       "      <td>11.385321</td>\n",
       "      <td>0.006756</td>\n",
       "      <td>0.145721</td>\n",
       "      <td>0.079420</td>\n",
       "      <td>4</td>\n",
       "      <td>AtlasHS.csv</td>\n",
       "      <td>False</td>\n",
       "      <td>0.016202</td>\n",
       "      <td>1.000000</td>\n",
       "      <td>11.385321</td>\n",
       "      <td>1.000000</td>\n",
       "      <td>11.385321</td>\n",
       "      <td>NaN</td>\n",
       "      <td>AtlasHS_WithNoMexican.csv</td>\n",
       "      <td>2</td>\n",
       "      <td>0.079559</td>\n",
       "    </tr>\n",
       "    <tr>\n",
       "      <th>17</th>\n",
       "      <td>0.000000</td>\n",
       "      <td>NaN</td>\n",
       "      <td>0.000245</td>\n",
       "      <td>0.001053</td>\n",
       "      <td>0.000000</td>\n",
       "      <td>9</td>\n",
       "      <td>MexHS.csv</td>\n",
       "      <td>False</td>\n",
       "      <td>0.009650</td>\n",
       "      <td>0.000000</td>\n",
       "      <td>NaN</td>\n",
       "      <td>0.000000</td>\n",
       "      <td>NaN</td>\n",
       "      <td>NaN</td>\n",
       "      <td>AtlasHS_WithNoMexican.csv</td>\n",
       "      <td>0</td>\n",
       "      <td>0.007892</td>\n",
       "    </tr>\n",
       "    <tr>\n",
       "      <th>18</th>\n",
       "      <td>1.000000</td>\n",
       "      <td>1.091861</td>\n",
       "      <td>0.915867</td>\n",
       "      <td>0.754830</td>\n",
       "      <td>0.909989</td>\n",
       "      <td>4</td>\n",
       "      <td>AtlasHS.csv</td>\n",
       "      <td>True</td>\n",
       "      <td>0.915867</td>\n",
       "      <td>1.000000</td>\n",
       "      <td>1.091861</td>\n",
       "      <td>1.000000</td>\n",
       "      <td>1.091861</td>\n",
       "      <td>NaN</td>\n",
       "      <td>HSdf__1.csv</td>\n",
       "      <td>1</td>\n",
       "      <td>0.942470</td>\n",
       "    </tr>\n",
       "    <tr>\n",
       "      <th>19</th>\n",
       "      <td>0.986345</td>\n",
       "      <td>NaN</td>\n",
       "      <td>0.000062</td>\n",
       "      <td>0.074969</td>\n",
       "      <td>0.117344</td>\n",
       "      <td>1</td>\n",
       "      <td>MexHS.csv</td>\n",
       "      <td>False</td>\n",
       "      <td>0.074552</td>\n",
       "      <td>0.986345</td>\n",
       "      <td>NaN</td>\n",
       "      <td>0.986345</td>\n",
       "      <td>NaN</td>\n",
       "      <td>NaN</td>\n",
       "      <td>HSdf__1.csv</td>\n",
       "      <td>0</td>\n",
       "      <td>0.308619</td>\n",
       "    </tr>\n",
       "    <tr>\n",
       "      <th>20</th>\n",
       "      <td>0.912168</td>\n",
       "      <td>NaN</td>\n",
       "      <td>0.000000</td>\n",
       "      <td>0.069670</td>\n",
       "      <td>0.109839</td>\n",
       "      <td>1</td>\n",
       "      <td>MexHS.csv</td>\n",
       "      <td>False</td>\n",
       "      <td>0.075926</td>\n",
       "      <td>0.912168</td>\n",
       "      <td>NaN</td>\n",
       "      <td>0.912168</td>\n",
       "      <td>NaN</td>\n",
       "      <td>NaN</td>\n",
       "      <td>AtlasHS.csv</td>\n",
       "      <td>0</td>\n",
       "      <td>0.310210</td>\n",
       "    </tr>\n",
       "  </tbody>\n",
       "</table>\n",
       "</div>"
      ],
      "text/plain": [
       "    avg_containment  avg_contraction  cell_jaccard  col_jaccard  \\\n",
       "0          0.982434         1.091861      0.069311     0.321177   \n",
       "1          0.996516              NaN      0.089652     0.692159   \n",
       "2          0.333333        11.385321      0.010723     0.188688   \n",
       "3          1.000000         1.091861      0.069311     0.251610   \n",
       "4          1.000000              NaN      0.069311     0.333333   \n",
       "5          0.907284              NaN      0.089646     0.619566   \n",
       "6          0.992602         1.179286      0.070664     0.139773   \n",
       "7          0.800000        12.431193      0.000000     0.081785   \n",
       "8          0.968750              NaN      0.800000     0.800000   \n",
       "9          1.000000         1.091861      0.732694     0.603864   \n",
       "10         0.993173         1.080542      0.077183     0.152091   \n",
       "11         0.000000              NaN      0.000067     0.000218   \n",
       "12         0.985205              NaN      0.085937     0.069109   \n",
       "13         0.985205              NaN      0.086769     0.074987   \n",
       "14         1.000000         1.091384      0.916268     0.852289   \n",
       "15         1.000000        12.431193      0.000000     0.081785   \n",
       "16         1.000000        11.385321      0.006756     0.145721   \n",
       "17         0.000000              NaN      0.000245     0.001053   \n",
       "18         1.000000         1.091861      0.915867     0.754830   \n",
       "19         0.986345              NaN      0.000062     0.074969   \n",
       "20         0.912168              NaN      0.000000     0.069670   \n",
       "\n",
       "    colvalset_jaccard  common_cols                       dest  ground_truth  \\\n",
       "0            0.364978            5                   HSdf.csv         False   \n",
       "1            0.818618            9    AtlasHSWithMexMerge.csv          True   \n",
       "2            0.025949           12  AtlasHS_WithNoMexican.csv          True   \n",
       "3            0.259304            4                HSdf__1.csv         False   \n",
       "4            0.266130            4    AtlasHSWithMexMerge.csv          True   \n",
       "5            0.762018            9                  MexHS.csv         False   \n",
       "6            0.227259            2               MexHS__1.csv         False   \n",
       "7            0.054150            5  AtlasHS_WithNoMexican.csv         False   \n",
       "8            0.670076            4                HSdf__1.csv          True   \n",
       "9            0.615568            4                AtlasHS.csv         False   \n",
       "10           0.234904            2                  MexHS.csv         False   \n",
       "11           0.000000            9  AtlasHS_WithNoMexican.csv         False   \n",
       "12           0.115146            1                HSdf__1.csv         False   \n",
       "13           0.118212            1                AtlasHS.csv         False   \n",
       "14           0.917607            9               MexHS__1.csv          True   \n",
       "15           0.073954            4                HSdf__1.csv         False   \n",
       "16           0.079420            4                AtlasHS.csv         False   \n",
       "17           0.000000            9                  MexHS.csv         False   \n",
       "18           0.909989            4                AtlasHS.csv          True   \n",
       "19           0.117344            1                  MexHS.csv         False   \n",
       "20           0.109839            1                  MexHS.csv         False   \n",
       "\n",
       "    ivalset_jaccard  max_containment  max_contraction  min_containment  \\\n",
       "0          0.070572         1.000000         1.091861         0.912168   \n",
       "1          0.078521         1.000000              NaN         0.985205   \n",
       "2          0.037043         1.000000        11.385321         0.000000   \n",
       "3          0.074259         1.000000         1.091861         1.000000   \n",
       "4          0.076485         1.000000              NaN         1.000000   \n",
       "5          0.077390         1.000000              NaN         0.500000   \n",
       "6          0.160776         1.000000         1.179286         0.985205   \n",
       "7          0.012653         1.000000        12.431193         0.000000   \n",
       "8          0.795759         1.000000              NaN         0.875000   \n",
       "9          0.732694         1.000000         1.091861         1.000000   \n",
       "10         0.161439         1.000000         1.080542         0.986345   \n",
       "11         0.010400         0.000000              NaN         0.000000   \n",
       "12         0.077866         0.985205              NaN         0.985205   \n",
       "13         0.080597         0.985205              NaN         0.985205   \n",
       "14         0.919086         1.000000         1.091384         1.000000   \n",
       "15         0.015241         1.000000        12.431193         1.000000   \n",
       "16         0.016202         1.000000        11.385321         1.000000   \n",
       "17         0.009650         0.000000              NaN         0.000000   \n",
       "18         0.915867         1.000000         1.091861         1.000000   \n",
       "19         0.074552         0.986345              NaN         0.986345   \n",
       "20         0.075926         0.912168              NaN         0.912168   \n",
       "\n",
       "    min_contraction operation                     source  unique_cols  \\\n",
       "0          1.091861       NaN    AtlasHSWithMexMerge.csv            1   \n",
       "1               NaN     merge               MexHS__1.csv            0   \n",
       "2         11.385321    isnull    AtlasHSWithMexMerge.csv            2   \n",
       "3          1.091861       NaN    AtlasHSWithMexMerge.csv            1   \n",
       "4               NaN     merge                AtlasHS.csv            0   \n",
       "5               NaN       NaN    AtlasHSWithMexMerge.csv            0   \n",
       "6          1.179286       NaN                   HSdf.csv            1   \n",
       "7         12.431193       NaN                   HSdf.csv            2   \n",
       "8               NaN    filter                   HSdf.csv            0   \n",
       "9          1.091861       NaN                   HSdf.csv            1   \n",
       "10         1.080542       NaN                   HSdf.csv            1   \n",
       "11              NaN       NaN               MexHS__1.csv            0   \n",
       "12              NaN       NaN               MexHS__1.csv            0   \n",
       "13              NaN       NaN               MexHS__1.csv            0   \n",
       "14         1.091384       NaN                  MexHS.csv            3   \n",
       "15        12.431193       NaN  AtlasHS_WithNoMexican.csv            2   \n",
       "16        11.385321       NaN  AtlasHS_WithNoMexican.csv            2   \n",
       "17              NaN       NaN  AtlasHS_WithNoMexican.csv            0   \n",
       "18         1.091861       NaN                HSdf__1.csv            1   \n",
       "19              NaN       NaN                HSdf__1.csv            0   \n",
       "20              NaN       NaN                AtlasHS.csv            0   \n",
       "\n",
       "    valset_jaccard  \n",
       "0         0.485371  \n",
       "1         0.920744  \n",
       "2         0.034084  \n",
       "3         0.355616  \n",
       "4         0.358867  \n",
       "5         0.874117  \n",
       "6         0.459118  \n",
       "7         0.058026  \n",
       "8         0.701759  \n",
       "9         0.668052  \n",
       "10        0.438186  \n",
       "11        0.008281  \n",
       "12        0.324547  \n",
       "13        0.327270  \n",
       "14        0.945912  \n",
       "15        0.076090  \n",
       "16        0.079559  \n",
       "17        0.007892  \n",
       "18        0.942470  \n",
       "19        0.308619  \n",
       "20        0.310210  "
      ]
     },
     "execution_count": 27,
     "metadata": {},
     "output_type": "execute_result"
    }
   ],
   "source": [
    "pairsdf"
   ]
  },
  {
   "cell_type": "code",
   "execution_count": 53,
   "metadata": {},
   "outputs": [],
   "source": [
    "import math\n",
    "nantups = [x for x in similarity.get_indexed_cellvalset(df_dict['users_ren_col.csv']) if type(x[2]) == float and math.isnan(x[2])]"
   ]
  },
  {
   "cell_type": "code",
   "execution_count": 55,
   "metadata": {},
   "outputs": [
    {
     "data": {
      "text/plain": [
       "True"
      ]
     },
     "execution_count": 55,
     "metadata": {},
     "output_type": "execute_result"
    }
   ],
   "source": [
    "math.isnan(nantups[0][2]) and math.isnan(nantups[1][2])"
   ]
  },
  {
   "cell_type": "markdown",
   "metadata": {},
   "source": [
    "# GroupBy Testing"
   ]
  },
  {
   "cell_type": "code",
   "execution_count": 53,
   "metadata": {},
   "outputs": [],
   "source": [
    "# Column Value containment\n",
    "\n",
    "def col_containment(df1, df2, colname, col2name=None):\n",
    "    if(col2name==None):\n",
    "        col2name = colname\n",
    "\n",
    "    df1valset = set(df1[colname])\n",
    "    df2valset = set(df2[col2name])\n",
    "\n",
    "    return len(df1valset.intersection(df2valset)) / len(df2valset)\n",
    "\n"
   ]
  },
  {
   "cell_type": "code",
   "execution_count": 59,
   "metadata": {},
   "outputs": [
    {
     "data": {
      "text/html": [
       "<div>\n",
       "<style scoped>\n",
       "    .dataframe tbody tr th:only-of-type {\n",
       "        vertical-align: middle;\n",
       "    }\n",
       "\n",
       "    .dataframe tbody tr th {\n",
       "        vertical-align: top;\n",
       "    }\n",
       "\n",
       "    .dataframe thead th {\n",
       "        text-align: right;\n",
       "    }\n",
       "</style>\n",
       "<table border=\"1\" class=\"dataframe\">\n",
       "  <thead>\n",
       "    <tr style=\"text-align: right;\">\n",
       "      <th></th>\n",
       "      <th>Crime type</th>\n",
       "      <th>Outcome Month</th>\n",
       "      <th>Outcome type</th>\n",
       "      <th>Crime Month</th>\n",
       "      <th>Area</th>\n",
       "    </tr>\n",
       "  </thead>\n",
       "  <tbody>\n",
       "    <tr>\n",
       "      <th>0</th>\n",
       "      <td>Bicycle theft</td>\n",
       "      <td>8531</td>\n",
       "      <td>8531</td>\n",
       "      <td>8531</td>\n",
       "      <td>8531</td>\n",
       "    </tr>\n",
       "    <tr>\n",
       "      <th>1</th>\n",
       "      <td>Burglary</td>\n",
       "      <td>31245</td>\n",
       "      <td>31245</td>\n",
       "      <td>31245</td>\n",
       "      <td>31245</td>\n",
       "    </tr>\n",
       "    <tr>\n",
       "      <th>2</th>\n",
       "      <td>Criminal damage and arson</td>\n",
       "      <td>30280</td>\n",
       "      <td>30280</td>\n",
       "      <td>30280</td>\n",
       "      <td>30280</td>\n",
       "    </tr>\n",
       "    <tr>\n",
       "      <th>3</th>\n",
       "      <td>Drugs</td>\n",
       "      <td>31644</td>\n",
       "      <td>31644</td>\n",
       "      <td>31644</td>\n",
       "      <td>31644</td>\n",
       "    </tr>\n",
       "    <tr>\n",
       "      <th>4</th>\n",
       "      <td>Other crime</td>\n",
       "      <td>7205</td>\n",
       "      <td>7205</td>\n",
       "      <td>7205</td>\n",
       "      <td>7205</td>\n",
       "    </tr>\n",
       "    <tr>\n",
       "      <th>5</th>\n",
       "      <td>Other theft</td>\n",
       "      <td>62802</td>\n",
       "      <td>62802</td>\n",
       "      <td>62802</td>\n",
       "      <td>62802</td>\n",
       "    </tr>\n",
       "    <tr>\n",
       "      <th>6</th>\n",
       "      <td>Possession of weapons</td>\n",
       "      <td>3582</td>\n",
       "      <td>3582</td>\n",
       "      <td>3582</td>\n",
       "      <td>3582</td>\n",
       "    </tr>\n",
       "    <tr>\n",
       "      <th>7</th>\n",
       "      <td>Public order</td>\n",
       "      <td>32107</td>\n",
       "      <td>32107</td>\n",
       "      <td>32107</td>\n",
       "      <td>32107</td>\n",
       "    </tr>\n",
       "    <tr>\n",
       "      <th>8</th>\n",
       "      <td>Robbery</td>\n",
       "      <td>15617</td>\n",
       "      <td>15617</td>\n",
       "      <td>15617</td>\n",
       "      <td>15617</td>\n",
       "    </tr>\n",
       "    <tr>\n",
       "      <th>9</th>\n",
       "      <td>Shoplifting</td>\n",
       "      <td>36765</td>\n",
       "      <td>36765</td>\n",
       "      <td>36765</td>\n",
       "      <td>36765</td>\n",
       "    </tr>\n",
       "    <tr>\n",
       "      <th>10</th>\n",
       "      <td>Theft from the person</td>\n",
       "      <td>17704</td>\n",
       "      <td>17704</td>\n",
       "      <td>17704</td>\n",
       "      <td>17704</td>\n",
       "    </tr>\n",
       "    <tr>\n",
       "      <th>11</th>\n",
       "      <td>Vehicle crime</td>\n",
       "      <td>29855</td>\n",
       "      <td>29855</td>\n",
       "      <td>29855</td>\n",
       "      <td>29855</td>\n",
       "    </tr>\n",
       "    <tr>\n",
       "      <th>12</th>\n",
       "      <td>Violence and sexual offences</td>\n",
       "      <td>138832</td>\n",
       "      <td>138832</td>\n",
       "      <td>138832</td>\n",
       "      <td>138832</td>\n",
       "    </tr>\n",
       "  </tbody>\n",
       "</table>\n",
       "</div>"
      ],
      "text/plain": [
       "                      Crime type  Outcome Month  Outcome type  Crime Month  \\\n",
       "0                  Bicycle theft           8531          8531         8531   \n",
       "1                       Burglary          31245         31245        31245   \n",
       "2      Criminal damage and arson          30280         30280        30280   \n",
       "3                          Drugs          31644         31644        31644   \n",
       "4                    Other crime           7205          7205         7205   \n",
       "5                    Other theft          62802         62802        62802   \n",
       "6          Possession of weapons           3582          3582         3582   \n",
       "7                   Public order          32107         32107        32107   \n",
       "8                        Robbery          15617         15617        15617   \n",
       "9                    Shoplifting          36765         36765        36765   \n",
       "10         Theft from the person          17704         17704        17704   \n",
       "11                 Vehicle crime          29855         29855        29855   \n",
       "12  Violence and sexual offences         138832        138832       138832   \n",
       "\n",
       "      Area  \n",
       "0     8531  \n",
       "1    31245  \n",
       "2    30280  \n",
       "3    31644  \n",
       "4     7205  \n",
       "5    62802  \n",
       "6     3582  \n",
       "7    32107  \n",
       "8    15617  \n",
       "9    36765  \n",
       "10   17704  \n",
       "11   29855  \n",
       "12  138832  "
      ]
     },
     "execution_count": 59,
     "metadata": {},
     "output_type": "execute_result"
    }
   ],
   "source": [
    "df_dict['crimeTypes.csv']"
   ]
  },
  {
   "cell_type": "code",
   "execution_count": 62,
   "metadata": {},
   "outputs": [
    {
     "data": {
      "text/plain": [
       "1.0"
      ]
     },
     "execution_count": 62,
     "metadata": {},
     "output_type": "execute_result"
    }
   ],
   "source": [
    "col_containment(df_dict['crimes.csv'], df_dict['crimeTypes.csv'], 'Crime type')"
   ]
  },
  {
   "cell_type": "code",
   "execution_count": 8,
   "metadata": {},
   "outputs": [],
   "source": [
    "import nppo"
   ]
  },
  {
   "cell_type": "code",
   "execution_count": 19,
   "metadata": {},
   "outputs": [
    {
     "data": {
      "text/plain": [
       "2.0"
      ]
     },
     "execution_count": 19,
     "metadata": {},
     "output_type": "execute_result"
    }
   ],
   "source": [
    "nppo.df_groupby_check_new(df_dict['crimes.csv'], df_dict['typeLoc.csv'])"
   ]
  },
  {
   "cell_type": "code",
   "execution_count": 70,
   "metadata": {},
   "outputs": [
    {
     "data": {
      "text/plain": [
       "[['MexHS.csv', 'MexHS__1.csv'],\n",
       " ['AtlasHS.csv', 'HSdf__1.csv', 'HSdf.csv'],\n",
       " ['AtlasHSWithMexMerge.csv'],\n",
       " ['AtlasHS_WithNoMexican.csv']]"
      ]
     },
     "execution_count": 70,
     "metadata": {},
     "output_type": "execute_result"
    }
   ],
   "source": [
    "components = [['MexHS.csv', 'MexHS__1.csv'], ['AtlasHS.csv', 'HSdf__1.csv', 'HSdf.csv'], ['AtlasHSWithMexMerge.csv'], ['AtlasHS_WithNoMexican.csv']]\n",
    "\n",
    "components"
   ]
  },
  {
   "cell_type": "code",
   "execution_count": 69,
   "metadata": {},
   "outputs": [
    {
     "data": {
      "text/plain": [
       "{('AtlasHS.csv', 'AtlasHSWithMexMerge.csv', 'AtlasHS_WithNoMexican.csv'),\n",
       " ('HSdf.csv', 'AtlasHSWithMexMerge.csv', 'AtlasHS_WithNoMexican.csv'),\n",
       " ('HSdf__1.csv', 'AtlasHSWithMexMerge.csv', 'AtlasHS_WithNoMexican.csv'),\n",
       " ('MexHS.csv', 'AtlasHS.csv', 'AtlasHSWithMexMerge.csv'),\n",
       " ('MexHS.csv', 'AtlasHS.csv', 'AtlasHS_WithNoMexican.csv'),\n",
       " ('MexHS.csv', 'AtlasHSWithMexMerge.csv', 'AtlasHS_WithNoMexican.csv'),\n",
       " ('MexHS.csv', 'HSdf.csv', 'AtlasHSWithMexMerge.csv'),\n",
       " ('MexHS.csv', 'HSdf.csv', 'AtlasHS_WithNoMexican.csv'),\n",
       " ('MexHS.csv', 'HSdf__1.csv', 'AtlasHSWithMexMerge.csv'),\n",
       " ('MexHS.csv', 'HSdf__1.csv', 'AtlasHS_WithNoMexican.csv'),\n",
       " ('MexHS__1.csv', 'AtlasHS.csv', 'AtlasHSWithMexMerge.csv'),\n",
       " ('MexHS__1.csv', 'AtlasHS.csv', 'AtlasHS_WithNoMexican.csv'),\n",
       " ('MexHS__1.csv', 'AtlasHSWithMexMerge.csv', 'AtlasHS_WithNoMexican.csv'),\n",
       " ('MexHS__1.csv', 'HSdf.csv', 'AtlasHSWithMexMerge.csv'),\n",
       " ('MexHS__1.csv', 'HSdf.csv', 'AtlasHS_WithNoMexican.csv'),\n",
       " ('MexHS__1.csv', 'HSdf__1.csv', 'AtlasHSWithMexMerge.csv'),\n",
       " ('MexHS__1.csv', 'HSdf__1.csv', 'AtlasHS_WithNoMexican.csv')}"
      ]
     },
     "execution_count": 69,
     "metadata": {},
     "output_type": "execute_result"
    }
   ],
   "source": [
    "import itertools\n",
    "combos =  [[i for i in itertools.product(*c)] for c in itertools.combinations(components,3)]\n",
    "set(item for sublist in combos for item in sublist)"
   ]
  },
  {
   "cell_type": "code",
   "execution_count": null,
   "metadata": {},
   "outputs": [],
   "source": []
  }
 ],
 "metadata": {
  "kernelspec": {
   "display_name": "Python 3",
   "language": "python",
   "name": "python3"
  },
  "language_info": {
   "codemirror_mode": {
    "name": "ipython",
    "version": 3
   },
   "file_extension": ".py",
   "mimetype": "text/x-python",
   "name": "python",
   "nbconvert_exporter": "python",
   "pygments_lexer": "ipython3",
   "version": "3.7.6"
  }
 },
 "nbformat": 4,
 "nbformat_minor": 4
}
