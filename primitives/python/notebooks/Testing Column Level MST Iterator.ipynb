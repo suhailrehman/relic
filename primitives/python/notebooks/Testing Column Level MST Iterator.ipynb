{
 "cells": [
  {
   "cell_type": "code",
   "execution_count": 1,
   "metadata": {},
   "outputs": [],
   "source": [
    "import sys\n",
    "sys.path.insert(0, '..')\n",
    "from lineage import graphs, similarity\n",
    "import pandas as pd\n",
    "import os\n",
    "import networkx as nx\n",
    "import ipywidgets\n",
    "\n",
    "import clustering\n",
    "\n",
    "from uuid import uuid4"
   ]
  },
  {
   "cell_type": "code",
   "execution_count": 2,
   "metadata": {},
   "outputs": [],
   "source": [
    "RESULT_DIR = '/home/suhail/Projects/relic/primitives/python/generator/dataset/'\n",
    "notebooks = [d for d in os.listdir(RESULT_DIR) if os.path.isdir(os.path.join(RESULT_DIR, d))]\n",
    "nb = notebooks[1]\n"
   ]
  },
  {
   "cell_type": "code",
   "execution_count": 3,
   "metadata": {},
   "outputs": [
    {
     "data": {
      "application/vnd.jupyter.widget-view+json": {
       "model_id": "",
       "version_major": 2,
       "version_minor": 0
      },
      "text/plain": [
       "HBox(children=(FloatProgress(value=0.0, description='graph pairs', max=1711.0, style=ProgressStyle(description…"
      ]
     },
     "metadata": {},
     "output_type": "display_data"
    },
    {
     "data": {
      "application/vnd.jupyter.widget-view+json": {
       "model_id": "",
       "version_major": 2,
       "version_minor": 0
      },
      "text/plain": [
       "HBox(children=(FloatProgress(value=0.0, description='graph pairs', max=1711.0, style=ProgressStyle(description…"
      ]
     },
     "metadata": {},
     "output_type": "display_data"
    },
    {
     "name": "stdout",
     "output_type": "stream",
     "text": [
      "20200706-140032 0.8173913043478261 0.8173913043478261\n"
     ]
    },
    {
     "data": {
      "application/vnd.jupyter.widget-view+json": {
       "model_id": "",
       "version_major": 2,
       "version_minor": 0
      },
      "text/plain": [
       "HBox(children=(FloatProgress(value=0.0, description='graph pairs', max=1596.0, style=ProgressStyle(description…"
      ]
     },
     "metadata": {},
     "output_type": "display_data"
    },
    {
     "data": {
      "application/vnd.jupyter.widget-view+json": {
       "model_id": "",
       "version_major": 2,
       "version_minor": 0
      },
      "text/plain": [
       "HBox(children=(FloatProgress(value=0.0, description='graph pairs', max=1596.0, style=ProgressStyle(description…"
      ]
     },
     "metadata": {},
     "output_type": "display_data"
    },
    {
     "name": "stdout",
     "output_type": "stream",
     "text": [
      "20200706-140030 0.8545454545454546 0.8545454545454546\n"
     ]
    },
    {
     "data": {
      "application/vnd.jupyter.widget-view+json": {
       "model_id": "",
       "version_major": 2,
       "version_minor": 0
      },
      "text/plain": [
       "HBox(children=(FloatProgress(value=0.0, description='graph pairs', max=1830.0, style=ProgressStyle(description…"
      ]
     },
     "metadata": {},
     "output_type": "display_data"
    },
    {
     "data": {
      "application/vnd.jupyter.widget-view+json": {
       "model_id": "",
       "version_major": 2,
       "version_minor": 0
      },
      "text/plain": [
       "HBox(children=(FloatProgress(value=0.0, description='graph pairs', max=1830.0, style=ProgressStyle(description…"
      ]
     },
     "metadata": {},
     "output_type": "display_data"
    },
    {
     "name": "stdout",
     "output_type": "stream",
     "text": [
      "20200706-140024 0.8403361344537815 0.8403361344537815\n"
     ]
    },
    {
     "data": {
      "application/vnd.jupyter.widget-view+json": {
       "model_id": "",
       "version_major": 2,
       "version_minor": 0
      },
      "text/plain": [
       "HBox(children=(FloatProgress(value=0.0, description='graph pairs', max=231.0, style=ProgressStyle(description_…"
      ]
     },
     "metadata": {},
     "output_type": "display_data"
    },
    {
     "data": {
      "application/vnd.jupyter.widget-view+json": {
       "model_id": "",
       "version_major": 2,
       "version_minor": 0
      },
      "text/plain": [
       "HBox(children=(FloatProgress(value=0.0, description='graph pairs', max=231.0, style=ProgressStyle(description_…"
      ]
     },
     "metadata": {},
     "output_type": "display_data"
    },
    {
     "name": "stdout",
     "output_type": "stream",
     "text": [
      "20200706-140017 0.8780487804878048 0.8780487804878048\n"
     ]
    },
    {
     "data": {
      "application/vnd.jupyter.widget-view+json": {
       "model_id": "",
       "version_major": 2,
       "version_minor": 0
      },
      "text/plain": [
       "HBox(children=(FloatProgress(value=0.0, description='graph pairs', max=1770.0, style=ProgressStyle(description…"
      ]
     },
     "metadata": {},
     "output_type": "display_data"
    },
    {
     "data": {
      "application/vnd.jupyter.widget-view+json": {
       "model_id": "",
       "version_major": 2,
       "version_minor": 0
      },
      "text/plain": [
       "HBox(children=(FloatProgress(value=0.0, description='graph pairs', max=1770.0, style=ProgressStyle(description…"
      ]
     },
     "metadata": {},
     "output_type": "display_data"
    },
    {
     "name": "stdout",
     "output_type": "stream",
     "text": [
      "20200706-140026 0.8448275862068966 0.8448275862068966\n"
     ]
    },
    {
     "data": {
      "application/vnd.jupyter.widget-view+json": {
       "model_id": "",
       "version_major": 2,
       "version_minor": 0
      },
      "text/plain": [
       "HBox(children=(FloatProgress(value=0.0, description='graph pairs', max=253.0, style=ProgressStyle(description_…"
      ]
     },
     "metadata": {},
     "output_type": "display_data"
    },
    {
     "data": {
      "application/vnd.jupyter.widget-view+json": {
       "model_id": "",
       "version_major": 2,
       "version_minor": 0
      },
      "text/plain": [
       "HBox(children=(FloatProgress(value=0.0, description='graph pairs', max=253.0, style=ProgressStyle(description_…"
      ]
     },
     "metadata": {},
     "output_type": "display_data"
    },
    {
     "name": "stdout",
     "output_type": "stream",
     "text": [
      "20200706-140020 0.8181818181818182 0.8181818181818182\n"
     ]
    },
    {
     "data": {
      "application/vnd.jupyter.widget-view+json": {
       "model_id": "",
       "version_major": 2,
       "version_minor": 0
      },
      "text/plain": [
       "HBox(children=(FloatProgress(value=0.0, description='graph pairs', max=325.0, style=ProgressStyle(description_…"
      ]
     },
     "metadata": {},
     "output_type": "display_data"
    },
    {
     "data": {
      "application/vnd.jupyter.widget-view+json": {
       "model_id": "",
       "version_major": 2,
       "version_minor": 0
      },
      "text/plain": [
       "HBox(children=(FloatProgress(value=0.0, description='graph pairs', max=325.0, style=ProgressStyle(description_…"
      ]
     },
     "metadata": {},
     "output_type": "display_data"
    },
    {
     "name": "stdout",
     "output_type": "stream",
     "text": [
      "20200706-140021 0.7916666666666667 0.7916666666666667\n"
     ]
    },
    {
     "data": {
      "application/vnd.jupyter.widget-view+json": {
       "model_id": "",
       "version_major": 2,
       "version_minor": 0
      },
      "text/plain": [
       "HBox(children=(FloatProgress(value=0.0, description='graph pairs', max=253.0, style=ProgressStyle(description_…"
      ]
     },
     "metadata": {},
     "output_type": "display_data"
    },
    {
     "data": {
      "application/vnd.jupyter.widget-view+json": {
       "model_id": "",
       "version_major": 2,
       "version_minor": 0
      },
      "text/plain": [
       "HBox(children=(FloatProgress(value=0.0, description='graph pairs', max=253.0, style=ProgressStyle(description_…"
      ]
     },
     "metadata": {},
     "output_type": "display_data"
    },
    {
     "name": "stdout",
     "output_type": "stream",
     "text": [
      "20200706-140018 0.9545454545454546 0.9545454545454546\n"
     ]
    }
   ],
   "source": [
    "# First, find the number of edges that have the same column-level weight/score\n",
    "\n",
    "\n",
    "#Load the artifact list\n",
    "for nb in notebooks:\n",
    "    df_dict = similarity.load_dataset_dir(RESULT_DIR+nb+'/artifacts/', '*.csv', index_col=0)\n",
    "    ground_truth = graphs.get_graph(RESULT_DIR, nb)\n",
    "\n",
    "    # Relabel the nodes with randomized UUID in a df_dict copy\n",
    "    rename_dict = {old_name: str(uuid4()) for old_name in df_dict.keys()}\n",
    "    df_dict_rev = {rename_dict[k] : v for k,v in df_dict.items()}\n",
    "    rev_rename_dict = {v: k for k,v in rename_dict.items()}\n",
    "    ground_truth_rename = nx.relabel.relabel_nodes(ground_truth, rename_dict)\n",
    "\n",
    "\n",
    "    # Generate Pairwise graphs for both df_dicts\n",
    "    all_pairwise_col_jaccard = similarity.get_pairwise_similarity(df_dict, similarity.compute_col_jaccard_DF)\n",
    "    all_pw_col_jaccard_graph = graphs.generate_pairwise_graph(all_pairwise_col_jaccard)\n",
    "    threshold_graph = graphs.get_subgraph_threshold(all_pw_col_jaccard_graph, 0.1)\n",
    "    g_inferred, edge_num = clustering.max_spanning_tree(threshold_graph, edge_type='col')\n",
    "    result_1 = graphs.get_precision_recall(ground_truth, g_inferred)\n",
    "\n",
    "    all_pairwise_col_jaccard = similarity.get_pairwise_similarity(df_dict_rev, similarity.compute_col_jaccard_DF)\n",
    "    all_pw_col_jaccard_graph = graphs.generate_pairwise_graph(all_pairwise_col_jaccard)\n",
    "    threshold_graph = graphs.get_subgraph_threshold(all_pw_col_jaccard_graph, 0.1)\n",
    "    g_inferred_rev, edge_num = clustering.max_spanning_tree(threshold_graph, edge_type='col')\n",
    "    result_2 = graphs.get_precision_recall(ground_truth_rename, g_inferred_rev)\n",
    "    \n",
    "    print(nb, result_1['F1'], result_2['F1'])\n",
    "\n",
    "# Check the individual P/R results\n",
    "\n",
    "\n"
   ]
  },
  {
   "cell_type": "code",
   "execution_count": 30,
   "metadata": {},
   "outputs": [
    {
     "data": {
      "text/plain": [
       "({'Precision': 0.8703703703703703,\n",
       "  'Recall': 0.8392857142857143,\n",
       "  'F1': 0.8545454545454546,\n",
       "  'correct_edges': {frozenset({'50.csv', '51.csv'}),\n",
       "   frozenset({'0.csv', '4.csv'}),\n",
       "   frozenset({'37.csv', '39.csv'}),\n",
       "   frozenset({'2.csv', '27.csv'}),\n",
       "   frozenset({'43.csv', '54.csv'}),\n",
       "   frozenset({'42.csv', '50.csv'}),\n",
       "   frozenset({'11.csv', '24.csv'}),\n",
       "   frozenset({'10.csv', '9.csv'}),\n",
       "   frozenset({'38.csv', '40.csv'}),\n",
       "   frozenset({'5.csv', '8.csv'}),\n",
       "   frozenset({'12.csv', '7.csv'}),\n",
       "   frozenset({'1.csv', '15.csv'}),\n",
       "   frozenset({'1.csv', '44.csv'}),\n",
       "   frozenset({'46.csv', '47.csv'}),\n",
       "   frozenset({'25.csv', '34.csv'}),\n",
       "   frozenset({'15.csv', '33.csv'}),\n",
       "   frozenset({'46.csv', '48.csv'}),\n",
       "   frozenset({'28.csv', '29.csv'}),\n",
       "   frozenset({'7.csv', '8.csv'}),\n",
       "   frozenset({'29.csv', '35.csv'}),\n",
       "   frozenset({'46.csv', '52.csv'}),\n",
       "   frozenset({'0.csv', '3.csv'}),\n",
       "   frozenset({'16.csv', '28.csv'}),\n",
       "   frozenset({'20.csv', '5.csv'}),\n",
       "   frozenset({'49.csv', '55.csv'}),\n",
       "   frozenset({'26.csv', '27.csv'}),\n",
       "   frozenset({'14.csv', '21.csv'}),\n",
       "   frozenset({'28.csv', '30.csv'}),\n",
       "   frozenset({'41.csv', '46.csv'}),\n",
       "   frozenset({'53.csv', '54.csv'}),\n",
       "   frozenset({'15.csv', '16.csv'}),\n",
       "   frozenset({'10.csv', '18.csv'}),\n",
       "   frozenset({'17.csv', '18.csv'}),\n",
       "   frozenset({'40.csv', '41.csv'}),\n",
       "   frozenset({'31.csv', '32.csv'}),\n",
       "   frozenset({'29.csv', '31.csv'}),\n",
       "   frozenset({'44.csv', '56.csv'}),\n",
       "   frozenset({'23.csv', '25.csv'}),\n",
       "   frozenset({'35.csv', '36.csv'}),\n",
       "   frozenset({'14.csv', '4.csv'}),\n",
       "   frozenset({'0.csv', '5.csv'}),\n",
       "   frozenset({'18.csv', '19.csv'}),\n",
       "   frozenset({'11.csv', '6.csv'}),\n",
       "   frozenset({'32.csv', '37.csv'}),\n",
       "   frozenset({'0.csv', '2.csv'}),\n",
       "   frozenset({'6.csv', '9.csv'}),\n",
       "   frozenset({'36.csv', '38.csv'})},\n",
       "  'to_add': {frozenset({'13.csv', '14.csv'}),\n",
       "   frozenset({'0.csv', '23.csv'}),\n",
       "   frozenset({'23.csv', '45.csv'}),\n",
       "   frozenset({'20.csv', '22.csv'}),\n",
       "   frozenset({'0.csv', '1.csv'}),\n",
       "   frozenset({'43.csv', '44.csv'}),\n",
       "   frozenset({'36.csv', '42.csv'}),\n",
       "   frozenset({'1.csv', '6.csv'}),\n",
       "   frozenset({'49.csv', '50.csv'})},\n",
       "  'to_remove': {frozenset({'2.csv', '23.csv'}),\n",
       "   frozenset({'40.csv', '6.csv'}),\n",
       "   frozenset({'49.csv', '51.csv'}),\n",
       "   frozenset({'13.csv', '21.csv'}),\n",
       "   frozenset({'1.csv', '45.csv'}),\n",
       "   frozenset({'1.csv', '22.csv'}),\n",
       "   frozenset({'43.csv', '56.csv'})}},\n",
       " {'Precision': 0.8703703703703703,\n",
       "  'Recall': 0.8392857142857143,\n",
       "  'F1': 0.8545454545454546,\n",
       "  'correct_edges': {frozenset({'5d7fe84d-3472-4b90-9fdc-4e4d8c07c9df',\n",
       "              '8ffc66a1-adac-430a-85c8-a20b97178e82'}),\n",
       "   frozenset({'7e7fcc43-f038-44d1-b3df-92bdff854685',\n",
       "              '90613226-f9f2-467b-bbc6-ae148ff4affc'}),\n",
       "   frozenset({'b0291717-b851-44a3-975e-cd4dcd170a90',\n",
       "              'db923397-9d48-4ef1-9d40-0848cdac34df'}),\n",
       "   frozenset({'7b6bfbbf-2016-430e-9462-0fae285c7c51',\n",
       "              '92751616-82f0-4b80-b874-0f7836cfc7a0'}),\n",
       "   frozenset({'92751616-82f0-4b80-b874-0f7836cfc7a0',\n",
       "              'f7e34e95-a96f-4e18-9541-f542e8d03432'}),\n",
       "   frozenset({'95782dfd-5ede-4e34-bfc4-952622fa3838',\n",
       "              'a67ef29d-02c9-477e-b5c6-fad96bbc4987'}),\n",
       "   frozenset({'5ebc7c7b-00e0-4524-aba2-262ba5315092',\n",
       "              '6afb30fd-3076-429c-a778-63168b30794d'}),\n",
       "   frozenset({'0ff30ca8-6999-4f0f-baf6-a8813de11642',\n",
       "              '8ffc66a1-adac-430a-85c8-a20b97178e82'}),\n",
       "   frozenset({'a00e89d0-7086-4995-b420-2a94724a363c',\n",
       "              'ecdc7b21-f015-4aef-9cc0-e0cd3a6236e0'}),\n",
       "   frozenset({'b69b5270-b59c-41f3-8200-cb65988c0b9c',\n",
       "              'db1ea928-929d-4ba4-8c23-be7a9c3bf276'}),\n",
       "   frozenset({'4c5a95b1-cfd3-4086-999f-266101852ed2',\n",
       "              'f74ebb91-3195-40aa-b525-dafa386a8530'}),\n",
       "   frozenset({'5ebc7c7b-00e0-4524-aba2-262ba5315092',\n",
       "              'c736de4c-c878-4bd9-b850-b740d13513e2'}),\n",
       "   frozenset({'8eb158b6-86e5-4c5a-904e-ef9114860338',\n",
       "              'ecdc7b21-f015-4aef-9cc0-e0cd3a6236e0'}),\n",
       "   frozenset({'b56e98c1-2913-4b86-a1be-21c0e597b347',\n",
       "              'dddce08d-08fc-4f9d-8953-8d3b2b7ee251'}),\n",
       "   frozenset({'4c3e9111-80dd-4499-9a2e-aed3251ef2d6',\n",
       "              'efda4fc6-d122-4ddb-a38a-4ce21803978e'}),\n",
       "   frozenset({'63d54172-7772-4e1d-9755-bdaacbcf4868',\n",
       "              '99c601e1-79e3-43e8-b876-b5be7ff7dd6b'}),\n",
       "   frozenset({'394b39fb-e14a-4ff8-b679-e52facb93b93',\n",
       "              'c3bdf216-303c-4a5c-abdf-178b437066f0'}),\n",
       "   frozenset({'0876c1b5-89da-455b-ac3c-9d9ee48b8536',\n",
       "              '4993306f-d17e-4420-a3a0-da1e26123428'}),\n",
       "   frozenset({'b3fe1dba-0e14-4100-9f07-c9dd0af6dcc1',\n",
       "              'c3bdf216-303c-4a5c-abdf-178b437066f0'}),\n",
       "   frozenset({'1f35261b-7bc5-48da-bc16-dd52250ce24f',\n",
       "              '3b39f848-eaf4-4f17-bd20-04852f21525d'}),\n",
       "   frozenset({'1f35261b-7bc5-48da-bc16-dd52250ce24f',\n",
       "              'b7d0cf82-c6af-48ed-b32d-dcf6daab919f'}),\n",
       "   frozenset({'7b6bfbbf-2016-430e-9462-0fae285c7c51',\n",
       "              'b56e98c1-2913-4b86-a1be-21c0e597b347'}),\n",
       "   frozenset({'95782dfd-5ede-4e34-bfc4-952622fa3838',\n",
       "              'f74ebb91-3195-40aa-b525-dafa386a8530'}),\n",
       "   frozenset({'59ec3b55-5c50-45ec-89a6-502fad127a0f',\n",
       "              'b69b5270-b59c-41f3-8200-cb65988c0b9c'}),\n",
       "   frozenset({'29f25a48-9124-42bf-af7e-15cb51e304a2',\n",
       "              'efda4fc6-d122-4ddb-a38a-4ce21803978e'}),\n",
       "   frozenset({'a3d6c0ea-7e2e-45ab-9a2a-c60e4ec2baca',\n",
       "              'f1c8825e-a314-4eff-ba9d-70ec81e60091'}),\n",
       "   frozenset({'6843c01a-a5af-4179-9706-a81f71626aa5',\n",
       "              'e8186e0d-5a57-4cca-af16-5be169f42d2d'}),\n",
       "   frozenset({'5d7fe84d-3472-4b90-9fdc-4e4d8c07c9df',\n",
       "              'c8a9b875-d0c4-4983-a81b-8ff3508aca8d'}),\n",
       "   frozenset({'59ec3b55-5c50-45ec-89a6-502fad127a0f',\n",
       "              '95782dfd-5ede-4e34-bfc4-952622fa3838'}),\n",
       "   frozenset({'0ff30ca8-6999-4f0f-baf6-a8813de11642',\n",
       "              'e192a744-753a-4db0-bbf1-51dd27f3c496'}),\n",
       "   frozenset({'6843c01a-a5af-4179-9706-a81f71626aa5',\n",
       "              '90613226-f9f2-467b-bbc6-ae148ff4affc'}),\n",
       "   frozenset({'56a8cfb9-b6ca-474e-8f62-92c6cab9729b',\n",
       "              '8eb158b6-86e5-4c5a-904e-ef9114860338'}),\n",
       "   frozenset({'3272e8ba-0e6f-4a61-a55c-578037be3f59',\n",
       "              '63d54172-7772-4e1d-9755-bdaacbcf4868'}),\n",
       "   frozenset({'4c3e9111-80dd-4499-9a2e-aed3251ef2d6',\n",
       "              'c3bdf216-303c-4a5c-abdf-178b437066f0'}),\n",
       "   frozenset({'1f35261b-7bc5-48da-bc16-dd52250ce24f',\n",
       "              '26073876-81a8-4444-9942-27a2eb8b6349'}),\n",
       "   frozenset({'3b39f848-eaf4-4f17-bd20-04852f21525d',\n",
       "              'a00e89d0-7086-4995-b420-2a94724a363c'}),\n",
       "   frozenset({'0876c1b5-89da-455b-ac3c-9d9ee48b8536',\n",
       "              'ad069ca6-6651-43ee-aa80-451e3f12d9ea'}),\n",
       "   frozenset({'6afb30fd-3076-429c-a778-63168b30794d',\n",
       "              '7e7fcc43-f038-44d1-b3df-92bdff854685'}),\n",
       "   frozenset({'56a8cfb9-b6ca-474e-8f62-92c6cab9729b',\n",
       "              'f7e34e95-a96f-4e18-9541-f542e8d03432'}),\n",
       "   frozenset({'a3d6c0ea-7e2e-45ab-9a2a-c60e4ec2baca',\n",
       "              'b3fe1dba-0e14-4100-9f07-c9dd0af6dcc1'}),\n",
       "   frozenset({'a3d6c0ea-7e2e-45ab-9a2a-c60e4ec2baca',\n",
       "              'f7e34e95-a96f-4e18-9541-f542e8d03432'}),\n",
       "   frozenset({'5d7fe84d-3472-4b90-9fdc-4e4d8c07c9df',\n",
       "              '95782dfd-5ede-4e34-bfc4-952622fa3838'}),\n",
       "   frozenset({'6843c01a-a5af-4179-9706-a81f71626aa5',\n",
       "              'de9f03fe-7609-4da0-a3b6-7dc6e35f69ee'}),\n",
       "   frozenset({'166171f6-7f5a-401c-81ca-553a7cb0b007',\n",
       "              '4c5a95b1-cfd3-4086-999f-266101852ed2'}),\n",
       "   frozenset({'25842d17-a30b-499d-b870-dbb854fb04f1',\n",
       "              'db923397-9d48-4ef1-9d40-0848cdac34df'}),\n",
       "   frozenset({'4a70a056-9320-4dfb-a576-fed98850bcf7',\n",
       "              'fac7df16-09ae-482f-8c50-dc7d22a83c7e'}),\n",
       "   frozenset({'1f35261b-7bc5-48da-bc16-dd52250ce24f',\n",
       "              '917b86c6-694d-482e-befb-f12f6e65be15'})},\n",
       "  'to_add': {frozenset({'c8a9b875-d0c4-4983-a81b-8ff3508aca8d',\n",
       "              'e44a5562-c2ba-4a90-aeb0-21a7a51f9a81'}),\n",
       "   frozenset({'4c5a95b1-cfd3-4086-999f-266101852ed2',\n",
       "              'e1b2ee68-145b-4651-9b38-e552eb956c5a'}),\n",
       "   frozenset({'4a70a056-9320-4dfb-a576-fed98850bcf7',\n",
       "              '63d54172-7772-4e1d-9755-bdaacbcf4868'}),\n",
       "   frozenset({'25842d17-a30b-499d-b870-dbb854fb04f1',\n",
       "              '2801a5db-11bb-4caa-8a59-7996af14ba4a'}),\n",
       "   frozenset({'3272e8ba-0e6f-4a61-a55c-578037be3f59',\n",
       "              '8eb158b6-86e5-4c5a-904e-ef9114860338'}),\n",
       "   frozenset({'25842d17-a30b-499d-b870-dbb854fb04f1',\n",
       "              '95782dfd-5ede-4e34-bfc4-952622fa3838'}),\n",
       "   frozenset({'4c3e9111-80dd-4499-9a2e-aed3251ef2d6',\n",
       "              '95782dfd-5ede-4e34-bfc4-952622fa3838'}),\n",
       "   frozenset({'4c3e9111-80dd-4499-9a2e-aed3251ef2d6',\n",
       "              '6afb30fd-3076-429c-a778-63168b30794d'}),\n",
       "   frozenset({'4993306f-d17e-4420-a3a0-da1e26123428',\n",
       "              'efda4fc6-d122-4ddb-a38a-4ce21803978e'})},\n",
       "  'to_remove': {frozenset({'166171f6-7f5a-401c-81ca-553a7cb0b007',\n",
       "              'e1b2ee68-145b-4651-9b38-e552eb956c5a'}),\n",
       "   frozenset({'29f25a48-9124-42bf-af7e-15cb51e304a2',\n",
       "              '4993306f-d17e-4420-a3a0-da1e26123428'}),\n",
       "   frozenset({'2801a5db-11bb-4caa-8a59-7996af14ba4a',\n",
       "              '4c3e9111-80dd-4499-9a2e-aed3251ef2d6'}),\n",
       "   frozenset({'4a70a056-9320-4dfb-a576-fed98850bcf7',\n",
       "              '99c601e1-79e3-43e8-b876-b5be7ff7dd6b'}),\n",
       "   frozenset({'6afb30fd-3076-429c-a778-63168b30794d',\n",
       "              'a00e89d0-7086-4995-b420-2a94724a363c'}),\n",
       "   frozenset({'25842d17-a30b-499d-b870-dbb854fb04f1',\n",
       "              '59ec3b55-5c50-45ec-89a6-502fad127a0f'}),\n",
       "   frozenset({'4c3e9111-80dd-4499-9a2e-aed3251ef2d6',\n",
       "              'e44a5562-c2ba-4a90-aeb0-21a7a51f9a81'})}})"
      ]
     },
     "execution_count": 30,
     "metadata": {},
     "output_type": "execute_result"
    }
   ],
   "source": [
    "result_1, result_2"
   ]
  },
  {
   "cell_type": "code",
   "execution_count": 33,
   "metadata": {},
   "outputs": [
    {
     "data": {
      "text/plain": [
       "EdgeDataView([('11e5a90d-b064-4612-aaf1-1b7d20ebf4eb', '5b9dd9dc-dd04-4e46-950a-ba89dc930b26', {'weight': 0.998, 'num': 0, 'type': 'col'}), ('11e5a90d-b064-4612-aaf1-1b7d20ebf4eb', 'aa24fd31-c9ed-4324-8640-3a6a3a43fa7b', {'weight': 0.7566752870668101, 'num': 10, 'type': 'col'}), ('11e5a90d-b064-4612-aaf1-1b7d20ebf4eb', '862519de-36a4-4ef2-b79d-964610579db7', {'weight': 0.17653383027522934, 'num': 20, 'type': 'col'}), ('5b9dd9dc-dd04-4e46-950a-ba89dc930b26', '41713b86-f566-4936-ada0-a8648bd25b06', {'weight': 0.9696690981965441, 'num': 2, 'type': 'col'}), ('5b9dd9dc-dd04-4e46-950a-ba89dc930b26', '10f4e440-021b-4cd7-83c5-3bcea91e834f', {'weight': 0.9090909090909091, 'num': 5, 'type': 'col'}), ('44e5a5d8-a2d8-40b6-b4bc-e1b4197b3600', 'db9939df-8053-4074-94b8-1e734471e866', {'weight': 0.9888888888888889, 'num': 1, 'type': 'col'}), ('44e5a5d8-a2d8-40b6-b4bc-e1b4197b3600', 'dda1f537-f341-486e-9b36-b1f974418fb0', {'weight': 0.10549783782458562, 'num': 21, 'type': 'col'}), ('db9939df-8053-4074-94b8-1e734471e866', '41713b86-f566-4936-ada0-a8648bd25b06', {'weight': 0.9, 'num': 7, 'type': 'col'}), ('41713b86-f566-4936-ada0-a8648bd25b06', '8ae6c289-cc6c-4e2a-bd68-02facda4da73', {'weight': 0.5882352941176471, 'num': 13, 'type': 'col'}), ('284e3c37-e29f-4177-b762-1c8ea74271b2', 'aa24fd31-c9ed-4324-8640-3a6a3a43fa7b', {'weight': 0.9560799196996201, 'num': 3, 'type': 'col'}), ('284e3c37-e29f-4177-b762-1c8ea74271b2', 'dd202c05-e5fd-46a9-8a94-e3249eff0793', {'weight': 0.9, 'num': 8, 'type': 'col'}), ('97df72ff-2479-4de7-b9fe-57abe15f97d9', '8ae6c289-cc6c-4e2a-bd68-02facda4da73', {'weight': 0.9444444444444444, 'num': 4, 'type': 'col'}), ('8ae6c289-cc6c-4e2a-bd68-02facda4da73', '982c1a4f-7040-42ae-8685-1bc549e01d5c', {'weight': 0.6543238893005523, 'num': 12, 'type': 'col'}), ('8ae6c289-cc6c-4e2a-bd68-02facda4da73', '65b47ae7-2bdf-4af5-b152-45618d20416e', {'weight': 0.47058823529411764, 'num': 15, 'type': 'col'}), ('92b703f8-a4a3-408d-a977-629ea0f74989', 'dda1f537-f341-486e-9b36-b1f974418fb0', {'weight': 0.9090909090909091, 'num': 6, 'type': 'col'}), ('92b703f8-a4a3-408d-a977-629ea0f74989', '2a9c2669-f6c7-4064-9e09-4dbdf3f17f9f', {'weight': 0.2537799043062201, 'num': 19, 'type': 'col'}), ('dda1f537-f341-486e-9b36-b1f974418fb0', '00ed6d7e-93d7-42de-b628-6e8a5622325c', {'weight': 0.9, 'num': 9, 'type': 'col'}), ('dda1f537-f341-486e-9b36-b1f974418fb0', '9483c790-0157-4c82-bbb6-d558ecb717ac', {'weight': 0.5882352941176471, 'num': 14, 'type': 'col'}), ('dd202c05-e5fd-46a9-8a94-e3249eff0793', 'bd946716-1064-489c-9485-ec849acf10e2', {'weight': 0.4018903555931605, 'num': 17, 'type': 'col'}), ('06b83730-ffc5-4038-a561-453b4a1aedd9', '9483c790-0157-4c82-bbb6-d558ecb717ac', {'weight': 0.752249742002064, 'num': 11, 'type': 'col'}), ('9483c790-0157-4c82-bbb6-d558ecb717ac', '7b28137a-efbf-4d12-b1e2-ed3afaa08bbe', {'weight': 0.47058823529411764, 'num': 16, 'type': 'col'}), ('bd946716-1064-489c-9485-ec849acf10e2', '6fc14439-eef2-4846-ba3c-3887750274ce', {'weight': 0.36368062755947733, 'num': 18, 'type': 'col'})])"
      ]
     },
     "execution_count": 33,
     "metadata": {},
     "output_type": "execute_result"
    }
   ],
   "source": [
    "g_inferred_rev.edges(data=True)"
   ]
  },
  {
   "cell_type": "code",
   "execution_count": null,
   "metadata": {},
   "outputs": [],
   "source": []
  }
 ],
 "metadata": {
  "kernelspec": {
   "display_name": "Python 3",
   "language": "python",
   "name": "python3"
  },
  "language_info": {
   "codemirror_mode": {
    "name": "ipython",
    "version": 3
   },
   "file_extension": ".py",
   "mimetype": "text/x-python",
   "name": "python",
   "nbconvert_exporter": "python",
   "pygments_lexer": "ipython3",
   "version": "3.8.3"
  }
 },
 "nbformat": 4,
 "nbformat_minor": 4
}
