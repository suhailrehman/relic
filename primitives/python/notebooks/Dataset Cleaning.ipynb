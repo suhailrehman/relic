{
 "cells": [
  {
   "cell_type": "code",
   "execution_count": 2,
   "metadata": {},
   "outputs": [],
   "source": [
    "# Remove Lineage Nodes that are exact copies of each other\n",
    "from dataset import *\n",
    "import networkx as nx\n",
    "\n",
    "def remove_node(G, node_name):\n",
    "    G.remove_nodes_from([node_name])\n",
    "    return G\n",
    "\n",
    "def write_new_graph(nb_name, G):\n",
    "    nx.write_gpickle(G, get_nb_dir(nb_name)+nb_name+'_gt_fixed.pkl')\n",
    "    "
   ]
  },
  {
   "cell_type": "code",
   "execution_count": 3,
   "metadata": {},
   "outputs": [
    {
     "data": {
      "text/plain": [
       "dict_keys(['MexHS.csv', 'HSdf.csv', 'HSdf__1.csv', 'AtlasHS_WithNoMexican.csv', 'AtlasHSWithMexMerge.csv', 'AtlasHS.csv', 'MexHS__1.csv'])"
      ]
     },
     "execution_count": 3,
     "metadata": {},
     "output_type": "execute_result"
    }
   ],
   "source": [
    "build_df_dict('nb_315236.ipynb').keys()"
   ]
  },
  {
   "cell_type": "code",
   "execution_count": 4,
   "metadata": {},
   "outputs": [],
   "source": [
    "G = get_graph('nb_315236.ipynb')\n",
    "G = remove_node(G, 'MetPoliceCrimeStats.csv')"
   ]
  },
  {
   "cell_type": "code",
   "execution_count": 5,
   "metadata": {},
   "outputs": [
    {
     "data": {
      "text/plain": [
       "NodeView(('HSdf.csv', 'hs92_atlas.csv', 'HSdf__1.csv', 'AtlasHS.csv', 'MexHS.csv', 'products_mexico_prospedia.csv', 'MexHS__1.csv', 'AtlasHSWithMexMerge.csv', 'AtlasHS_WithNoMexican.csv'))"
      ]
     },
     "execution_count": 5,
     "metadata": {},
     "output_type": "execute_result"
    }
   ],
   "source": [
    "G.nodes"
   ]
  },
  {
   "cell_type": "code",
   "execution_count": 38,
   "metadata": {},
   "outputs": [],
   "source": [
    "write_new_graph('nb_331056.ipynb', G)"
   ]
  },
  {
   "cell_type": "code",
   "execution_count": null,
   "metadata": {},
   "outputs": [],
   "source": []
  }
 ],
 "metadata": {
  "kernelspec": {
   "display_name": "Python 3",
   "language": "python",
   "name": "python3"
  },
  "language_info": {
   "codemirror_mode": {
    "name": "ipython",
    "version": 3
   },
   "file_extension": ".py",
   "mimetype": "text/x-python",
   "name": "python",
   "nbconvert_exporter": "python",
   "pygments_lexer": "ipython3",
   "version": "3.7.6"
  }
 },
 "nbformat": 4,
 "nbformat_minor": 2
}
