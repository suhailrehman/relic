{
 "cells": [
  {
   "cell_type": "markdown",
   "metadata": {},
   "source": [
    "# Setup "
   ]
  },
  {
   "cell_type": "code",
   "execution_count": 2,
   "metadata": {},
   "outputs": [],
   "source": [
    "# Imports and Environmental Setup\n",
    "\n",
    "import sys\n",
    "sys.path.insert(0, '..')\n",
    "\n",
    "import warnings\n",
    "from tqdm import TqdmExperimentalWarning\n",
    "warnings.simplefilter('ignore', TqdmExperimentalWarning)\n",
    "\n",
    "import matplotlib\n",
    "%matplotlib inline\n",
    "\n",
    "import ipywidgets \n",
    "import agglomerative\n",
    "\n",
    "style = {'description_width': 'initial'}\n",
    "\n",
    "from PIL import Image, ImageChops\n",
    "\n",
    "# https://mail.python.org/pipermail/python-list/2003-October/226212.html\n",
    "def autocrop(im, bgcolor):\n",
    "    if im.mode != \"RGB\":\n",
    "        im = im.convert(\"RGB\")\n",
    "    bg = Image.new(\"RGB\", im.size, bgcolor)\n",
    "    diff = ImageChops.difference(im, bg)\n",
    "    bbox = diff.getbbox()\n",
    "    if bbox:\n",
    "        return im.crop(bbox)\n",
    "    return None # no contents"
   ]
  },
  {
   "cell_type": "markdown",
   "metadata": {},
   "source": [
    "# Settings \n",
    "\n",
    "## Types of Settings to change:\n",
    "\n",
    "### Algorithm\n",
    "1. **No Preclustering**\n",
    "2. **PC1**: Pre Cluster + Cell-level Intra-Cluster + cell-level/Column-level inter-cluster edge selection\n",
    "3. **PC2**: Pre cluster + cell-level & Column level intra-cluster + Cell-level & Column-level inter-cluster edge selection\n",
    "\n",
    "### Thresholds\n",
    "1. Intra-Cluster Cell-Level Jaccard Edge Inclusion Threshold\n",
    "2. Inter-Cluster Cell-Level Jaccard Edge Inclusion Threshold"
   ]
  },
  {
   "cell_type": "code",
   "execution_count": 3,
   "metadata": {
    "scrolled": false
   },
   "outputs": [
    {
     "data": {
      "application/vnd.jupyter.widget-view+json": {
       "model_id": "bfcd42b73fae461dae95228343a12c68",
       "version_major": 2,
       "version_minor": 0
      },
      "text/plain": [
       "interactive(children=(Dropdown(description='notebook', options=('20200211-145628', '20200211-145648', '2020021…"
      ]
     },
     "metadata": {},
     "output_type": "display_data"
    }
   ],
   "source": [
    "def run_relic(notebook, algorithm='PC2',intra_cell_threshold=0.01,inter_cell_threshold=0.01):\n",
    "    global result, im_frames\n",
    "    result, im_frames = agglomerative.lineage_inference_agglomerative(nb_name=notebook, \n",
    "                                                                      pre_cluster=algorithm,\n",
    "                                                                      intra_cell_threshold=intra_cell_threshold,\n",
    "                                                                      inter_cell_threshold=inter_cell_threshold)\n",
    "    display(result)\n",
    "    display(autocrop(im_frames[-1], 'white'))\n",
    "\n",
    "\n",
    "im = ipywidgets.interact_manual(run_relic, notebook = agglomerative.notebooks,\n",
    "    algorithm = ['No Precluster', 'PC1', 'PC2'],\n",
    "    intra_cell_threshold = (0.0,1.0,0.001),\n",
    "    inter_cell_threshold = (0.0,1.0,0.001))\n",
    "\n"
   ]
  },
  {
   "cell_type": "markdown",
   "metadata": {},
   "source": [
    "# Step-By-Step Analysis "
   ]
  },
  {
   "cell_type": "code",
   "execution_count": 4,
   "metadata": {},
   "outputs": [
    {
     "data": {
      "application/vnd.jupyter.widget-view+json": {
       "model_id": "43a6eaebd4404da6bf18ced69e94a46e",
       "version_major": 2,
       "version_minor": 0
      },
      "text/plain": [
       "interactive(children=(IntSlider(value=0, description='step', max=8), Output(layout=Layout(height='968px'))), _…"
      ]
     },
     "metadata": {},
     "output_type": "display_data"
    }
   ],
   "source": [
    "# Analyze the results\n",
    "l = len(result.index)\n",
    "\n",
    "def display_result(step=0):\n",
    "    display(result.loc[[step]][['numclusters', 'edges_correct', 'edges_missing', 'edges_to_remove', 'F1']])\n",
    "    image = im_frames[step]\n",
    "    display(autocrop(image,'white'))\n",
    "    \n",
    "plot = ipywidgets.interactive(display_result, step=(0,l-1))    \n",
    "output = plot.children[-1]\n",
    "output.layout.height = str(autocrop(im_frames[-1],'white').height - 600)+'px'\n",
    "\n",
    "display(plot)"
   ]
  },
  {
   "cell_type": "code",
   "execution_count": null,
   "metadata": {},
   "outputs": [],
   "source": []
  }
 ],
 "metadata": {
  "kernelspec": {
   "display_name": "Python 3",
   "language": "python",
   "name": "python3"
  },
  "language_info": {
   "codemirror_mode": {
    "name": "ipython",
    "version": 3
   },
   "file_extension": ".py",
   "mimetype": "text/x-python",
   "name": "python",
   "nbconvert_exporter": "python",
   "pygments_lexer": "ipython3",
   "version": "3.7.6"
  }
 },
 "nbformat": 4,
 "nbformat_minor": 2
}
