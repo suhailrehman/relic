{
 "cells": [
  {
   "cell_type": "code",
   "execution_count": 15,
   "metadata": {},
   "outputs": [],
   "source": [
    "import fakergen\n",
    "import os"
   ]
  },
  {
   "cell_type": "code",
   "execution_count": 16,
   "metadata": {},
   "outputs": [
    {
     "name": "stdout",
     "output_type": "stream",
     "text": [
      "Selection Config:  [1 3 2 4]\n",
      "Base DF:  ['ascii_safe_email', 'cryptocurrency_code', 'random_lowercase_letter', 'city_suffix', 'pyfloat', 'randomize_nb_elements', 'windows_platform_token', 'internet_explorer', 'bs', 'name']\n",
      "Version: 1 applying: dropcol\n",
      "Dropping column random_lowercase_letter\n"
     ]
    },
    {
     "data": {
      "application/vnd.jupyter.widget-view+json": {
       "model_id": "93f37cf15bbc4a86adca35e50af717ed",
       "version_major": 2,
       "version_minor": 0
      },
      "text/plain": [
       "HBox(children=(FloatProgress(value=0.0, max=1.0), HTML(value='')))"
      ]
     },
     "metadata": {},
     "output_type": "display_data"
    },
    {
     "name": "stdout",
     "output_type": "stream",
     "text": [
      "\n",
      "Version: 2 applying: dropcol\n",
      "Dropping column ascii_safe_email\n"
     ]
    },
    {
     "data": {
      "application/vnd.jupyter.widget-view+json": {
       "model_id": "5477ab51def14ad989c87219dd2142c3",
       "version_major": 2,
       "version_minor": 0
      },
      "text/plain": [
       "HBox(children=(FloatProgress(value=0.0, max=2.0), HTML(value='')))"
      ]
     },
     "metadata": {},
     "output_type": "display_data"
    },
    {
     "name": "stdout",
     "output_type": "stream",
     "text": [
      "\n",
      "Version: 3 applying: assign\n",
      "Applying linear combination [82 21] to column randomize_nb_elements\n"
     ]
    },
    {
     "data": {
      "application/vnd.jupyter.widget-view+json": {
       "model_id": "96eabbcdd5794c90beb2e9b0b5a51b95",
       "version_major": 2,
       "version_minor": 0
      },
      "text/plain": [
       "HBox(children=(FloatProgress(value=0.0, max=3.0), HTML(value='')))"
      ]
     },
     "metadata": {},
     "output_type": "display_data"
    },
    {
     "name": "stdout",
     "output_type": "stream",
     "text": [
      "Applying linear combination [82 21] to column randomize_nb_elements\n",
      "Applying linear combination [82 21] to column randomize_nb_elements\n",
      "\n",
      "Version: 4 applying: dropcol\n",
      "Dropping column city_suffix\n"
     ]
    },
    {
     "data": {
      "application/vnd.jupyter.widget-view+json": {
       "model_id": "3cfa20fcdcf84a408bfbe9c310bd23e6",
       "version_major": 2,
       "version_minor": 0
      },
      "text/plain": [
       "HBox(children=(FloatProgress(value=0.0, max=4.0), HTML(value='')))"
      ]
     },
     "metadata": {},
     "output_type": "display_data"
    },
    {
     "name": "stdout",
     "output_type": "stream",
     "text": [
      "\n",
      "Version: 5 applying: assign\n",
      "Applying linear combination [97 20] to column randomize_nb_elements\n"
     ]
    },
    {
     "data": {
      "application/vnd.jupyter.widget-view+json": {
       "model_id": "ab04cb63d725422c933cd742481a15ae",
       "version_major": 2,
       "version_minor": 0
      },
      "text/plain": [
       "HBox(children=(FloatProgress(value=0.0, max=5.0), HTML(value='')))"
      ]
     },
     "metadata": {},
     "output_type": "display_data"
    },
    {
     "name": "stdout",
     "output_type": "stream",
     "text": [
      "Applying linear combination [97 20] to column randomize_nb_elements\n",
      "Applying linear combination [97 20] to column randomize_nb_elements\n",
      "Applying linear combination [97 20] to column randomize_nb_elements\n",
      "Applying linear combination [97 20] to column randomize_nb_elements\n",
      "\n",
      "Version: 6 applying: assign\n",
      "Applying linear combination [23 25] to column randomize_nb_elements\n"
     ]
    },
    {
     "data": {
      "application/vnd.jupyter.widget-view+json": {
       "model_id": "f8f5c75827a7481f8855278d576402f8",
       "version_major": 2,
       "version_minor": 0
      },
      "text/plain": [
       "HBox(children=(FloatProgress(value=0.0, max=6.0), HTML(value='')))"
      ]
     },
     "metadata": {},
     "output_type": "display_data"
    },
    {
     "name": "stdout",
     "output_type": "stream",
     "text": [
      "Applying linear combination [23 25] to column randomize_nb_elements\n",
      "Applying linear combination [23 25] to column randomize_nb_elements\n",
      "Applying linear combination [23 25] to column randomize_nb_elements\n",
      "Applying linear combination [23 25] to column randomize_nb_elements\n",
      "Applying linear combination [23 25] to column randomize_nb_elements\n",
      "\n",
      "Version: 7 applying: point_edit\n",
      "Selected Column randomize_nb_elements__82x+21\n",
      "Split randomize_nb_elements\n",
      "Replacing randomize_nb_elements__82x+21 value 1169.0 with 8.0\n"
     ]
    },
    {
     "data": {
      "application/vnd.jupyter.widget-view+json": {
       "model_id": "44dc4636d3864f89b14f1b048aa8db36",
       "version_major": 2,
       "version_minor": 0
      },
      "text/plain": [
       "HBox(children=(FloatProgress(value=0.0, max=7.0), HTML(value='')))"
      ]
     },
     "metadata": {},
     "output_type": "display_data"
    },
    {
     "name": "stdout",
     "output_type": "stream",
     "text": [
      "Replacing randomize_nb_elements__82x+21 value 1169.0 with 8.0\n",
      "\n",
      "Version: 8 applying: point_edit\n",
      "Selected Column windows_platform_token\n",
      "Split windows_platform_token\n",
      "Replacing windows_platform_token value Windows NT 6.1 with Windows NT 6.0\n"
     ]
    },
    {
     "data": {
      "application/vnd.jupyter.widget-view+json": {
       "model_id": "788193e29efd4032b40f0f3d015b2e7a",
       "version_major": 2,
       "version_minor": 0
      },
      "text/plain": [
       "HBox(children=(FloatProgress(value=0.0, max=8.0), HTML(value='')))"
      ]
     },
     "metadata": {},
     "output_type": "display_data"
    },
    {
     "name": "stdout",
     "output_type": "stream",
     "text": [
      "Replacing windows_platform_token value Windows NT 6.1 with Windows NT 6.0\n",
      "Replacing windows_platform_token value Windows NT 6.1 with Windows NT 6.0\n",
      "Replacing windows_platform_token value Windows NT 6.1 with Windows NT 6.0\n",
      "Replacing windows_platform_token value Windows NT 6.1 with Windows NT 6.0\n",
      "Replacing windows_platform_token value Windows NT 6.1 with Windows NT 6.0\n",
      "Replacing windows_platform_token value Windows NT 6.1 with Windows NT 6.0\n",
      "Replacing windows_platform_token value Windows NT 6.1 with Windows NT 6.0\n",
      "\n",
      "Version: 9 applying: sample\n"
     ]
    },
    {
     "data": {
      "application/vnd.jupyter.widget-view+json": {
       "model_id": "292df53892f24e7dbb2fe768e0314f73",
       "version_major": 2,
       "version_minor": 0
      },
      "text/plain": [
       "HBox(children=(FloatProgress(value=0.0, max=9.0), HTML(value='')))"
      ]
     },
     "metadata": {},
     "output_type": "display_data"
    },
    {
     "name": "stdout",
     "output_type": "stream",
     "text": [
      "\n",
      "{}\n"
     ]
    }
   ],
   "source": [
    "# Workflow Parameters\n",
    "rows = 100\n",
    "columns = 10\n",
    "num_versions = 10\n",
    "\n",
    "# Prepare Directories\n",
    "out_dir = 'demo'\n",
    "os.makedirs(out_dir, exist_ok=True)\n",
    "csv_dir = out_dir+'artifacts/'\n",
    "os.makedirs(csv_dir, exist_ok=True)\n",
    "\n",
    "# Generate the Workflow\n",
    "dataset, errors = fakergen.generate_dataset((rows, columns), num_versions, out_dir, gt_prefix=out_dir)"
   ]
  },
  {
   "cell_type": "code",
   "execution_count": 17,
   "metadata": {},
   "outputs": [
    {
     "data": {
      "text/html": [
       "<div>\n",
       "<style scoped>\n",
       "    .dataframe tbody tr th:only-of-type {\n",
       "        vertical-align: middle;\n",
       "    }\n",
       "\n",
       "    .dataframe tbody tr th {\n",
       "        vertical-align: top;\n",
       "    }\n",
       "\n",
       "    .dataframe thead th {\n",
       "        text-align: right;\n",
       "    }\n",
       "</style>\n",
       "<table border=\"1\" class=\"dataframe\">\n",
       "  <thead>\n",
       "    <tr style=\"text-align: right;\">\n",
       "      <th></th>\n",
       "      <th>ascii_safe_email</th>\n",
       "      <th>cryptocurrency_code</th>\n",
       "      <th>random_lowercase_letter</th>\n",
       "      <th>city_suffix</th>\n",
       "      <th>pyfloat</th>\n",
       "      <th>randomize_nb_elements</th>\n",
       "      <th>windows_platform_token</th>\n",
       "      <th>internet_explorer</th>\n",
       "      <th>bs</th>\n",
       "      <th>name</th>\n",
       "    </tr>\n",
       "  </thead>\n",
       "  <tbody>\n",
       "    <tr>\n",
       "      <th>0</th>\n",
       "      <td>vreyes@example.com</td>\n",
       "      <td>MSC</td>\n",
       "      <td>m</td>\n",
       "      <td>furt</td>\n",
       "      <td>8.116695e+11</td>\n",
       "      <td>13.0</td>\n",
       "      <td>Windows NT 5.1</td>\n",
       "      <td>Mozilla/5.0 (compatible; MSIE 7.0; Windows NT ...</td>\n",
       "      <td>whiteboard turn-key markets</td>\n",
       "      <td>Kathryn Tucker</td>\n",
       "    </tr>\n",
       "    <tr>\n",
       "      <th>1</th>\n",
       "      <td>paynegina@example.org</td>\n",
       "      <td>ETC</td>\n",
       "      <td>i</td>\n",
       "      <td>mouth</td>\n",
       "      <td>6.043713e+12</td>\n",
       "      <td>7.0</td>\n",
       "      <td>Windows NT 6.2</td>\n",
       "      <td>Mozilla/5.0 (compatible; MSIE 5.0; Windows NT ...</td>\n",
       "      <td>iterate extensible mindshare</td>\n",
       "      <td>Wendy Collins</td>\n",
       "    </tr>\n",
       "    <tr>\n",
       "      <th>2</th>\n",
       "      <td>courtney83@example.org</td>\n",
       "      <td>ETH</td>\n",
       "      <td>t</td>\n",
       "      <td>land</td>\n",
       "      <td>-6.906333e+03</td>\n",
       "      <td>13.0</td>\n",
       "      <td>Windows NT 4.0</td>\n",
       "      <td>Mozilla/5.0 (compatible; MSIE 5.0; Windows NT ...</td>\n",
       "      <td>productize viral communities</td>\n",
       "      <td>Amy Hill</td>\n",
       "    </tr>\n",
       "    <tr>\n",
       "      <th>3</th>\n",
       "      <td>madison69@example.org</td>\n",
       "      <td>EMC</td>\n",
       "      <td>f</td>\n",
       "      <td>ville</td>\n",
       "      <td>-8.118248e+06</td>\n",
       "      <td>13.0</td>\n",
       "      <td>Windows 98</td>\n",
       "      <td>Mozilla/5.0 (compatible; MSIE 9.0; Windows 95;...</td>\n",
       "      <td>disintermediate cross-platform convergence</td>\n",
       "      <td>Kathy Anderson</td>\n",
       "    </tr>\n",
       "    <tr>\n",
       "      <th>4</th>\n",
       "      <td>lamblaura@example.net</td>\n",
       "      <td>LTC</td>\n",
       "      <td>q</td>\n",
       "      <td>stad</td>\n",
       "      <td>-5.575440e+03</td>\n",
       "      <td>7.0</td>\n",
       "      <td>Windows NT 4.0</td>\n",
       "      <td>Mozilla/5.0 (compatible; MSIE 7.0; Windows NT ...</td>\n",
       "      <td>facilitate global applications</td>\n",
       "      <td>Cynthia Myers</td>\n",
       "    </tr>\n",
       "    <tr>\n",
       "      <th>...</th>\n",
       "      <td>...</td>\n",
       "      <td>...</td>\n",
       "      <td>...</td>\n",
       "      <td>...</td>\n",
       "      <td>...</td>\n",
       "      <td>...</td>\n",
       "      <td>...</td>\n",
       "      <td>...</td>\n",
       "      <td>...</td>\n",
       "      <td>...</td>\n",
       "    </tr>\n",
       "    <tr>\n",
       "      <th>95</th>\n",
       "      <td>terrellmelissa@example.org</td>\n",
       "      <td>BTC</td>\n",
       "      <td>n</td>\n",
       "      <td>stad</td>\n",
       "      <td>6.492608e+07</td>\n",
       "      <td>13.0</td>\n",
       "      <td>Windows CE</td>\n",
       "      <td>Mozilla/5.0 (compatible; MSIE 7.0; Windows NT ...</td>\n",
       "      <td>benchmark transparent markets</td>\n",
       "      <td>Shawn Nguyen</td>\n",
       "    </tr>\n",
       "    <tr>\n",
       "      <th>96</th>\n",
       "      <td>millercynthia@example.net</td>\n",
       "      <td>XRP</td>\n",
       "      <td>k</td>\n",
       "      <td>bury</td>\n",
       "      <td>8.836568e+07</td>\n",
       "      <td>10.0</td>\n",
       "      <td>Windows NT 4.0</td>\n",
       "      <td>Mozilla/5.0 (compatible; MSIE 8.0; Windows NT ...</td>\n",
       "      <td>aggregate out-of-the-box functionalities</td>\n",
       "      <td>Susan Hanson</td>\n",
       "    </tr>\n",
       "    <tr>\n",
       "      <th>97</th>\n",
       "      <td>jenny81@example.com</td>\n",
       "      <td>DOGE</td>\n",
       "      <td>k</td>\n",
       "      <td>stad</td>\n",
       "      <td>-6.940737e+09</td>\n",
       "      <td>13.0</td>\n",
       "      <td>Windows CE</td>\n",
       "      <td>Mozilla/5.0 (compatible; MSIE 6.0; Windows NT ...</td>\n",
       "      <td>expedite innovative convergence</td>\n",
       "      <td>Daniel Lawson</td>\n",
       "    </tr>\n",
       "    <tr>\n",
       "      <th>98</th>\n",
       "      <td>qking@example.org</td>\n",
       "      <td>BTC</td>\n",
       "      <td>j</td>\n",
       "      <td>berg</td>\n",
       "      <td>7.144439e+04</td>\n",
       "      <td>7.0</td>\n",
       "      <td>Windows NT 6.2</td>\n",
       "      <td>Mozilla/5.0 (compatible; MSIE 7.0; Windows 95;...</td>\n",
       "      <td>monetize intuitive schemas</td>\n",
       "      <td>Amanda Mcconnell</td>\n",
       "    </tr>\n",
       "    <tr>\n",
       "      <th>99</th>\n",
       "      <td>fparker@example.org</td>\n",
       "      <td>DRC</td>\n",
       "      <td>l</td>\n",
       "      <td>chester</td>\n",
       "      <td>1.293377e+13</td>\n",
       "      <td>9.0</td>\n",
       "      <td>Windows NT 6.1</td>\n",
       "      <td>Mozilla/5.0 (compatible; MSIE 7.0; Windows 98;...</td>\n",
       "      <td>architect frictionless e-business</td>\n",
       "      <td>Robert Rogers</td>\n",
       "    </tr>\n",
       "  </tbody>\n",
       "</table>\n",
       "<p>100 rows × 10 columns</p>\n",
       "</div>"
      ],
      "text/plain": [
       "              ascii_safe_email cryptocurrency_code random_lowercase_letter  \\\n",
       "0           vreyes@example.com                 MSC                       m   \n",
       "1        paynegina@example.org                 ETC                       i   \n",
       "2       courtney83@example.org                 ETH                       t   \n",
       "3        madison69@example.org                 EMC                       f   \n",
       "4        lamblaura@example.net                 LTC                       q   \n",
       "..                         ...                 ...                     ...   \n",
       "95  terrellmelissa@example.org                 BTC                       n   \n",
       "96   millercynthia@example.net                 XRP                       k   \n",
       "97         jenny81@example.com                DOGE                       k   \n",
       "98           qking@example.org                 BTC                       j   \n",
       "99         fparker@example.org                 DRC                       l   \n",
       "\n",
       "   city_suffix       pyfloat  randomize_nb_elements windows_platform_token  \\\n",
       "0         furt  8.116695e+11                   13.0         Windows NT 5.1   \n",
       "1        mouth  6.043713e+12                    7.0         Windows NT 6.2   \n",
       "2         land -6.906333e+03                   13.0         Windows NT 4.0   \n",
       "3        ville -8.118248e+06                   13.0             Windows 98   \n",
       "4         stad -5.575440e+03                    7.0         Windows NT 4.0   \n",
       "..         ...           ...                    ...                    ...   \n",
       "95        stad  6.492608e+07                   13.0             Windows CE   \n",
       "96        bury  8.836568e+07                   10.0         Windows NT 4.0   \n",
       "97        stad -6.940737e+09                   13.0             Windows CE   \n",
       "98        berg  7.144439e+04                    7.0         Windows NT 6.2   \n",
       "99     chester  1.293377e+13                    9.0         Windows NT 6.1   \n",
       "\n",
       "                                    internet_explorer  \\\n",
       "0   Mozilla/5.0 (compatible; MSIE 7.0; Windows NT ...   \n",
       "1   Mozilla/5.0 (compatible; MSIE 5.0; Windows NT ...   \n",
       "2   Mozilla/5.0 (compatible; MSIE 5.0; Windows NT ...   \n",
       "3   Mozilla/5.0 (compatible; MSIE 9.0; Windows 95;...   \n",
       "4   Mozilla/5.0 (compatible; MSIE 7.0; Windows NT ...   \n",
       "..                                                ...   \n",
       "95  Mozilla/5.0 (compatible; MSIE 7.0; Windows NT ...   \n",
       "96  Mozilla/5.0 (compatible; MSIE 8.0; Windows NT ...   \n",
       "97  Mozilla/5.0 (compatible; MSIE 6.0; Windows NT ...   \n",
       "98  Mozilla/5.0 (compatible; MSIE 7.0; Windows 95;...   \n",
       "99  Mozilla/5.0 (compatible; MSIE 7.0; Windows 98;...   \n",
       "\n",
       "                                            bs              name  \n",
       "0                  whiteboard turn-key markets    Kathryn Tucker  \n",
       "1                 iterate extensible mindshare     Wendy Collins  \n",
       "2                 productize viral communities          Amy Hill  \n",
       "3   disintermediate cross-platform convergence    Kathy Anderson  \n",
       "4               facilitate global applications     Cynthia Myers  \n",
       "..                                         ...               ...  \n",
       "95               benchmark transparent markets      Shawn Nguyen  \n",
       "96    aggregate out-of-the-box functionalities      Susan Hanson  \n",
       "97             expedite innovative convergence     Daniel Lawson  \n",
       "98                  monetize intuitive schemas  Amanda Mcconnell  \n",
       "99           architect frictionless e-business     Robert Rogers  \n",
       "\n",
       "[100 rows x 10 columns]"
      ]
     },
     "execution_count": 17,
     "metadata": {},
     "output_type": "execute_result"
    }
   ],
   "source": [
    "# View Individual versions\n",
    "dataset[0]"
   ]
  },
  {
   "cell_type": "code",
   "execution_count": 19,
   "metadata": {},
   "outputs": [
    {
     "data": {
      "text/html": [
       "\n",
       "        <iframe\n",
       "            width=\"100%\"\n",
       "            height=\"750px\"\n",
       "            src=\"demo.html\"\n",
       "            frameborder=\"0\"\n",
       "            allowfullscreen\n",
       "        ></iframe>\n",
       "        "
      ],
      "text/plain": [
       "<IPython.lib.display.IFrame at 0x7f2b19993fd0>"
      ]
     },
     "metadata": {},
     "output_type": "display_data"
    }
   ],
   "source": [
    "# Visualize the Workflow Graph (Hover for individual dataframes)\n",
    "\n",
    "display(dataset.draw_interactive_graph().show('demo.html'))"
   ]
  },
  {
   "cell_type": "code",
   "execution_count": null,
   "metadata": {},
   "outputs": [],
   "source": []
  }
 ],
 "metadata": {
  "kernelspec": {
   "display_name": "Python 3",
   "language": "python",
   "name": "python3"
  },
  "language_info": {
   "codemirror_mode": {
    "name": "ipython",
    "version": 3
   },
   "file_extension": ".py",
   "mimetype": "text/x-python",
   "name": "python",
   "nbconvert_exporter": "python",
   "pygments_lexer": "ipython3",
   "version": "3.8.3"
  }
 },
 "nbformat": 4,
 "nbformat_minor": 4
}
