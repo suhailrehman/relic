{
 "cells": [
  {
   "cell_type": "markdown",
   "metadata": {},
   "source": [
    "# Functions"
   ]
  },
  {
   "cell_type": "code",
   "execution_count": 2,
   "metadata": {},
   "outputs": [],
   "source": [
    "import networkx as nx\n",
    "import math\n",
    "import matplotlib.pyplot as plt\n",
    "from networkx.algorithms import tree\n",
    "import pandas as pd\n",
    "import glob\n",
    "import os\n",
    "\n",
    "from lineage import similarity\n"
   ]
  },
  {
   "cell_type": "code",
   "execution_count": 3,
   "metadata": {},
   "outputs": [],
   "source": [
    "# Load a directory and return filename:df pairs\n",
    "def build_df_dict_dir(nb_dir):\n",
    "    dataset = {}\n",
    "    for file in glob.glob(nb_dir+'*.csv'):\n",
    "        csvfile = os.path.basename(file)\n",
    "        try:\n",
    "            dataset[csvfile] = pd.read_csv(file, index_col=0)\n",
    "        except (pd.parser.CParserError, UnicodeDecodeError) as e:\n",
    "            # Star Wars: encoding=\"ISO-8859-1\"\n",
    "            #df = pd.read_csv(\n",
    "            #\"http://math-info.hse.ru/f/2015-16/all-py/data/tariff2012.csv\",\n",
    "            #sep=';')\n",
    "            if(csvfile == 'StarWars.csv'):\n",
    "                dataset[csvfile] = pd.read_csv(file, encoding=\"ISO-8859-1\", index_col=0)\n",
    "            elif(csvfile == 'tariff2012.csv'):\n",
    "                dataset[csvfile] = pd.read_csv(file, sep=\";\", index_col=0)\n",
    "            else:\n",
    "                print(\"Error reading file:\", file)\n",
    "            \n",
    "    return dataset"
   ]
  },
  {
   "cell_type": "code",
   "execution_count": 4,
   "metadata": {},
   "outputs": [],
   "source": [
    "def check_csv_graph(artifact_dir, g_truth):\n",
    "    missing_files = []\n",
    "    for node in g_truth.nodes():\n",
    "        if not os.path.exists(artifact_dir+node):\n",
    "            print(\"Missing File: \"+artifact_dir+node)\n",
    "            missing_files.append(node)\n",
    "    return missing_files"
   ]
  },
  {
   "cell_type": "code",
   "execution_count": 26,
   "metadata": {},
   "outputs": [],
   "source": [
    "import os\n",
    "from lineage import graphs, similarity\n",
    "import pandas as pd\n",
    "\n",
    "def lineage_inference(wf_dir, pre_cluster='no_pre_clustering', index=True, threshold=0.0001):\n",
    "    \n",
    "    nb_name = os.path.basename(wf_dir)\n",
    "    if index:\n",
    "        artifact_dir = wf_dir+'/artifacts/'\n",
    "    else:\n",
    "        artifact_dir = wf_dir+'/artifacts_1/'\n",
    "    \n",
    "    result_dir = wf_dir+'/inferred/'\n",
    "    os.makedirs(result_dir, exist_ok=True)\n",
    "    schema_file = result_dir+'schema_matching.csv'\n",
    "    row_file = result_dir+'row_matching.csv'\n",
    "    cluster_file = result_dir+'clusters.csv'\n",
    "    \n",
    "    dataset = build_df_dict_dir(artifact_dir)\n",
    "    \n",
    "    # Run the inference\n",
    "    pairwise_jaccard = similarity.get_pairwise_similarity(dataset, similarity.compute_jaccard_DF, threshold=threshold)\n",
    "    pw_jaccard_graph = graphs.generate_pairwise_graph(pairwise_jaccard)\n",
    "    nx.to_pandas_adjacency(pw_jaccard_graph,weight='weight').to_csv(\n",
    "                                                result_dir+'cell_sim.csv')\n",
    "    \n",
    "    g_inferred = graphs.generate_spanning_tree(pw_jaccard_graph)\n",
    "    nx.write_edgelist(g_inferred,result_dir+'infered_mst_cell.csv',data=True)\n",
    "\n",
    "      \n",
    "    # Load Ground Truth:\n",
    "    g_truth = nx.read_gpickle(wf_dir+'/'+nb_name+'_gt.pkl')\n",
    "\n",
    "    missing_files = check_csv_graph(artifact_dir, g_truth)\n",
    "    \n",
    "    pr_df = pd.DataFrame(columns = ['nb_name', 'index', 'preclustering', 'distance_metric',\n",
    "                                        'edges_correct', 'edges_missing', 'edges_to_remove', \n",
    "                                        'precision', 'recall', 'F1', 'missing_files' ])\n",
    "    \n",
    "    result = graphs.get_precision_recall(g_truth,g_inferred)\n",
    "\n",
    "    pr_df = pr_df.append({\n",
    "            'nb_name': nb_name,\n",
    "            'index': index,\n",
    "            'preclustering': pre_cluster,\n",
    "            'distance_metric': 'pandas_cell',\n",
    "            'edges_correct': len(result['correct_edges']),\n",
    "            'edges_missing': len(result['to_add']),\n",
    "            'edges_to_remove': len(result['to_remove']),\n",
    "            'precision': result['Precision'],\n",
    "            'recall': result['Recall'],\n",
    "            'F1': result['F1'],\n",
    "            'missing_files': len(missing_files)\n",
    "        }, ignore_index=True)\n",
    "    \n",
    "    return pr_df"
   ]
  },
  {
   "cell_type": "code",
   "execution_count": 161,
   "metadata": {},
   "outputs": [],
   "source": [
    "base_dir = '/media/suhail/Data/experiments/reexec/res/'\n",
    "sample_wf = base_dir+'nb_484354.ipynb'\n",
    "artifact_dir = sample_wf+'/artifacts/'\n",
    "dataset = build_df_dict_dir(artifact_dir)"
   ]
  },
  {
   "cell_type": "code",
   "execution_count": 6,
   "metadata": {},
   "outputs": [
    {
     "data": {
      "application/vnd.jupyter.widget-view+json": {
       "model_id": "",
       "version_major": 2,
       "version_minor": 0
      },
      "text/plain": [
       "HBox(children=(IntProgress(value=0, description='graph pairs', max=253), HTML(value='')))"
      ]
     },
     "metadata": {},
     "output_type": "display_data"
    },
    {
     "name": "stdout",
     "output_type": "stream",
     "text": [
      "\r"
     ]
    },
    {
     "ename": "FileNotFoundError",
     "evalue": "[Errno 2] No such file or directory: '/home/suhail/Projects/relic/primitives/python/generator/dataset/dataset_gt.pkl'",
     "output_type": "error",
     "traceback": [
      "\u001b[0;31m---------------------------------------------------------------------------\u001b[0m",
      "\u001b[0;31mFileNotFoundError\u001b[0m                         Traceback (most recent call last)",
      "\u001b[0;32m<ipython-input-6-affab1ea510f>\u001b[0m in \u001b[0;36m<module>\u001b[0;34m()\u001b[0m\n\u001b[0;32m----> 1\u001b[0;31m \u001b[0mlineage_inference\u001b[0m\u001b[0;34m(\u001b[0m\u001b[0msample_wf\u001b[0m\u001b[0;34m)\u001b[0m\u001b[0;34m\u001b[0m\u001b[0m\n\u001b[0m",
      "\u001b[0;32m<ipython-input-5-f77d7f6f4c31>\u001b[0m in \u001b[0;36mlineage_inference\u001b[0;34m(wf_dir, pre_cluster, index, threshold)\u001b[0m\n\u001b[1;32m     30\u001b[0m \u001b[0;34m\u001b[0m\u001b[0m\n\u001b[1;32m     31\u001b[0m     \u001b[0;31m# Load Ground Truth:\u001b[0m\u001b[0;34m\u001b[0m\u001b[0;34m\u001b[0m\u001b[0m\n\u001b[0;32m---> 32\u001b[0;31m     \u001b[0mg_truth\u001b[0m \u001b[0;34m=\u001b[0m \u001b[0mnx\u001b[0m\u001b[0;34m.\u001b[0m\u001b[0mread_gpickle\u001b[0m\u001b[0;34m(\u001b[0m\u001b[0mwf_dir\u001b[0m\u001b[0;34m+\u001b[0m\u001b[0;34m'/'\u001b[0m\u001b[0;34m+\u001b[0m\u001b[0mnb_name\u001b[0m\u001b[0;34m+\u001b[0m\u001b[0;34m'_gt.pkl'\u001b[0m\u001b[0;34m)\u001b[0m\u001b[0;34m\u001b[0m\u001b[0m\n\u001b[0m\u001b[1;32m     33\u001b[0m \u001b[0;34m\u001b[0m\u001b[0m\n\u001b[1;32m     34\u001b[0m     \u001b[0mmissing_files\u001b[0m \u001b[0;34m=\u001b[0m \u001b[0mcheck_csv_graph\u001b[0m\u001b[0;34m(\u001b[0m\u001b[0martifact_dir\u001b[0m\u001b[0;34m,\u001b[0m \u001b[0mg_truth\u001b[0m\u001b[0;34m)\u001b[0m\u001b[0;34m\u001b[0m\u001b[0m\n",
      "\u001b[0;32m<decorator-gen-528>\u001b[0m in \u001b[0;36mread_gpickle\u001b[0;34m(path)\u001b[0m\n",
      "\u001b[0;32m~/anaconda3/lib/python3.6/site-packages/networkx/utils/decorators.py\u001b[0m in \u001b[0;36m_open_file\u001b[0;34m(func_to_be_decorated, *args, **kwargs)\u001b[0m\n\u001b[1;32m    203\u001b[0m         \u001b[0;32mif\u001b[0m \u001b[0mis_string_like\u001b[0m\u001b[0;34m(\u001b[0m\u001b[0mpath\u001b[0m\u001b[0;34m)\u001b[0m\u001b[0;34m:\u001b[0m\u001b[0;34m\u001b[0m\u001b[0m\n\u001b[1;32m    204\u001b[0m             \u001b[0mext\u001b[0m \u001b[0;34m=\u001b[0m \u001b[0msplitext\u001b[0m\u001b[0;34m(\u001b[0m\u001b[0mpath\u001b[0m\u001b[0;34m)\u001b[0m\u001b[0;34m[\u001b[0m\u001b[0;36m1\u001b[0m\u001b[0;34m]\u001b[0m\u001b[0;34m\u001b[0m\u001b[0m\n\u001b[0;32m--> 205\u001b[0;31m             \u001b[0mfobj\u001b[0m \u001b[0;34m=\u001b[0m \u001b[0m_dispatch_dict\u001b[0m\u001b[0;34m[\u001b[0m\u001b[0mext\u001b[0m\u001b[0;34m]\u001b[0m\u001b[0;34m(\u001b[0m\u001b[0mpath\u001b[0m\u001b[0;34m,\u001b[0m \u001b[0mmode\u001b[0m\u001b[0;34m=\u001b[0m\u001b[0mmode\u001b[0m\u001b[0;34m)\u001b[0m\u001b[0;34m\u001b[0m\u001b[0m\n\u001b[0m\u001b[1;32m    206\u001b[0m             \u001b[0mclose_fobj\u001b[0m \u001b[0;34m=\u001b[0m \u001b[0;32mTrue\u001b[0m\u001b[0;34m\u001b[0m\u001b[0m\n\u001b[1;32m    207\u001b[0m         \u001b[0;32melif\u001b[0m \u001b[0mhasattr\u001b[0m\u001b[0;34m(\u001b[0m\u001b[0mpath\u001b[0m\u001b[0;34m,\u001b[0m \u001b[0;34m'read'\u001b[0m\u001b[0;34m)\u001b[0m\u001b[0;34m:\u001b[0m\u001b[0;34m\u001b[0m\u001b[0m\n",
      "\u001b[0;31mFileNotFoundError\u001b[0m: [Errno 2] No such file or directory: '/home/suhail/Projects/relic/primitives/python/generator/dataset/dataset_gt.pkl'"
     ]
    }
   ],
   "source": [
    "lineage_inference(sample_wf)"
   ]
  },
  {
   "cell_type": "code",
   "execution_count": 10,
   "metadata": {},
   "outputs": [
    {
     "data": {
      "application/vnd.jupyter.widget-view+json": {
       "model_id": "",
       "version_major": 2,
       "version_minor": 0
      },
      "text/plain": [
       "HBox(children=(IntProgress(value=0, description='graph pairs', max=253), HTML(value='')))"
      ]
     },
     "metadata": {},
     "output_type": "display_data"
    },
    {
     "name": "stdout",
     "output_type": "stream",
     "text": [
      "\r"
     ]
    },
    {
     "data": {
      "text/html": [
       "<div>\n",
       "<style scoped>\n",
       "    .dataframe tbody tr th:only-of-type {\n",
       "        vertical-align: middle;\n",
       "    }\n",
       "\n",
       "    .dataframe tbody tr th {\n",
       "        vertical-align: top;\n",
       "    }\n",
       "\n",
       "    .dataframe thead th {\n",
       "        text-align: right;\n",
       "    }\n",
       "</style>\n",
       "<table border=\"1\" class=\"dataframe\">\n",
       "  <thead>\n",
       "    <tr style=\"text-align: right;\">\n",
       "      <th></th>\n",
       "      <th>nb_name</th>\n",
       "      <th>index</th>\n",
       "      <th>preclustering</th>\n",
       "      <th>distance_metric</th>\n",
       "      <th>edges_correct</th>\n",
       "      <th>edges_missing</th>\n",
       "      <th>edges_to_remove</th>\n",
       "      <th>precision</th>\n",
       "      <th>recall</th>\n",
       "      <th>F1</th>\n",
       "      <th>missing_files</th>\n",
       "    </tr>\n",
       "  </thead>\n",
       "  <tbody>\n",
       "    <tr>\n",
       "      <th>0</th>\n",
       "      <td>dataset</td>\n",
       "      <td>True</td>\n",
       "      <td>no_pre_clustering</td>\n",
       "      <td>pandas_cell</td>\n",
       "      <td>15</td>\n",
       "      <td>7</td>\n",
       "      <td>6</td>\n",
       "      <td>0.681818</td>\n",
       "      <td>0.714286</td>\n",
       "      <td>0.697674</td>\n",
       "      <td>0</td>\n",
       "    </tr>\n",
       "  </tbody>\n",
       "</table>\n",
       "</div>"
      ],
      "text/plain": [
       "   nb_name index      preclustering distance_metric edges_correct  \\\n",
       "0  dataset  True  no_pre_clustering     pandas_cell            15   \n",
       "\n",
       "  edges_missing edges_to_remove  precision    recall        F1 missing_files  \n",
       "0             7               6   0.681818  0.714286  0.697674             0  "
      ]
     },
     "execution_count": 10,
     "metadata": {},
     "output_type": "execute_result"
    }
   ],
   "source": [
    "sample_wf = '/home/suhail/Projects/relic/primitives/python/generator/dataset'\n",
    "lineage_inference(sample_wf)"
   ]
  },
  {
   "cell_type": "markdown",
   "metadata": {},
   "source": [
    "# Single Notebook Test"
   ]
  },
  {
   "cell_type": "code",
   "execution_count": 18,
   "metadata": {},
   "outputs": [],
   "source": [
    "pre_cluster_types = ['no_pre_cluster']\n",
    "index_types = [True]"
   ]
  },
  {
   "cell_type": "markdown",
   "metadata": {},
   "source": [
    "# Run for Multiple Notebooks"
   ]
  },
  {
   "cell_type": "code",
   "execution_count": 22,
   "metadata": {},
   "outputs": [
    {
     "data": {
      "text/plain": [
       "['20190802-112317',\n",
       " '20190802-112309',\n",
       " '20190802-112248',\n",
       " '20190802-112314',\n",
       " '20190802-112250',\n",
       " '20190802-112311',\n",
       " '20190802-112245']"
      ]
     },
     "execution_count": 22,
     "metadata": {},
     "output_type": "execute_result"
    }
   ],
   "source": [
    "nb_list = [\n",
    "    'nb_331056',\n",
    "    'nb_23457',\n",
    "    # nb_336256', #\n",
    "    'nb_33614',\n",
    "    # 'nb_650868', #\n",
    "    'nb_316514',\n",
    "    'nb_386796',\n",
    "    'nb_266913',\n",
    "    'nb_417011',\n",
    "    'nb_269991',\n",
    "    'nb_495072',\n",
    "    'nb_315236',\n",
    "    'nb_484354',\n",
    "    'nb_772851',\n",
    "    #'nb_924102',\n",
    "    #'nb_921915',\n",
    "    'nb_986282',\n",
    "    # 'nb_582525', #\n",
    "    'nb_639263',\n",
    "]\n",
    "\n",
    "fakerdir = '/home/suhail/Projects/relic/primitives/python/generator/dataset/'\n",
    "\n",
    "nb_list = [d for d in os.listdir(fakerdir) if os.path.isdir(os.path.join(fakerdir, d))]\n",
    "nb_list"
   ]
  },
  {
   "cell_type": "code",
   "execution_count": 165,
   "metadata": {
    "scrolled": true
   },
   "outputs": [
    {
     "data": {
      "application/vnd.jupyter.widget-view+json": {
       "model_id": "6dda6cac417d4d48985ff99907be3689",
       "version_major": 2,
       "version_minor": 0
      },
      "text/plain": [
       "HBox(children=(IntProgress(value=0, description='notebook', max=14), HTML(value='')))"
      ]
     },
     "metadata": {},
     "output_type": "display_data"
    },
    {
     "data": {
      "application/vnd.jupyter.widget-view+json": {
       "model_id": "",
       "version_major": 2,
       "version_minor": 0
      },
      "text/plain": [
       "HBox(children=(IntProgress(value=0, description='cluster', max=1), HTML(value='')))"
      ]
     },
     "metadata": {},
     "output_type": "display_data"
    },
    {
     "data": {
      "application/vnd.jupyter.widget-view+json": {
       "model_id": "",
       "version_major": 2,
       "version_minor": 0
      },
      "text/plain": [
       "HBox(children=(IntProgress(value=0, description='index', max=1), HTML(value='')))"
      ]
     },
     "metadata": {},
     "output_type": "display_data"
    },
    {
     "data": {
      "application/vnd.jupyter.widget-view+json": {
       "model_id": "",
       "version_major": 2,
       "version_minor": 0
      },
      "text/plain": [
       "HBox(children=(IntProgress(value=0, description='graph pairs', max=55), HTML(value='')))"
      ]
     },
     "metadata": {},
     "output_type": "display_data"
    },
    {
     "data": {
      "application/vnd.jupyter.widget-view+json": {
       "model_id": "",
       "version_major": 2,
       "version_minor": 0
      },
      "text/plain": [
       "HBox(children=(IntProgress(value=0, description='cluster', max=1), HTML(value='')))"
      ]
     },
     "metadata": {},
     "output_type": "display_data"
    },
    {
     "data": {
      "application/vnd.jupyter.widget-view+json": {
       "model_id": "",
       "version_major": 2,
       "version_minor": 0
      },
      "text/plain": [
       "HBox(children=(IntProgress(value=0, description='index', max=1), HTML(value='')))"
      ]
     },
     "metadata": {},
     "output_type": "display_data"
    },
    {
     "data": {
      "application/vnd.jupyter.widget-view+json": {
       "model_id": "",
       "version_major": 2,
       "version_minor": 0
      },
      "text/plain": [
       "HBox(children=(IntProgress(value=0, description='graph pairs', max=21), HTML(value='')))"
      ]
     },
     "metadata": {},
     "output_type": "display_data"
    },
    {
     "data": {
      "application/vnd.jupyter.widget-view+json": {
       "model_id": "",
       "version_major": 2,
       "version_minor": 0
      },
      "text/plain": [
       "HBox(children=(IntProgress(value=0, description='cluster', max=1), HTML(value='')))"
      ]
     },
     "metadata": {},
     "output_type": "display_data"
    },
    {
     "data": {
      "application/vnd.jupyter.widget-view+json": {
       "model_id": "",
       "version_major": 2,
       "version_minor": 0
      },
      "text/plain": [
       "HBox(children=(IntProgress(value=0, description='index', max=1), HTML(value='')))"
      ]
     },
     "metadata": {},
     "output_type": "display_data"
    },
    {
     "data": {
      "application/vnd.jupyter.widget-view+json": {
       "model_id": "",
       "version_major": 2,
       "version_minor": 0
      },
      "text/plain": [
       "HBox(children=(IntProgress(value=0, description='graph pairs', max=210), HTML(value='')))"
      ]
     },
     "metadata": {},
     "output_type": "display_data"
    },
    {
     "name": "stderr",
     "output_type": "stream",
     "text": [
      "/home/suhail/anaconda3/lib/python3.6/site-packages/pandas/core/indexes/base.py:3755: RuntimeWarning: '<' not supported between instances of 'int' and 'str', sort order is undefined for incomparable objects\n",
      "  return this.join(other, how=how, return_indexers=return_indexers)\n",
      "/home/suhail/anaconda3/lib/python3.6/site-packages/pandas/core/indexes/base.py:3755: RuntimeWarning: '<' not supported between instances of 'str' and 'int', sort order is undefined for incomparable objects\n",
      "  return this.join(other, how=how, return_indexers=return_indexers)\n"
     ]
    },
    {
     "data": {
      "application/vnd.jupyter.widget-view+json": {
       "model_id": "",
       "version_major": 2,
       "version_minor": 0
      },
      "text/plain": [
       "HBox(children=(IntProgress(value=0, description='cluster', max=1), HTML(value='')))"
      ]
     },
     "metadata": {},
     "output_type": "display_data"
    },
    {
     "data": {
      "application/vnd.jupyter.widget-view+json": {
       "model_id": "",
       "version_major": 2,
       "version_minor": 0
      },
      "text/plain": [
       "HBox(children=(IntProgress(value=0, description='index', max=1), HTML(value='')))"
      ]
     },
     "metadata": {},
     "output_type": "display_data"
    },
    {
     "data": {
      "application/vnd.jupyter.widget-view+json": {
       "model_id": "",
       "version_major": 2,
       "version_minor": 0
      },
      "text/plain": [
       "HBox(children=(IntProgress(value=0, description='graph pairs', max=21), HTML(value='')))"
      ]
     },
     "metadata": {},
     "output_type": "display_data"
    },
    {
     "data": {
      "application/vnd.jupyter.widget-view+json": {
       "model_id": "",
       "version_major": 2,
       "version_minor": 0
      },
      "text/plain": [
       "HBox(children=(IntProgress(value=0, description='cluster', max=1), HTML(value='')))"
      ]
     },
     "metadata": {},
     "output_type": "display_data"
    },
    {
     "data": {
      "application/vnd.jupyter.widget-view+json": {
       "model_id": "",
       "version_major": 2,
       "version_minor": 0
      },
      "text/plain": [
       "HBox(children=(IntProgress(value=0, description='index', max=1), HTML(value='')))"
      ]
     },
     "metadata": {},
     "output_type": "display_data"
    },
    {
     "data": {
      "application/vnd.jupyter.widget-view+json": {
       "model_id": "",
       "version_major": 2,
       "version_minor": 0
      },
      "text/plain": [
       "HBox(children=(IntProgress(value=0, description='graph pairs', max=21), HTML(value='')))"
      ]
     },
     "metadata": {},
     "output_type": "display_data"
    },
    {
     "data": {
      "application/vnd.jupyter.widget-view+json": {
       "model_id": "",
       "version_major": 2,
       "version_minor": 0
      },
      "text/plain": [
       "HBox(children=(IntProgress(value=0, description='cluster', max=1), HTML(value='')))"
      ]
     },
     "metadata": {},
     "output_type": "display_data"
    },
    {
     "data": {
      "application/vnd.jupyter.widget-view+json": {
       "model_id": "",
       "version_major": 2,
       "version_minor": 0
      },
      "text/plain": [
       "HBox(children=(IntProgress(value=0, description='index', max=1), HTML(value='')))"
      ]
     },
     "metadata": {},
     "output_type": "display_data"
    },
    {
     "data": {
      "application/vnd.jupyter.widget-view+json": {
       "model_id": "",
       "version_major": 2,
       "version_minor": 0
      },
      "text/plain": [
       "HBox(children=(IntProgress(value=0, description='graph pairs', max=28), HTML(value='')))"
      ]
     },
     "metadata": {},
     "output_type": "display_data"
    },
    {
     "data": {
      "application/vnd.jupyter.widget-view+json": {
       "model_id": "",
       "version_major": 2,
       "version_minor": 0
      },
      "text/plain": [
       "HBox(children=(IntProgress(value=0, description='cluster', max=1), HTML(value='')))"
      ]
     },
     "metadata": {},
     "output_type": "display_data"
    },
    {
     "data": {
      "application/vnd.jupyter.widget-view+json": {
       "model_id": "",
       "version_major": 2,
       "version_minor": 0
      },
      "text/plain": [
       "HBox(children=(IntProgress(value=0, description='index', max=1), HTML(value='')))"
      ]
     },
     "metadata": {},
     "output_type": "display_data"
    },
    {
     "data": {
      "application/vnd.jupyter.widget-view+json": {
       "model_id": "",
       "version_major": 2,
       "version_minor": 0
      },
      "text/plain": [
       "HBox(children=(IntProgress(value=0, description='graph pairs', max=28), HTML(value='')))"
      ]
     },
     "metadata": {},
     "output_type": "display_data"
    },
    {
     "data": {
      "application/vnd.jupyter.widget-view+json": {
       "model_id": "",
       "version_major": 2,
       "version_minor": 0
      },
      "text/plain": [
       "HBox(children=(IntProgress(value=0, description='cluster', max=1), HTML(value='')))"
      ]
     },
     "metadata": {},
     "output_type": "display_data"
    },
    {
     "data": {
      "application/vnd.jupyter.widget-view+json": {
       "model_id": "",
       "version_major": 2,
       "version_minor": 0
      },
      "text/plain": [
       "HBox(children=(IntProgress(value=0, description='index', max=1), HTML(value='')))"
      ]
     },
     "metadata": {},
     "output_type": "display_data"
    },
    {
     "data": {
      "application/vnd.jupyter.widget-view+json": {
       "model_id": "",
       "version_major": 2,
       "version_minor": 0
      },
      "text/plain": [
       "HBox(children=(IntProgress(value=0, description='graph pairs', max=21), HTML(value='')))"
      ]
     },
     "metadata": {},
     "output_type": "display_data"
    },
    {
     "data": {
      "application/vnd.jupyter.widget-view+json": {
       "model_id": "",
       "version_major": 2,
       "version_minor": 0
      },
      "text/plain": [
       "HBox(children=(IntProgress(value=0, description='cluster', max=1), HTML(value='')))"
      ]
     },
     "metadata": {},
     "output_type": "display_data"
    },
    {
     "data": {
      "application/vnd.jupyter.widget-view+json": {
       "model_id": "",
       "version_major": 2,
       "version_minor": 0
      },
      "text/plain": [
       "HBox(children=(IntProgress(value=0, description='index', max=1), HTML(value='')))"
      ]
     },
     "metadata": {},
     "output_type": "display_data"
    },
    {
     "data": {
      "application/vnd.jupyter.widget-view+json": {
       "model_id": "",
       "version_major": 2,
       "version_minor": 0
      },
      "text/plain": [
       "HBox(children=(IntProgress(value=0, description='graph pairs', max=45), HTML(value='')))"
      ]
     },
     "metadata": {},
     "output_type": "display_data"
    },
    {
     "data": {
      "application/vnd.jupyter.widget-view+json": {
       "model_id": "",
       "version_major": 2,
       "version_minor": 0
      },
      "text/plain": [
       "HBox(children=(IntProgress(value=0, description='cluster', max=1), HTML(value='')))"
      ]
     },
     "metadata": {},
     "output_type": "display_data"
    },
    {
     "data": {
      "application/vnd.jupyter.widget-view+json": {
       "model_id": "",
       "version_major": 2,
       "version_minor": 0
      },
      "text/plain": [
       "HBox(children=(IntProgress(value=0, description='index', max=1), HTML(value='')))"
      ]
     },
     "metadata": {},
     "output_type": "display_data"
    },
    {
     "data": {
      "application/vnd.jupyter.widget-view+json": {
       "model_id": "",
       "version_major": 2,
       "version_minor": 0
      },
      "text/plain": [
       "HBox(children=(IntProgress(value=0, description='graph pairs', max=36), HTML(value='')))"
      ]
     },
     "metadata": {},
     "output_type": "display_data"
    },
    {
     "data": {
      "application/vnd.jupyter.widget-view+json": {
       "model_id": "",
       "version_major": 2,
       "version_minor": 0
      },
      "text/plain": [
       "HBox(children=(IntProgress(value=0, description='cluster', max=1), HTML(value='')))"
      ]
     },
     "metadata": {},
     "output_type": "display_data"
    },
    {
     "data": {
      "application/vnd.jupyter.widget-view+json": {
       "model_id": "",
       "version_major": 2,
       "version_minor": 0
      },
      "text/plain": [
       "HBox(children=(IntProgress(value=0, description='index', max=1), HTML(value='')))"
      ]
     },
     "metadata": {},
     "output_type": "display_data"
    },
    {
     "data": {
      "application/vnd.jupyter.widget-view+json": {
       "model_id": "",
       "version_major": 2,
       "version_minor": 0
      },
      "text/plain": [
       "HBox(children=(IntProgress(value=0, description='graph pairs', max=190), HTML(value='')))"
      ]
     },
     "metadata": {},
     "output_type": "display_data"
    },
    {
     "data": {
      "application/vnd.jupyter.widget-view+json": {
       "model_id": "",
       "version_major": 2,
       "version_minor": 0
      },
      "text/plain": [
       "HBox(children=(IntProgress(value=0, description='cluster', max=1), HTML(value='')))"
      ]
     },
     "metadata": {},
     "output_type": "display_data"
    },
    {
     "data": {
      "application/vnd.jupyter.widget-view+json": {
       "model_id": "",
       "version_major": 2,
       "version_minor": 0
      },
      "text/plain": [
       "HBox(children=(IntProgress(value=0, description='index', max=1), HTML(value='')))"
      ]
     },
     "metadata": {},
     "output_type": "display_data"
    },
    {
     "data": {
      "application/vnd.jupyter.widget-view+json": {
       "model_id": "",
       "version_major": 2,
       "version_minor": 0
      },
      "text/plain": [
       "HBox(children=(IntProgress(value=1, bar_style='info', description='graph pairs', max=1), HTML(value='')))"
      ]
     },
     "metadata": {},
     "output_type": "display_data"
    },
    {
     "data": {
      "application/vnd.jupyter.widget-view+json": {
       "model_id": "",
       "version_major": 2,
       "version_minor": 0
      },
      "text/plain": [
       "HBox(children=(IntProgress(value=0, description='cluster', max=1), HTML(value='')))"
      ]
     },
     "metadata": {},
     "output_type": "display_data"
    },
    {
     "data": {
      "application/vnd.jupyter.widget-view+json": {
       "model_id": "",
       "version_major": 2,
       "version_minor": 0
      },
      "text/plain": [
       "HBox(children=(IntProgress(value=0, description='index', max=1), HTML(value='')))"
      ]
     },
     "metadata": {},
     "output_type": "display_data"
    },
    {
     "data": {
      "application/vnd.jupyter.widget-view+json": {
       "model_id": "",
       "version_major": 2,
       "version_minor": 0
      },
      "text/plain": [
       "HBox(children=(IntProgress(value=0, description='graph pairs', max=28), HTML(value='')))"
      ]
     },
     "metadata": {},
     "output_type": "display_data"
    },
    {
     "data": {
      "application/vnd.jupyter.widget-view+json": {
       "model_id": "",
       "version_major": 2,
       "version_minor": 0
      },
      "text/plain": [
       "HBox(children=(IntProgress(value=0, description='cluster', max=1), HTML(value='')))"
      ]
     },
     "metadata": {},
     "output_type": "display_data"
    },
    {
     "data": {
      "application/vnd.jupyter.widget-view+json": {
       "model_id": "",
       "version_major": 2,
       "version_minor": 0
      },
      "text/plain": [
       "HBox(children=(IntProgress(value=0, description='index', max=1), HTML(value='')))"
      ]
     },
     "metadata": {},
     "output_type": "display_data"
    },
    {
     "data": {
      "application/vnd.jupyter.widget-view+json": {
       "model_id": "",
       "version_major": 2,
       "version_minor": 0
      },
      "text/plain": [
       "HBox(children=(IntProgress(value=0, description='graph pairs', max=28), HTML(value='')))"
      ]
     },
     "metadata": {},
     "output_type": "display_data"
    }
   ],
   "source": [
    "from tqdm import tqdm_notebook, tqdm\n",
    "import glob\n",
    "\n",
    "all_pr_df = pd.DataFrame(columns = ['nb_name', 'index', 'preclustering', 'distance_metric',\n",
    "                                        'edges_correct', 'edges_missing', 'edges_to_remove', \n",
    "                                        'precision', 'recall', 'F1','missing_files' ])\n",
    "\n",
    "errors = []\n",
    "\n",
    "for nb in tqdm_notebook(nb_list, desc='notebook', leave=True):\n",
    "    nb_dir = ('/media/suhail/Data/experiments/reexec/res/'+nb+'.ipynb')\n",
    "    # print('Processing:', nb_dir)\n",
    "    os.makedirs(nb_dir+'/inferred', exist_ok=True)\n",
    "\n",
    "    for cluster in tqdm_notebook(pre_cluster_types, desc='cluster', leave=False):\n",
    "        for index in tqdm_notebook(index_types,  desc='index', leave=False):\n",
    "            files = glob.glob(nb_dir+'/inferred/*')\n",
    "            for f in files:\n",
    "                os.remove(f)\n",
    "            try:\n",
    "                result_df = lineage_inference(nb_dir, index=index, pre_cluster=cluster)\n",
    "                all_pr_df = pd.concat([all_pr_df, result_df],ignore_index=True)\n",
    "            except FileNotFoundError as e:\n",
    "                errors.append((nb_dir, cluster,index))\n",
    "                pass\n",
    "                \n",
    "                "
   ]
  },
  {
   "cell_type": "code",
   "execution_count": 36,
   "metadata": {
    "scrolled": true
   },
   "outputs": [
    {
     "data": {
      "application/vnd.jupyter.widget-view+json": {
       "model_id": "0be109ca35fa4d9cbb6a9e78d7f019af",
       "version_major": 2,
       "version_minor": 0
      },
      "text/plain": [
       "HBox(children=(IntProgress(value=0, description='notebook', max=7), HTML(value='')))"
      ]
     },
     "metadata": {},
     "output_type": "display_data"
    },
    {
     "name": "stdout",
     "output_type": "stream",
     "text": [
      "Processing: /home/suhail/Projects/relic/primitives/python/generator/dataset/20190802-112317\n"
     ]
    },
    {
     "data": {
      "application/vnd.jupyter.widget-view+json": {
       "model_id": "",
       "version_major": 2,
       "version_minor": 0
      },
      "text/plain": [
       "HBox(children=(IntProgress(value=0, description='cluster', max=1), HTML(value='')))"
      ]
     },
     "metadata": {},
     "output_type": "display_data"
    },
    {
     "data": {
      "application/vnd.jupyter.widget-view+json": {
       "model_id": "",
       "version_major": 2,
       "version_minor": 0
      },
      "text/plain": [
       "HBox(children=(IntProgress(value=0, description='index', max=1), HTML(value='')))"
      ]
     },
     "metadata": {},
     "output_type": "display_data"
    },
    {
     "data": {
      "application/vnd.jupyter.widget-view+json": {
       "model_id": "",
       "version_major": 2,
       "version_minor": 0
      },
      "text/plain": [
       "HBox(children=(IntProgress(value=0, description='graph pairs', max=1830), HTML(value='')))"
      ]
     },
     "metadata": {},
     "output_type": "display_data"
    },
    {
     "name": "stderr",
     "output_type": "stream",
     "text": [
      "/home/suhail/anaconda3/lib/python3.6/site-packages/pandas/core/indexes/base.py:3755: RuntimeWarning: '<' not supported between instances of 'int' and 'str', sort order is undefined for incomparable objects\n",
      "  return this.join(other, how=how, return_indexers=return_indexers)\n",
      "/home/suhail/anaconda3/lib/python3.6/site-packages/pandas/core/indexes/base.py:3755: RuntimeWarning: '<' not supported between instances of 'str' and 'int', sort order is undefined for incomparable objects\n",
      "  return this.join(other, how=how, return_indexers=return_indexers)\n",
      "/home/suhail/anaconda3/lib/python3.6/site-packages/pandas/core/reshape/merge.py:764: RuntimeWarning: '<' not supported between instances of 'str' and 'bool', sort order is undefined for incomparable objects\n",
      "  sort=self.sort)\n",
      "/home/suhail/anaconda3/lib/python3.6/site-packages/pandas/core/reshape/merge.py:764: RuntimeWarning: '<' not supported between instances of 'bool' and 'str', sort order is undefined for incomparable objects\n",
      "  sort=self.sort)\n"
     ]
    },
    {
     "name": "stdout",
     "output_type": "stream",
     "text": [
      "Processing: /home/suhail/Projects/relic/primitives/python/generator/dataset/20190802-112309\n"
     ]
    },
    {
     "data": {
      "application/vnd.jupyter.widget-view+json": {
       "model_id": "",
       "version_major": 2,
       "version_minor": 0
      },
      "text/plain": [
       "HBox(children=(IntProgress(value=0, description='cluster', max=1), HTML(value='')))"
      ]
     },
     "metadata": {},
     "output_type": "display_data"
    },
    {
     "data": {
      "application/vnd.jupyter.widget-view+json": {
       "model_id": "",
       "version_major": 2,
       "version_minor": 0
      },
      "text/plain": [
       "HBox(children=(IntProgress(value=0, description='index', max=1), HTML(value='')))"
      ]
     },
     "metadata": {},
     "output_type": "display_data"
    },
    {
     "data": {
      "application/vnd.jupyter.widget-view+json": {
       "model_id": "",
       "version_major": 2,
       "version_minor": 0
      },
      "text/plain": [
       "HBox(children=(IntProgress(value=0, description='graph pairs', max=1485), HTML(value='')))"
      ]
     },
     "metadata": {},
     "output_type": "display_data"
    },
    {
     "name": "stdout",
     "output_type": "stream",
     "text": [
      "Processing: /home/suhail/Projects/relic/primitives/python/generator/dataset/20190802-112248\n"
     ]
    },
    {
     "data": {
      "application/vnd.jupyter.widget-view+json": {
       "model_id": "",
       "version_major": 2,
       "version_minor": 0
      },
      "text/plain": [
       "HBox(children=(IntProgress(value=0, description='cluster', max=1), HTML(value='')))"
      ]
     },
     "metadata": {},
     "output_type": "display_data"
    },
    {
     "data": {
      "application/vnd.jupyter.widget-view+json": {
       "model_id": "",
       "version_major": 2,
       "version_minor": 0
      },
      "text/plain": [
       "HBox(children=(IntProgress(value=0, description='index', max=1), HTML(value='')))"
      ]
     },
     "metadata": {},
     "output_type": "display_data"
    },
    {
     "data": {
      "application/vnd.jupyter.widget-view+json": {
       "model_id": "",
       "version_major": 2,
       "version_minor": 0
      },
      "text/plain": [
       "HBox(children=(IntProgress(value=0, description='graph pairs', max=210), HTML(value='')))"
      ]
     },
     "metadata": {},
     "output_type": "display_data"
    },
    {
     "name": "stdout",
     "output_type": "stream",
     "text": [
      "Processing: /home/suhail/Projects/relic/primitives/python/generator/dataset/20190802-112314\n"
     ]
    },
    {
     "data": {
      "application/vnd.jupyter.widget-view+json": {
       "model_id": "",
       "version_major": 2,
       "version_minor": 0
      },
      "text/plain": [
       "HBox(children=(IntProgress(value=0, description='cluster', max=1), HTML(value='')))"
      ]
     },
     "metadata": {},
     "output_type": "display_data"
    },
    {
     "data": {
      "application/vnd.jupyter.widget-view+json": {
       "model_id": "",
       "version_major": 2,
       "version_minor": 0
      },
      "text/plain": [
       "HBox(children=(IntProgress(value=0, description='index', max=1), HTML(value='')))"
      ]
     },
     "metadata": {},
     "output_type": "display_data"
    },
    {
     "data": {
      "application/vnd.jupyter.widget-view+json": {
       "model_id": "",
       "version_major": 2,
       "version_minor": 0
      },
      "text/plain": [
       "HBox(children=(IntProgress(value=0, description='graph pairs', max=1485), HTML(value='')))"
      ]
     },
     "metadata": {},
     "output_type": "display_data"
    },
    {
     "name": "stdout",
     "output_type": "stream",
     "text": [
      "Processing: /home/suhail/Projects/relic/primitives/python/generator/dataset/20190802-112250\n"
     ]
    },
    {
     "data": {
      "application/vnd.jupyter.widget-view+json": {
       "model_id": "",
       "version_major": 2,
       "version_minor": 0
      },
      "text/plain": [
       "HBox(children=(IntProgress(value=0, description='cluster', max=1), HTML(value='')))"
      ]
     },
     "metadata": {},
     "output_type": "display_data"
    },
    {
     "data": {
      "application/vnd.jupyter.widget-view+json": {
       "model_id": "",
       "version_major": 2,
       "version_minor": 0
      },
      "text/plain": [
       "HBox(children=(IntProgress(value=0, description='index', max=1), HTML(value='')))"
      ]
     },
     "metadata": {},
     "output_type": "display_data"
    },
    {
     "data": {
      "application/vnd.jupyter.widget-view+json": {
       "model_id": "",
       "version_major": 2,
       "version_minor": 0
      },
      "text/plain": [
       "HBox(children=(IntProgress(value=0, description='graph pairs', max=276), HTML(value='')))"
      ]
     },
     "metadata": {},
     "output_type": "display_data"
    },
    {
     "name": "stdout",
     "output_type": "stream",
     "text": [
      "Processing: /home/suhail/Projects/relic/primitives/python/generator/dataset/20190802-112311\n"
     ]
    },
    {
     "data": {
      "application/vnd.jupyter.widget-view+json": {
       "model_id": "",
       "version_major": 2,
       "version_minor": 0
      },
      "text/plain": [
       "HBox(children=(IntProgress(value=0, description='cluster', max=1), HTML(value='')))"
      ]
     },
     "metadata": {},
     "output_type": "display_data"
    },
    {
     "data": {
      "application/vnd.jupyter.widget-view+json": {
       "model_id": "",
       "version_major": 2,
       "version_minor": 0
      },
      "text/plain": [
       "HBox(children=(IntProgress(value=0, description='index', max=1), HTML(value='')))"
      ]
     },
     "metadata": {},
     "output_type": "display_data"
    },
    {
     "data": {
      "application/vnd.jupyter.widget-view+json": {
       "model_id": "",
       "version_major": 2,
       "version_minor": 0
      },
      "text/plain": [
       "HBox(children=(IntProgress(value=0, description='graph pairs', max=1653), HTML(value='')))"
      ]
     },
     "metadata": {},
     "output_type": "display_data"
    },
    {
     "name": "stdout",
     "output_type": "stream",
     "text": [
      "Processing: /home/suhail/Projects/relic/primitives/python/generator/dataset/20190802-112245\n"
     ]
    },
    {
     "data": {
      "application/vnd.jupyter.widget-view+json": {
       "model_id": "",
       "version_major": 2,
       "version_minor": 0
      },
      "text/plain": [
       "HBox(children=(IntProgress(value=0, description='cluster', max=1), HTML(value='')))"
      ]
     },
     "metadata": {},
     "output_type": "display_data"
    },
    {
     "data": {
      "application/vnd.jupyter.widget-view+json": {
       "model_id": "",
       "version_major": 2,
       "version_minor": 0
      },
      "text/plain": [
       "HBox(children=(IntProgress(value=0, description='index', max=1), HTML(value='')))"
      ]
     },
     "metadata": {},
     "output_type": "display_data"
    },
    {
     "data": {
      "application/vnd.jupyter.widget-view+json": {
       "model_id": "",
       "version_major": 2,
       "version_minor": 0
      },
      "text/plain": [
       "HBox(children=(IntProgress(value=0, description='graph pairs', max=276), HTML(value='')))"
      ]
     },
     "metadata": {},
     "output_type": "display_data"
    },
    {
     "name": "stdout",
     "output_type": "stream",
     "text": [
      "\n"
     ]
    }
   ],
   "source": [
    "from tqdm import tqdm_notebook, tqdm\n",
    "import glob\n",
    "\n",
    "all_pr_df = pd.DataFrame(columns = ['nb_name', 'index', 'preclustering', 'distance_metric',\n",
    "                                        'edges_correct', 'edges_missing', 'edges_to_remove', \n",
    "                                        'precision', 'recall', 'F1','missing_files' ])\n",
    "\n",
    "errors = []\n",
    "threshold = 0.01\n",
    "\n",
    "for nb in tqdm_notebook(nb_list, desc='notebook', leave=True):\n",
    "    nb_dir = (fakerdir+nb)\n",
    "    print('Processing:', nb_dir)\n",
    "    os.makedirs(nb_dir+'/inferred', exist_ok=True)\n",
    "\n",
    "    for cluster in tqdm_notebook(pre_cluster_types, desc='cluster', leave=False):\n",
    "        for index in tqdm_notebook(index_types,  desc='index', leave=False):\n",
    "            files = glob.glob(nb_dir+'/inferred/*')\n",
    "            for f in files:\n",
    "                os.remove(f)\n",
    "            try:\n",
    "                result_df = lineage_inference(nb_dir, index=index, pre_cluster=cluster, threshold=threshold)\n",
    "                all_pr_df = pd.concat([all_pr_df, result_df],ignore_index=True)\n",
    "            except FileNotFoundError as e:\n",
    "                errors.append((nb_dir, cluster,index))\n",
    "                pass\n",
    "                \n",
    "                "
   ]
  },
  {
   "cell_type": "code",
   "execution_count": 34,
   "metadata": {},
   "outputs": [
    {
     "data": {
      "text/plain": [
       "[]"
      ]
     },
     "execution_count": 34,
     "metadata": {},
     "output_type": "execute_result"
    }
   ],
   "source": [
    "errors"
   ]
  },
  {
   "cell_type": "code",
   "execution_count": 35,
   "metadata": {},
   "outputs": [
    {
     "data": {
      "text/html": [
       "<div>\n",
       "<style scoped>\n",
       "    .dataframe tbody tr th:only-of-type {\n",
       "        vertical-align: middle;\n",
       "    }\n",
       "\n",
       "    .dataframe tbody tr th {\n",
       "        vertical-align: top;\n",
       "    }\n",
       "\n",
       "    .dataframe thead th {\n",
       "        text-align: right;\n",
       "    }\n",
       "</style>\n",
       "<table border=\"1\" class=\"dataframe\">\n",
       "  <thead>\n",
       "    <tr style=\"text-align: right;\">\n",
       "      <th></th>\n",
       "      <th>nb_name</th>\n",
       "      <th>index</th>\n",
       "      <th>preclustering</th>\n",
       "      <th>distance_metric</th>\n",
       "      <th>edges_correct</th>\n",
       "      <th>edges_missing</th>\n",
       "      <th>edges_to_remove</th>\n",
       "      <th>precision</th>\n",
       "      <th>recall</th>\n",
       "      <th>F1</th>\n",
       "      <th>missing_files</th>\n",
       "    </tr>\n",
       "  </thead>\n",
       "  <tbody>\n",
       "    <tr>\n",
       "      <th>0</th>\n",
       "      <td>20190802-112317</td>\n",
       "      <td>True</td>\n",
       "      <td>no_pre_cluster</td>\n",
       "      <td>pandas_cell</td>\n",
       "      <td>39</td>\n",
       "      <td>21</td>\n",
       "      <td>15</td>\n",
       "      <td>0.650000</td>\n",
       "      <td>0.722222</td>\n",
       "      <td>0.684211</td>\n",
       "      <td>0</td>\n",
       "    </tr>\n",
       "    <tr>\n",
       "      <th>1</th>\n",
       "      <td>20190802-112309</td>\n",
       "      <td>True</td>\n",
       "      <td>no_pre_cluster</td>\n",
       "      <td>pandas_cell</td>\n",
       "      <td>33</td>\n",
       "      <td>21</td>\n",
       "      <td>14</td>\n",
       "      <td>0.611111</td>\n",
       "      <td>0.702128</td>\n",
       "      <td>0.653465</td>\n",
       "      <td>0</td>\n",
       "    </tr>\n",
       "    <tr>\n",
       "      <th>2</th>\n",
       "      <td>20190802-112248</td>\n",
       "      <td>True</td>\n",
       "      <td>no_pre_cluster</td>\n",
       "      <td>pandas_cell</td>\n",
       "      <td>11</td>\n",
       "      <td>9</td>\n",
       "      <td>6</td>\n",
       "      <td>0.550000</td>\n",
       "      <td>0.647059</td>\n",
       "      <td>0.594595</td>\n",
       "      <td>0</td>\n",
       "    </tr>\n",
       "    <tr>\n",
       "      <th>3</th>\n",
       "      <td>20190802-112314</td>\n",
       "      <td>True</td>\n",
       "      <td>no_pre_cluster</td>\n",
       "      <td>pandas_cell</td>\n",
       "      <td>33</td>\n",
       "      <td>21</td>\n",
       "      <td>18</td>\n",
       "      <td>0.611111</td>\n",
       "      <td>0.647059</td>\n",
       "      <td>0.628571</td>\n",
       "      <td>0</td>\n",
       "    </tr>\n",
       "    <tr>\n",
       "      <th>4</th>\n",
       "      <td>20190802-112250</td>\n",
       "      <td>True</td>\n",
       "      <td>no_pre_cluster</td>\n",
       "      <td>pandas_cell</td>\n",
       "      <td>14</td>\n",
       "      <td>9</td>\n",
       "      <td>5</td>\n",
       "      <td>0.608696</td>\n",
       "      <td>0.736842</td>\n",
       "      <td>0.666667</td>\n",
       "      <td>0</td>\n",
       "    </tr>\n",
       "    <tr>\n",
       "      <th>5</th>\n",
       "      <td>20190802-112311</td>\n",
       "      <td>True</td>\n",
       "      <td>no_pre_cluster</td>\n",
       "      <td>pandas_cell</td>\n",
       "      <td>30</td>\n",
       "      <td>27</td>\n",
       "      <td>18</td>\n",
       "      <td>0.526316</td>\n",
       "      <td>0.625000</td>\n",
       "      <td>0.571429</td>\n",
       "      <td>0</td>\n",
       "    </tr>\n",
       "    <tr>\n",
       "      <th>6</th>\n",
       "      <td>20190802-112245</td>\n",
       "      <td>True</td>\n",
       "      <td>no_pre_cluster</td>\n",
       "      <td>pandas_cell</td>\n",
       "      <td>14</td>\n",
       "      <td>9</td>\n",
       "      <td>5</td>\n",
       "      <td>0.608696</td>\n",
       "      <td>0.736842</td>\n",
       "      <td>0.666667</td>\n",
       "      <td>0</td>\n",
       "    </tr>\n",
       "  </tbody>\n",
       "</table>\n",
       "</div>"
      ],
      "text/plain": [
       "           nb_name index   preclustering distance_metric edges_correct  \\\n",
       "0  20190802-112317  True  no_pre_cluster     pandas_cell            39   \n",
       "1  20190802-112309  True  no_pre_cluster     pandas_cell            33   \n",
       "2  20190802-112248  True  no_pre_cluster     pandas_cell            11   \n",
       "3  20190802-112314  True  no_pre_cluster     pandas_cell            33   \n",
       "4  20190802-112250  True  no_pre_cluster     pandas_cell            14   \n",
       "5  20190802-112311  True  no_pre_cluster     pandas_cell            30   \n",
       "6  20190802-112245  True  no_pre_cluster     pandas_cell            14   \n",
       "\n",
       "  edges_missing edges_to_remove  precision    recall        F1 missing_files  \n",
       "0            21              15   0.650000  0.722222  0.684211             0  \n",
       "1            21              14   0.611111  0.702128  0.653465             0  \n",
       "2             9               6   0.550000  0.647059  0.594595             0  \n",
       "3            21              18   0.611111  0.647059  0.628571             0  \n",
       "4             9               5   0.608696  0.736842  0.666667             0  \n",
       "5            27              18   0.526316  0.625000  0.571429             0  \n",
       "6             9               5   0.608696  0.736842  0.666667             0  "
      ]
     },
     "execution_count": 35,
     "metadata": {},
     "output_type": "execute_result"
    }
   ],
   "source": [
    "all_pr_df"
   ]
  },
  {
   "cell_type": "code",
   "execution_count": 149,
   "metadata": {},
   "outputs": [
    {
     "data": {
      "text/html": [
       "<div>\n",
       "<style scoped>\n",
       "    .dataframe tbody tr th:only-of-type {\n",
       "        vertical-align: middle;\n",
       "    }\n",
       "\n",
       "    .dataframe tbody tr th {\n",
       "        vertical-align: top;\n",
       "    }\n",
       "\n",
       "    .dataframe thead th {\n",
       "        text-align: right;\n",
       "    }\n",
       "</style>\n",
       "<table border=\"1\" class=\"dataframe\">\n",
       "  <thead>\n",
       "    <tr style=\"text-align: right;\">\n",
       "      <th></th>\n",
       "      <th>nb_name</th>\n",
       "      <th>index</th>\n",
       "      <th>preclustering</th>\n",
       "      <th>distance_metric</th>\n",
       "      <th>edges_correct</th>\n",
       "      <th>edges_missing</th>\n",
       "      <th>edges_to_remove</th>\n",
       "      <th>precision</th>\n",
       "      <th>recall</th>\n",
       "      <th>F1</th>\n",
       "      <th>missing_files</th>\n",
       "    </tr>\n",
       "  </thead>\n",
       "  <tbody>\n",
       "    <tr>\n",
       "      <th>4</th>\n",
       "      <td>nb_266913.ipynb</td>\n",
       "      <td>True</td>\n",
       "      <td>no_pre_cluster</td>\n",
       "      <td>pandas_cell</td>\n",
       "      <td>5</td>\n",
       "      <td>1</td>\n",
       "      <td>1</td>\n",
       "      <td>0.833333</td>\n",
       "      <td>0.833333</td>\n",
       "      <td>0.833333</td>\n",
       "      <td>0</td>\n",
       "    </tr>\n",
       "    <tr>\n",
       "      <th>1</th>\n",
       "      <td>nb_23457.ipynb</td>\n",
       "      <td>True</td>\n",
       "      <td>no_pre_cluster</td>\n",
       "      <td>pandas_cell</td>\n",
       "      <td>4</td>\n",
       "      <td>1</td>\n",
       "      <td>1</td>\n",
       "      <td>0.800000</td>\n",
       "      <td>0.800000</td>\n",
       "      <td>0.800000</td>\n",
       "      <td>0</td>\n",
       "    </tr>\n",
       "    <tr>\n",
       "      <th>7</th>\n",
       "      <td>nb_495072.ipynb</td>\n",
       "      <td>True</td>\n",
       "      <td>no_pre_cluster</td>\n",
       "      <td>pandas_cell</td>\n",
       "      <td>5</td>\n",
       "      <td>4</td>\n",
       "      <td>1</td>\n",
       "      <td>0.555556</td>\n",
       "      <td>0.833333</td>\n",
       "      <td>0.666667</td>\n",
       "      <td>0</td>\n",
       "    </tr>\n",
       "    <tr>\n",
       "      <th>5</th>\n",
       "      <td>nb_417011.ipynb</td>\n",
       "      <td>True</td>\n",
       "      <td>no_pre_cluster</td>\n",
       "      <td>pandas_cell</td>\n",
       "      <td>4</td>\n",
       "      <td>3</td>\n",
       "      <td>1</td>\n",
       "      <td>0.571429</td>\n",
       "      <td>0.800000</td>\n",
       "      <td>0.666667</td>\n",
       "      <td>0</td>\n",
       "    </tr>\n",
       "    <tr>\n",
       "      <th>8</th>\n",
       "      <td>nb_315236.ipynb</td>\n",
       "      <td>True</td>\n",
       "      <td>no_pre_cluster</td>\n",
       "      <td>pandas_cell</td>\n",
       "      <td>5</td>\n",
       "      <td>3</td>\n",
       "      <td>2</td>\n",
       "      <td>0.625000</td>\n",
       "      <td>0.714286</td>\n",
       "      <td>0.666667</td>\n",
       "      <td>0</td>\n",
       "    </tr>\n",
       "    <tr>\n",
       "      <th>2</th>\n",
       "      <td>nb_33614.ipynb</td>\n",
       "      <td>True</td>\n",
       "      <td>no_pre_cluster</td>\n",
       "      <td>pandas_cell</td>\n",
       "      <td>9</td>\n",
       "      <td>12</td>\n",
       "      <td>3</td>\n",
       "      <td>0.428571</td>\n",
       "      <td>0.750000</td>\n",
       "      <td>0.545455</td>\n",
       "      <td>0</td>\n",
       "    </tr>\n",
       "    <tr>\n",
       "      <th>6</th>\n",
       "      <td>nb_269991.ipynb</td>\n",
       "      <td>True</td>\n",
       "      <td>no_pre_cluster</td>\n",
       "      <td>pandas_cell</td>\n",
       "      <td>2</td>\n",
       "      <td>4</td>\n",
       "      <td>2</td>\n",
       "      <td>0.333333</td>\n",
       "      <td>0.500000</td>\n",
       "      <td>0.400000</td>\n",
       "      <td>0</td>\n",
       "    </tr>\n",
       "    <tr>\n",
       "      <th>0</th>\n",
       "      <td>nb_331056.ipynb</td>\n",
       "      <td>True</td>\n",
       "      <td>no_pre_cluster</td>\n",
       "      <td>pandas_cell</td>\n",
       "      <td>4</td>\n",
       "      <td>7</td>\n",
       "      <td>6</td>\n",
       "      <td>0.363636</td>\n",
       "      <td>0.400000</td>\n",
       "      <td>0.380952</td>\n",
       "      <td>0</td>\n",
       "    </tr>\n",
       "    <tr>\n",
       "      <th>10</th>\n",
       "      <td>nb_986282.ipynb</td>\n",
       "      <td>True</td>\n",
       "      <td>no_pre_cluster</td>\n",
       "      <td>pandas_cell</td>\n",
       "      <td>2</td>\n",
       "      <td>4</td>\n",
       "      <td>4</td>\n",
       "      <td>0.333333</td>\n",
       "      <td>0.333333</td>\n",
       "      <td>0.333333</td>\n",
       "      <td>0</td>\n",
       "    </tr>\n",
       "    <tr>\n",
       "      <th>3</th>\n",
       "      <td>nb_386796.ipynb</td>\n",
       "      <td>True</td>\n",
       "      <td>no_pre_cluster</td>\n",
       "      <td>pandas_cell</td>\n",
       "      <td>1</td>\n",
       "      <td>5</td>\n",
       "      <td>2</td>\n",
       "      <td>0.166667</td>\n",
       "      <td>0.333333</td>\n",
       "      <td>0.222222</td>\n",
       "      <td>0</td>\n",
       "    </tr>\n",
       "    <tr>\n",
       "      <th>9</th>\n",
       "      <td>nb_484354.ipynb</td>\n",
       "      <td>True</td>\n",
       "      <td>no_pre_cluster</td>\n",
       "      <td>pandas_cell</td>\n",
       "      <td>4</td>\n",
       "      <td>18</td>\n",
       "      <td>10</td>\n",
       "      <td>0.181818</td>\n",
       "      <td>0.285714</td>\n",
       "      <td>0.222222</td>\n",
       "      <td>0</td>\n",
       "    </tr>\n",
       "    <tr>\n",
       "      <th>11</th>\n",
       "      <td>nb_639263.ipynb</td>\n",
       "      <td>True</td>\n",
       "      <td>no_pre_cluster</td>\n",
       "      <td>pandas_cell</td>\n",
       "      <td>1</td>\n",
       "      <td>5</td>\n",
       "      <td>5</td>\n",
       "      <td>0.166667</td>\n",
       "      <td>0.166667</td>\n",
       "      <td>0.166667</td>\n",
       "      <td>0</td>\n",
       "    </tr>\n",
       "  </tbody>\n",
       "</table>\n",
       "</div>"
      ],
      "text/plain": [
       "            nb_name index   preclustering distance_metric edges_correct  \\\n",
       "4   nb_266913.ipynb  True  no_pre_cluster     pandas_cell             5   \n",
       "1    nb_23457.ipynb  True  no_pre_cluster     pandas_cell             4   \n",
       "7   nb_495072.ipynb  True  no_pre_cluster     pandas_cell             5   \n",
       "5   nb_417011.ipynb  True  no_pre_cluster     pandas_cell             4   \n",
       "8   nb_315236.ipynb  True  no_pre_cluster     pandas_cell             5   \n",
       "2    nb_33614.ipynb  True  no_pre_cluster     pandas_cell             9   \n",
       "6   nb_269991.ipynb  True  no_pre_cluster     pandas_cell             2   \n",
       "0   nb_331056.ipynb  True  no_pre_cluster     pandas_cell             4   \n",
       "10  nb_986282.ipynb  True  no_pre_cluster     pandas_cell             2   \n",
       "3   nb_386796.ipynb  True  no_pre_cluster     pandas_cell             1   \n",
       "9   nb_484354.ipynb  True  no_pre_cluster     pandas_cell             4   \n",
       "11  nb_639263.ipynb  True  no_pre_cluster     pandas_cell             1   \n",
       "\n",
       "   edges_missing edges_to_remove  precision    recall        F1 missing_files  \n",
       "4              1               1   0.833333  0.833333  0.833333             0  \n",
       "1              1               1   0.800000  0.800000  0.800000             0  \n",
       "7              4               1   0.555556  0.833333  0.666667             0  \n",
       "5              3               1   0.571429  0.800000  0.666667             0  \n",
       "8              3               2   0.625000  0.714286  0.666667             0  \n",
       "2             12               3   0.428571  0.750000  0.545455             0  \n",
       "6              4               2   0.333333  0.500000  0.400000             0  \n",
       "0              7               6   0.363636  0.400000  0.380952             0  \n",
       "10             4               4   0.333333  0.333333  0.333333             0  \n",
       "3              5               2   0.166667  0.333333  0.222222             0  \n",
       "9             18              10   0.181818  0.285714  0.222222             0  \n",
       "11             5               5   0.166667  0.166667  0.166667             0  "
      ]
     },
     "execution_count": 149,
     "metadata": {},
     "output_type": "execute_result"
    }
   ],
   "source": [
    "all_pr_df.sort_values('F1', ascending=False)"
   ]
  },
  {
   "cell_type": "code",
   "execution_count": 78,
   "metadata": {},
   "outputs": [],
   "source": [
    "nonindexed_cell = all_pr_df.loc[(all_pr_df.distance_metric == 'cell')\n",
    "                        & (all_pr_df['index'] == False)]\n",
    "nonindexed_col = all_pr_df.loc[(all_pr_df.distance_metric == 'col')\n",
    "                        & (all_pr_df['index'] == False)]\n",
    "#nonindexed_cell.to_excel('results_noindex_cell.xlsx')\n",
    "#nonindexed_col.to_excel('results_noindex_col.xlsx')"
   ]
  },
  {
   "cell_type": "code",
   "execution_count": 77,
   "metadata": {},
   "outputs": [],
   "source": [
    "#all_pr_df.to_excel('results.xlsx')"
   ]
  },
  {
   "cell_type": "code",
   "execution_count": null,
   "metadata": {},
   "outputs": [],
   "source": [
    "# CommandLine Debugging\n",
    "'''\n",
    "/home/suhail/Projects/relic/primitives/cpp/src/pre_clustering/pre_clustering -partial_schema -result /media/suhail/Data/experiments/results/ok/nb_639263.ipynb/inferred/ -schema_file /media/suhail/Data/experiments/results/ok/nb_639263.ipynb/inferred/schema_matching.csv\n",
    "'''"
   ]
  },
  {
   "cell_type": "code",
   "execution_count": 39,
   "metadata": {},
   "outputs": [
    {
     "data": {
      "text/html": [
       "<div>\n",
       "<style scoped>\n",
       "    .dataframe tbody tr th:only-of-type {\n",
       "        vertical-align: middle;\n",
       "    }\n",
       "\n",
       "    .dataframe tbody tr th {\n",
       "        vertical-align: top;\n",
       "    }\n",
       "\n",
       "    .dataframe thead th {\n",
       "        text-align: right;\n",
       "    }\n",
       "</style>\n",
       "<table border=\"1\" class=\"dataframe\">\n",
       "  <thead>\n",
       "    <tr style=\"text-align: right;\">\n",
       "      <th></th>\n",
       "      <th>nb_name</th>\n",
       "      <th>index</th>\n",
       "      <th>preclustering</th>\n",
       "      <th>distance_metric</th>\n",
       "      <th>edges_correct</th>\n",
       "      <th>edges_missing</th>\n",
       "      <th>edges_to_remove</th>\n",
       "      <th>precision</th>\n",
       "      <th>recall</th>\n",
       "      <th>F1</th>\n",
       "    </tr>\n",
       "  </thead>\n",
       "  <tbody>\n",
       "    <tr>\n",
       "      <th>0</th>\n",
       "      <td>nb_331056.ipynb</td>\n",
       "      <td>True</td>\n",
       "      <td>no_pre_cluster</td>\n",
       "      <td>pandas_cell</td>\n",
       "      <td>5</td>\n",
       "      <td>7</td>\n",
       "      <td>5</td>\n",
       "      <td>0.416667</td>\n",
       "      <td>0.500000</td>\n",
       "      <td>0.454545</td>\n",
       "    </tr>\n",
       "    <tr>\n",
       "      <th>1</th>\n",
       "      <td>nb_331056.ipynb</td>\n",
       "      <td>False</td>\n",
       "      <td>no_pre_cluster</td>\n",
       "      <td>pandas_cell</td>\n",
       "      <td>3</td>\n",
       "      <td>9</td>\n",
       "      <td>3</td>\n",
       "      <td>0.250000</td>\n",
       "      <td>0.500000</td>\n",
       "      <td>0.333333</td>\n",
       "    </tr>\n",
       "    <tr>\n",
       "      <th>2</th>\n",
       "      <td>nb_23457.ipynb</td>\n",
       "      <td>True</td>\n",
       "      <td>no_pre_cluster</td>\n",
       "      <td>pandas_cell</td>\n",
       "      <td>4</td>\n",
       "      <td>1</td>\n",
       "      <td>1</td>\n",
       "      <td>0.800000</td>\n",
       "      <td>0.800000</td>\n",
       "      <td>0.800000</td>\n",
       "    </tr>\n",
       "    <tr>\n",
       "      <th>3</th>\n",
       "      <td>nb_23457.ipynb</td>\n",
       "      <td>False</td>\n",
       "      <td>no_pre_cluster</td>\n",
       "      <td>pandas_cell</td>\n",
       "      <td>4</td>\n",
       "      <td>1</td>\n",
       "      <td>1</td>\n",
       "      <td>0.800000</td>\n",
       "      <td>0.800000</td>\n",
       "      <td>0.800000</td>\n",
       "    </tr>\n",
       "    <tr>\n",
       "      <th>4</th>\n",
       "      <td>nb_33614.ipynb</td>\n",
       "      <td>True</td>\n",
       "      <td>no_pre_cluster</td>\n",
       "      <td>pandas_cell</td>\n",
       "      <td>10</td>\n",
       "      <td>11</td>\n",
       "      <td>3</td>\n",
       "      <td>0.476190</td>\n",
       "      <td>0.769231</td>\n",
       "      <td>0.588235</td>\n",
       "    </tr>\n",
       "    <tr>\n",
       "      <th>5</th>\n",
       "      <td>nb_33614.ipynb</td>\n",
       "      <td>False</td>\n",
       "      <td>no_pre_cluster</td>\n",
       "      <td>pandas_cell</td>\n",
       "      <td>7</td>\n",
       "      <td>14</td>\n",
       "      <td>1</td>\n",
       "      <td>0.333333</td>\n",
       "      <td>0.875000</td>\n",
       "      <td>0.482759</td>\n",
       "    </tr>\n",
       "    <tr>\n",
       "      <th>6</th>\n",
       "      <td>nb_316514.ipynb</td>\n",
       "      <td>True</td>\n",
       "      <td>no_pre_cluster</td>\n",
       "      <td>pandas_cell</td>\n",
       "      <td>3</td>\n",
       "      <td>5</td>\n",
       "      <td>1</td>\n",
       "      <td>0.375000</td>\n",
       "      <td>0.750000</td>\n",
       "      <td>0.500000</td>\n",
       "    </tr>\n",
       "    <tr>\n",
       "      <th>7</th>\n",
       "      <td>nb_316514.ipynb</td>\n",
       "      <td>False</td>\n",
       "      <td>no_pre_cluster</td>\n",
       "      <td>pandas_cell</td>\n",
       "      <td>1</td>\n",
       "      <td>7</td>\n",
       "      <td>2</td>\n",
       "      <td>0.125000</td>\n",
       "      <td>0.333333</td>\n",
       "      <td>0.181818</td>\n",
       "    </tr>\n",
       "    <tr>\n",
       "      <th>8</th>\n",
       "      <td>nb_386796.ipynb</td>\n",
       "      <td>True</td>\n",
       "      <td>no_pre_cluster</td>\n",
       "      <td>pandas_cell</td>\n",
       "      <td>1</td>\n",
       "      <td>5</td>\n",
       "      <td>1</td>\n",
       "      <td>0.166667</td>\n",
       "      <td>0.500000</td>\n",
       "      <td>0.250000</td>\n",
       "    </tr>\n",
       "    <tr>\n",
       "      <th>9</th>\n",
       "      <td>nb_386796.ipynb</td>\n",
       "      <td>False</td>\n",
       "      <td>no_pre_cluster</td>\n",
       "      <td>pandas_cell</td>\n",
       "      <td>1</td>\n",
       "      <td>5</td>\n",
       "      <td>0</td>\n",
       "      <td>0.166667</td>\n",
       "      <td>1.000000</td>\n",
       "      <td>0.285714</td>\n",
       "    </tr>\n",
       "    <tr>\n",
       "      <th>10</th>\n",
       "      <td>nb_266913.ipynb</td>\n",
       "      <td>True</td>\n",
       "      <td>no_pre_cluster</td>\n",
       "      <td>pandas_cell</td>\n",
       "      <td>5</td>\n",
       "      <td>1</td>\n",
       "      <td>1</td>\n",
       "      <td>0.833333</td>\n",
       "      <td>0.833333</td>\n",
       "      <td>0.833333</td>\n",
       "    </tr>\n",
       "    <tr>\n",
       "      <th>11</th>\n",
       "      <td>nb_266913.ipynb</td>\n",
       "      <td>False</td>\n",
       "      <td>no_pre_cluster</td>\n",
       "      <td>pandas_cell</td>\n",
       "      <td>5</td>\n",
       "      <td>1</td>\n",
       "      <td>1</td>\n",
       "      <td>0.833333</td>\n",
       "      <td>0.833333</td>\n",
       "      <td>0.833333</td>\n",
       "    </tr>\n",
       "    <tr>\n",
       "      <th>12</th>\n",
       "      <td>nb_417011.ipynb</td>\n",
       "      <td>True</td>\n",
       "      <td>no_pre_cluster</td>\n",
       "      <td>pandas_cell</td>\n",
       "      <td>4</td>\n",
       "      <td>3</td>\n",
       "      <td>1</td>\n",
       "      <td>0.571429</td>\n",
       "      <td>0.800000</td>\n",
       "      <td>0.666667</td>\n",
       "    </tr>\n",
       "    <tr>\n",
       "      <th>13</th>\n",
       "      <td>nb_417011.ipynb</td>\n",
       "      <td>False</td>\n",
       "      <td>no_pre_cluster</td>\n",
       "      <td>pandas_cell</td>\n",
       "      <td>2</td>\n",
       "      <td>5</td>\n",
       "      <td>2</td>\n",
       "      <td>0.285714</td>\n",
       "      <td>0.500000</td>\n",
       "      <td>0.363636</td>\n",
       "    </tr>\n",
       "    <tr>\n",
       "      <th>14</th>\n",
       "      <td>nb_269991.ipynb</td>\n",
       "      <td>True</td>\n",
       "      <td>no_pre_cluster</td>\n",
       "      <td>pandas_cell</td>\n",
       "      <td>2</td>\n",
       "      <td>4</td>\n",
       "      <td>2</td>\n",
       "      <td>0.333333</td>\n",
       "      <td>0.500000</td>\n",
       "      <td>0.400000</td>\n",
       "    </tr>\n",
       "    <tr>\n",
       "      <th>15</th>\n",
       "      <td>nb_269991.ipynb</td>\n",
       "      <td>False</td>\n",
       "      <td>no_pre_cluster</td>\n",
       "      <td>pandas_cell</td>\n",
       "      <td>2</td>\n",
       "      <td>4</td>\n",
       "      <td>1</td>\n",
       "      <td>0.333333</td>\n",
       "      <td>0.666667</td>\n",
       "      <td>0.444444</td>\n",
       "    </tr>\n",
       "    <tr>\n",
       "      <th>16</th>\n",
       "      <td>nb_495072.ipynb</td>\n",
       "      <td>True</td>\n",
       "      <td>no_pre_cluster</td>\n",
       "      <td>pandas_cell</td>\n",
       "      <td>5</td>\n",
       "      <td>4</td>\n",
       "      <td>1</td>\n",
       "      <td>0.555556</td>\n",
       "      <td>0.833333</td>\n",
       "      <td>0.666667</td>\n",
       "    </tr>\n",
       "    <tr>\n",
       "      <th>17</th>\n",
       "      <td>nb_495072.ipynb</td>\n",
       "      <td>False</td>\n",
       "      <td>no_pre_cluster</td>\n",
       "      <td>pandas_cell</td>\n",
       "      <td>3</td>\n",
       "      <td>6</td>\n",
       "      <td>2</td>\n",
       "      <td>0.333333</td>\n",
       "      <td>0.600000</td>\n",
       "      <td>0.428571</td>\n",
       "    </tr>\n",
       "    <tr>\n",
       "      <th>18</th>\n",
       "      <td>nb_315236.ipynb</td>\n",
       "      <td>True</td>\n",
       "      <td>no_pre_cluster</td>\n",
       "      <td>pandas_cell</td>\n",
       "      <td>4</td>\n",
       "      <td>4</td>\n",
       "      <td>1</td>\n",
       "      <td>0.500000</td>\n",
       "      <td>0.800000</td>\n",
       "      <td>0.615385</td>\n",
       "    </tr>\n",
       "    <tr>\n",
       "      <th>19</th>\n",
       "      <td>nb_315236.ipynb</td>\n",
       "      <td>False</td>\n",
       "      <td>no_pre_cluster</td>\n",
       "      <td>pandas_cell</td>\n",
       "      <td>4</td>\n",
       "      <td>4</td>\n",
       "      <td>1</td>\n",
       "      <td>0.500000</td>\n",
       "      <td>0.800000</td>\n",
       "      <td>0.615385</td>\n",
       "    </tr>\n",
       "    <tr>\n",
       "      <th>20</th>\n",
       "      <td>nb_484354.ipynb</td>\n",
       "      <td>True</td>\n",
       "      <td>no_pre_cluster</td>\n",
       "      <td>pandas_cell</td>\n",
       "      <td>1</td>\n",
       "      <td>21</td>\n",
       "      <td>10</td>\n",
       "      <td>0.045455</td>\n",
       "      <td>0.090909</td>\n",
       "      <td>0.060606</td>\n",
       "    </tr>\n",
       "    <tr>\n",
       "      <th>21</th>\n",
       "      <td>nb_484354.ipynb</td>\n",
       "      <td>False</td>\n",
       "      <td>no_pre_cluster</td>\n",
       "      <td>pandas_cell</td>\n",
       "      <td>0</td>\n",
       "      <td>22</td>\n",
       "      <td>8</td>\n",
       "      <td>0.000000</td>\n",
       "      <td>0.000000</td>\n",
       "      <td>0.000000</td>\n",
       "    </tr>\n",
       "    <tr>\n",
       "      <th>22</th>\n",
       "      <td>nb_772851.ipynb</td>\n",
       "      <td>True</td>\n",
       "      <td>no_pre_cluster</td>\n",
       "      <td>pandas_cell</td>\n",
       "      <td>4</td>\n",
       "      <td>9</td>\n",
       "      <td>9</td>\n",
       "      <td>0.307692</td>\n",
       "      <td>0.307692</td>\n",
       "      <td>0.307692</td>\n",
       "    </tr>\n",
       "    <tr>\n",
       "      <th>23</th>\n",
       "      <td>nb_772851.ipynb</td>\n",
       "      <td>False</td>\n",
       "      <td>no_pre_cluster</td>\n",
       "      <td>pandas_cell</td>\n",
       "      <td>3</td>\n",
       "      <td>10</td>\n",
       "      <td>5</td>\n",
       "      <td>0.230769</td>\n",
       "      <td>0.375000</td>\n",
       "      <td>0.285714</td>\n",
       "    </tr>\n",
       "    <tr>\n",
       "      <th>24</th>\n",
       "      <td>nb_986282.ipynb</td>\n",
       "      <td>True</td>\n",
       "      <td>no_pre_cluster</td>\n",
       "      <td>pandas_cell</td>\n",
       "      <td>2</td>\n",
       "      <td>4</td>\n",
       "      <td>3</td>\n",
       "      <td>0.333333</td>\n",
       "      <td>0.400000</td>\n",
       "      <td>0.363636</td>\n",
       "    </tr>\n",
       "    <tr>\n",
       "      <th>25</th>\n",
       "      <td>nb_986282.ipynb</td>\n",
       "      <td>False</td>\n",
       "      <td>no_pre_cluster</td>\n",
       "      <td>pandas_cell</td>\n",
       "      <td>3</td>\n",
       "      <td>3</td>\n",
       "      <td>0</td>\n",
       "      <td>0.500000</td>\n",
       "      <td>1.000000</td>\n",
       "      <td>0.666667</td>\n",
       "    </tr>\n",
       "    <tr>\n",
       "      <th>26</th>\n",
       "      <td>nb_639263.ipynb</td>\n",
       "      <td>True</td>\n",
       "      <td>no_pre_cluster</td>\n",
       "      <td>pandas_cell</td>\n",
       "      <td>1</td>\n",
       "      <td>5</td>\n",
       "      <td>5</td>\n",
       "      <td>0.166667</td>\n",
       "      <td>0.166667</td>\n",
       "      <td>0.166667</td>\n",
       "    </tr>\n",
       "    <tr>\n",
       "      <th>27</th>\n",
       "      <td>nb_639263.ipynb</td>\n",
       "      <td>False</td>\n",
       "      <td>no_pre_cluster</td>\n",
       "      <td>pandas_cell</td>\n",
       "      <td>1</td>\n",
       "      <td>5</td>\n",
       "      <td>5</td>\n",
       "      <td>0.166667</td>\n",
       "      <td>0.166667</td>\n",
       "      <td>0.166667</td>\n",
       "    </tr>\n",
       "  </tbody>\n",
       "</table>\n",
       "</div>"
      ],
      "text/plain": [
       "            nb_name  index   preclustering distance_metric edges_correct  \\\n",
       "0   nb_331056.ipynb   True  no_pre_cluster     pandas_cell             5   \n",
       "1   nb_331056.ipynb  False  no_pre_cluster     pandas_cell             3   \n",
       "2    nb_23457.ipynb   True  no_pre_cluster     pandas_cell             4   \n",
       "3    nb_23457.ipynb  False  no_pre_cluster     pandas_cell             4   \n",
       "4    nb_33614.ipynb   True  no_pre_cluster     pandas_cell            10   \n",
       "5    nb_33614.ipynb  False  no_pre_cluster     pandas_cell             7   \n",
       "6   nb_316514.ipynb   True  no_pre_cluster     pandas_cell             3   \n",
       "7   nb_316514.ipynb  False  no_pre_cluster     pandas_cell             1   \n",
       "8   nb_386796.ipynb   True  no_pre_cluster     pandas_cell             1   \n",
       "9   nb_386796.ipynb  False  no_pre_cluster     pandas_cell             1   \n",
       "10  nb_266913.ipynb   True  no_pre_cluster     pandas_cell             5   \n",
       "11  nb_266913.ipynb  False  no_pre_cluster     pandas_cell             5   \n",
       "12  nb_417011.ipynb   True  no_pre_cluster     pandas_cell             4   \n",
       "13  nb_417011.ipynb  False  no_pre_cluster     pandas_cell             2   \n",
       "14  nb_269991.ipynb   True  no_pre_cluster     pandas_cell             2   \n",
       "15  nb_269991.ipynb  False  no_pre_cluster     pandas_cell             2   \n",
       "16  nb_495072.ipynb   True  no_pre_cluster     pandas_cell             5   \n",
       "17  nb_495072.ipynb  False  no_pre_cluster     pandas_cell             3   \n",
       "18  nb_315236.ipynb   True  no_pre_cluster     pandas_cell             4   \n",
       "19  nb_315236.ipynb  False  no_pre_cluster     pandas_cell             4   \n",
       "20  nb_484354.ipynb   True  no_pre_cluster     pandas_cell             1   \n",
       "21  nb_484354.ipynb  False  no_pre_cluster     pandas_cell             0   \n",
       "22  nb_772851.ipynb   True  no_pre_cluster     pandas_cell             4   \n",
       "23  nb_772851.ipynb  False  no_pre_cluster     pandas_cell             3   \n",
       "24  nb_986282.ipynb   True  no_pre_cluster     pandas_cell             2   \n",
       "25  nb_986282.ipynb  False  no_pre_cluster     pandas_cell             3   \n",
       "26  nb_639263.ipynb   True  no_pre_cluster     pandas_cell             1   \n",
       "27  nb_639263.ipynb  False  no_pre_cluster     pandas_cell             1   \n",
       "\n",
       "   edges_missing edges_to_remove  precision    recall        F1  \n",
       "0              7               5   0.416667  0.500000  0.454545  \n",
       "1              9               3   0.250000  0.500000  0.333333  \n",
       "2              1               1   0.800000  0.800000  0.800000  \n",
       "3              1               1   0.800000  0.800000  0.800000  \n",
       "4             11               3   0.476190  0.769231  0.588235  \n",
       "5             14               1   0.333333  0.875000  0.482759  \n",
       "6              5               1   0.375000  0.750000  0.500000  \n",
       "7              7               2   0.125000  0.333333  0.181818  \n",
       "8              5               1   0.166667  0.500000  0.250000  \n",
       "9              5               0   0.166667  1.000000  0.285714  \n",
       "10             1               1   0.833333  0.833333  0.833333  \n",
       "11             1               1   0.833333  0.833333  0.833333  \n",
       "12             3               1   0.571429  0.800000  0.666667  \n",
       "13             5               2   0.285714  0.500000  0.363636  \n",
       "14             4               2   0.333333  0.500000  0.400000  \n",
       "15             4               1   0.333333  0.666667  0.444444  \n",
       "16             4               1   0.555556  0.833333  0.666667  \n",
       "17             6               2   0.333333  0.600000  0.428571  \n",
       "18             4               1   0.500000  0.800000  0.615385  \n",
       "19             4               1   0.500000  0.800000  0.615385  \n",
       "20            21              10   0.045455  0.090909  0.060606  \n",
       "21            22               8   0.000000  0.000000  0.000000  \n",
       "22             9               9   0.307692  0.307692  0.307692  \n",
       "23            10               5   0.230769  0.375000  0.285714  \n",
       "24             4               3   0.333333  0.400000  0.363636  \n",
       "25             3               0   0.500000  1.000000  0.666667  \n",
       "26             5               5   0.166667  0.166667  0.166667  \n",
       "27             5               5   0.166667  0.166667  0.166667  "
      ]
     },
     "execution_count": 39,
     "metadata": {},
     "output_type": "execute_result"
    }
   ],
   "source": [
    "all_pr_df"
   ]
  },
  {
   "cell_type": "code",
   "execution_count": 40,
   "metadata": {},
   "outputs": [
    {
     "data": {
      "text/html": [
       "<div>\n",
       "<style scoped>\n",
       "    .dataframe tbody tr th:only-of-type {\n",
       "        vertical-align: middle;\n",
       "    }\n",
       "\n",
       "    .dataframe tbody tr th {\n",
       "        vertical-align: top;\n",
       "    }\n",
       "\n",
       "    .dataframe thead th {\n",
       "        text-align: right;\n",
       "    }\n",
       "</style>\n",
       "<table border=\"1\" class=\"dataframe\">\n",
       "  <thead>\n",
       "    <tr style=\"text-align: right;\">\n",
       "      <th></th>\n",
       "      <th>nb_name</th>\n",
       "      <th>index</th>\n",
       "      <th>preclustering</th>\n",
       "      <th>distance_metric</th>\n",
       "      <th>edges_correct</th>\n",
       "      <th>edges_missing</th>\n",
       "      <th>edges_to_remove</th>\n",
       "      <th>precision</th>\n",
       "      <th>recall</th>\n",
       "      <th>F1</th>\n",
       "    </tr>\n",
       "  </thead>\n",
       "  <tbody>\n",
       "    <tr>\n",
       "      <th>(0, 8]</th>\n",
       "      <td>nb_386796.ipynb</td>\n",
       "      <td>True</td>\n",
       "      <td>no_pre_cluster</td>\n",
       "      <td>pandas_cell</td>\n",
       "      <td>10</td>\n",
       "      <td>14</td>\n",
       "      <td>3</td>\n",
       "      <td>0.800000</td>\n",
       "      <td>0.875</td>\n",
       "      <td>0.800000</td>\n",
       "    </tr>\n",
       "    <tr>\n",
       "      <th>(8, 16]</th>\n",
       "      <td>nb_495072.ipynb</td>\n",
       "      <td>True</td>\n",
       "      <td>no_pre_cluster</td>\n",
       "      <td>pandas_cell</td>\n",
       "      <td>5</td>\n",
       "      <td>5</td>\n",
       "      <td>2</td>\n",
       "      <td>0.833333</td>\n",
       "      <td>1.000</td>\n",
       "      <td>0.833333</td>\n",
       "    </tr>\n",
       "    <tr>\n",
       "      <th>(16, 24]</th>\n",
       "      <td>nb_986282.ipynb</td>\n",
       "      <td>True</td>\n",
       "      <td>no_pre_cluster</td>\n",
       "      <td>pandas_cell</td>\n",
       "      <td>4</td>\n",
       "      <td>22</td>\n",
       "      <td>10</td>\n",
       "      <td>0.500000</td>\n",
       "      <td>0.800</td>\n",
       "      <td>0.615385</td>\n",
       "    </tr>\n",
       "  </tbody>\n",
       "</table>\n",
       "</div>"
      ],
      "text/plain": [
       "                  nb_name  index   preclustering distance_metric  \\\n",
       "(0, 8]    nb_386796.ipynb   True  no_pre_cluster     pandas_cell   \n",
       "(8, 16]   nb_495072.ipynb   True  no_pre_cluster     pandas_cell   \n",
       "(16, 24]  nb_986282.ipynb   True  no_pre_cluster     pandas_cell   \n",
       "\n",
       "          edges_correct  edges_missing  edges_to_remove  precision  recall  \\\n",
       "(0, 8]               10             14                3   0.800000   0.875   \n",
       "(8, 16]               5              5                2   0.833333   1.000   \n",
       "(16, 24]              4             22               10   0.500000   0.800   \n",
       "\n",
       "                F1  \n",
       "(0, 8]    0.800000  \n",
       "(8, 16]   0.833333  \n",
       "(16, 24]  0.615385  "
      ]
     },
     "execution_count": 40,
     "metadata": {},
     "output_type": "execute_result"
    }
   ],
   "source": [
    "groups = all_pr_df.groupby(pd.cut(all_pr_df.index, range(0,len(all_pr_df), 8)))\n",
    "groups.max()"
   ]
  },
  {
   "cell_type": "code",
   "execution_count": 41,
   "metadata": {},
   "outputs": [
    {
     "data": {
      "text/html": [
       "<div>\n",
       "<style scoped>\n",
       "    .dataframe tbody tr th:only-of-type {\n",
       "        vertical-align: middle;\n",
       "    }\n",
       "\n",
       "    .dataframe tbody tr th {\n",
       "        vertical-align: top;\n",
       "    }\n",
       "\n",
       "    .dataframe thead th {\n",
       "        text-align: right;\n",
       "    }\n",
       "</style>\n",
       "<table border=\"1\" class=\"dataframe\">\n",
       "  <thead>\n",
       "    <tr style=\"text-align: right;\">\n",
       "      <th></th>\n",
       "      <th>F1</th>\n",
       "    </tr>\n",
       "    <tr>\n",
       "      <th>nb_name</th>\n",
       "      <th></th>\n",
       "    </tr>\n",
       "  </thead>\n",
       "  <tbody>\n",
       "    <tr>\n",
       "      <th>nb_331056.ipynb</th>\n",
       "      <td>0.454545</td>\n",
       "    </tr>\n",
       "    <tr>\n",
       "      <th>nb_23457.ipynb</th>\n",
       "      <td>0.800000</td>\n",
       "    </tr>\n",
       "    <tr>\n",
       "      <th>nb_33614.ipynb</th>\n",
       "      <td>0.588235</td>\n",
       "    </tr>\n",
       "    <tr>\n",
       "      <th>nb_316514.ipynb</th>\n",
       "      <td>0.500000</td>\n",
       "    </tr>\n",
       "    <tr>\n",
       "      <th>nb_386796.ipynb</th>\n",
       "      <td>0.285714</td>\n",
       "    </tr>\n",
       "    <tr>\n",
       "      <th>nb_266913.ipynb</th>\n",
       "      <td>0.833333</td>\n",
       "    </tr>\n",
       "    <tr>\n",
       "      <th>nb_417011.ipynb</th>\n",
       "      <td>0.666667</td>\n",
       "    </tr>\n",
       "    <tr>\n",
       "      <th>nb_269991.ipynb</th>\n",
       "      <td>0.444444</td>\n",
       "    </tr>\n",
       "    <tr>\n",
       "      <th>nb_495072.ipynb</th>\n",
       "      <td>0.666667</td>\n",
       "    </tr>\n",
       "    <tr>\n",
       "      <th>nb_315236.ipynb</th>\n",
       "      <td>0.615385</td>\n",
       "    </tr>\n",
       "    <tr>\n",
       "      <th>nb_484354.ipynb</th>\n",
       "      <td>0.060606</td>\n",
       "    </tr>\n",
       "    <tr>\n",
       "      <th>nb_772851.ipynb</th>\n",
       "      <td>0.307692</td>\n",
       "    </tr>\n",
       "    <tr>\n",
       "      <th>nb_986282.ipynb</th>\n",
       "      <td>0.666667</td>\n",
       "    </tr>\n",
       "    <tr>\n",
       "      <th>nb_639263.ipynb</th>\n",
       "      <td>0.166667</td>\n",
       "    </tr>\n",
       "  </tbody>\n",
       "</table>\n",
       "</div>"
      ],
      "text/plain": [
       "                       F1\n",
       "nb_name                  \n",
       "nb_331056.ipynb  0.454545\n",
       "nb_23457.ipynb   0.800000\n",
       "nb_33614.ipynb   0.588235\n",
       "nb_316514.ipynb  0.500000\n",
       "nb_386796.ipynb  0.285714\n",
       "nb_266913.ipynb  0.833333\n",
       "nb_417011.ipynb  0.666667\n",
       "nb_269991.ipynb  0.444444\n",
       "nb_495072.ipynb  0.666667\n",
       "nb_315236.ipynb  0.615385\n",
       "nb_484354.ipynb  0.060606\n",
       "nb_772851.ipynb  0.307692\n",
       "nb_986282.ipynb  0.666667\n",
       "nb_639263.ipynb  0.166667"
      ]
     },
     "execution_count": 41,
     "metadata": {},
     "output_type": "execute_result"
    }
   ],
   "source": [
    "best_f1 = all_pr_df.groupby(['nb_name'], sort=False)['F1'].max().to_frame()\n",
    "best_f1"
   ]
  },
  {
   "cell_type": "code",
   "execution_count": 43,
   "metadata": {},
   "outputs": [],
   "source": [
    "idx = all_pr_df.groupby(['nb_name'])['F1'].transform(max) == all_pr_df['F1']\n",
    "max_filter = all_pr_df.loc[idx]\n"
   ]
  },
  {
   "cell_type": "code",
   "execution_count": null,
   "metadata": {},
   "outputs": [],
   "source": []
  },
  {
   "cell_type": "code",
   "execution_count": 44,
   "metadata": {},
   "outputs": [
    {
     "data": {
      "text/plain": [
       "18"
      ]
     },
     "execution_count": 44,
     "metadata": {},
     "output_type": "execute_result"
    }
   ],
   "source": [
    "max_filter = max_filter.loc[max_filter['F1'] != 0]\n",
    "len(max_filter)"
   ]
  },
  {
   "cell_type": "code",
   "execution_count": 45,
   "metadata": {},
   "outputs": [
    {
     "data": {
      "text/html": [
       "<div>\n",
       "<style scoped>\n",
       "    .dataframe tbody tr th:only-of-type {\n",
       "        vertical-align: middle;\n",
       "    }\n",
       "\n",
       "    .dataframe tbody tr th {\n",
       "        vertical-align: top;\n",
       "    }\n",
       "\n",
       "    .dataframe thead th {\n",
       "        text-align: right;\n",
       "    }\n",
       "</style>\n",
       "<table border=\"1\" class=\"dataframe\">\n",
       "  <thead>\n",
       "    <tr style=\"text-align: right;\">\n",
       "      <th></th>\n",
       "      <th>edges_correct</th>\n",
       "      <th>edges_missing</th>\n",
       "      <th>edges_to_remove</th>\n",
       "      <th>precision</th>\n",
       "      <th>recall</th>\n",
       "      <th>F1</th>\n",
       "    </tr>\n",
       "    <tr>\n",
       "      <th>nb_name</th>\n",
       "      <th></th>\n",
       "      <th></th>\n",
       "      <th></th>\n",
       "      <th></th>\n",
       "      <th></th>\n",
       "      <th></th>\n",
       "    </tr>\n",
       "  </thead>\n",
       "  <tbody>\n",
       "    <tr>\n",
       "      <th>nb_331056.ipynb</th>\n",
       "      <td>5</td>\n",
       "      <td>7</td>\n",
       "      <td>5</td>\n",
       "      <td>0.416667</td>\n",
       "      <td>0.500000</td>\n",
       "      <td>0.454545</td>\n",
       "    </tr>\n",
       "    <tr>\n",
       "      <th>nb_23457.ipynb</th>\n",
       "      <td>4</td>\n",
       "      <td>1</td>\n",
       "      <td>1</td>\n",
       "      <td>0.800000</td>\n",
       "      <td>0.800000</td>\n",
       "      <td>0.800000</td>\n",
       "    </tr>\n",
       "    <tr>\n",
       "      <th>nb_33614.ipynb</th>\n",
       "      <td>10</td>\n",
       "      <td>11</td>\n",
       "      <td>3</td>\n",
       "      <td>0.476190</td>\n",
       "      <td>0.769231</td>\n",
       "      <td>0.588235</td>\n",
       "    </tr>\n",
       "    <tr>\n",
       "      <th>nb_316514.ipynb</th>\n",
       "      <td>3</td>\n",
       "      <td>5</td>\n",
       "      <td>1</td>\n",
       "      <td>0.375000</td>\n",
       "      <td>0.750000</td>\n",
       "      <td>0.500000</td>\n",
       "    </tr>\n",
       "    <tr>\n",
       "      <th>nb_386796.ipynb</th>\n",
       "      <td>1</td>\n",
       "      <td>5</td>\n",
       "      <td>0</td>\n",
       "      <td>0.166667</td>\n",
       "      <td>1.000000</td>\n",
       "      <td>0.285714</td>\n",
       "    </tr>\n",
       "    <tr>\n",
       "      <th>nb_266913.ipynb</th>\n",
       "      <td>5</td>\n",
       "      <td>1</td>\n",
       "      <td>1</td>\n",
       "      <td>0.833333</td>\n",
       "      <td>0.833333</td>\n",
       "      <td>0.833333</td>\n",
       "    </tr>\n",
       "    <tr>\n",
       "      <th>nb_417011.ipynb</th>\n",
       "      <td>4</td>\n",
       "      <td>3</td>\n",
       "      <td>1</td>\n",
       "      <td>0.571429</td>\n",
       "      <td>0.800000</td>\n",
       "      <td>0.666667</td>\n",
       "    </tr>\n",
       "    <tr>\n",
       "      <th>nb_269991.ipynb</th>\n",
       "      <td>2</td>\n",
       "      <td>4</td>\n",
       "      <td>1</td>\n",
       "      <td>0.333333</td>\n",
       "      <td>0.666667</td>\n",
       "      <td>0.444444</td>\n",
       "    </tr>\n",
       "    <tr>\n",
       "      <th>nb_495072.ipynb</th>\n",
       "      <td>5</td>\n",
       "      <td>4</td>\n",
       "      <td>1</td>\n",
       "      <td>0.555556</td>\n",
       "      <td>0.833333</td>\n",
       "      <td>0.666667</td>\n",
       "    </tr>\n",
       "    <tr>\n",
       "      <th>nb_315236.ipynb</th>\n",
       "      <td>4</td>\n",
       "      <td>4</td>\n",
       "      <td>1</td>\n",
       "      <td>0.500000</td>\n",
       "      <td>0.800000</td>\n",
       "      <td>0.615385</td>\n",
       "    </tr>\n",
       "    <tr>\n",
       "      <th>nb_484354.ipynb</th>\n",
       "      <td>1</td>\n",
       "      <td>21</td>\n",
       "      <td>10</td>\n",
       "      <td>0.045455</td>\n",
       "      <td>0.090909</td>\n",
       "      <td>0.060606</td>\n",
       "    </tr>\n",
       "    <tr>\n",
       "      <th>nb_772851.ipynb</th>\n",
       "      <td>4</td>\n",
       "      <td>9</td>\n",
       "      <td>9</td>\n",
       "      <td>0.307692</td>\n",
       "      <td>0.307692</td>\n",
       "      <td>0.307692</td>\n",
       "    </tr>\n",
       "    <tr>\n",
       "      <th>nb_986282.ipynb</th>\n",
       "      <td>3</td>\n",
       "      <td>3</td>\n",
       "      <td>0</td>\n",
       "      <td>0.500000</td>\n",
       "      <td>1.000000</td>\n",
       "      <td>0.666667</td>\n",
       "    </tr>\n",
       "    <tr>\n",
       "      <th>nb_639263.ipynb</th>\n",
       "      <td>1</td>\n",
       "      <td>5</td>\n",
       "      <td>5</td>\n",
       "      <td>0.166667</td>\n",
       "      <td>0.166667</td>\n",
       "      <td>0.166667</td>\n",
       "    </tr>\n",
       "  </tbody>\n",
       "</table>\n",
       "</div>"
      ],
      "text/plain": [
       "                edges_correct edges_missing edges_to_remove  precision  \\\n",
       "nb_name                                                                  \n",
       "nb_331056.ipynb             5             7               5   0.416667   \n",
       "nb_23457.ipynb              4             1               1   0.800000   \n",
       "nb_33614.ipynb             10            11               3   0.476190   \n",
       "nb_316514.ipynb             3             5               1   0.375000   \n",
       "nb_386796.ipynb             1             5               0   0.166667   \n",
       "nb_266913.ipynb             5             1               1   0.833333   \n",
       "nb_417011.ipynb             4             3               1   0.571429   \n",
       "nb_269991.ipynb             2             4               1   0.333333   \n",
       "nb_495072.ipynb             5             4               1   0.555556   \n",
       "nb_315236.ipynb             4             4               1   0.500000   \n",
       "nb_484354.ipynb             1            21              10   0.045455   \n",
       "nb_772851.ipynb             4             9               9   0.307692   \n",
       "nb_986282.ipynb             3             3               0   0.500000   \n",
       "nb_639263.ipynb             1             5               5   0.166667   \n",
       "\n",
       "                   recall        F1  \n",
       "nb_name                              \n",
       "nb_331056.ipynb  0.500000  0.454545  \n",
       "nb_23457.ipynb   0.800000  0.800000  \n",
       "nb_33614.ipynb   0.769231  0.588235  \n",
       "nb_316514.ipynb  0.750000  0.500000  \n",
       "nb_386796.ipynb  1.000000  0.285714  \n",
       "nb_266913.ipynb  0.833333  0.833333  \n",
       "nb_417011.ipynb  0.800000  0.666667  \n",
       "nb_269991.ipynb  0.666667  0.444444  \n",
       "nb_495072.ipynb  0.833333  0.666667  \n",
       "nb_315236.ipynb  0.800000  0.615385  \n",
       "nb_484354.ipynb  0.090909  0.060606  \n",
       "nb_772851.ipynb  0.307692  0.307692  \n",
       "nb_986282.ipynb  1.000000  0.666667  \n",
       "nb_639263.ipynb  0.166667  0.166667  "
      ]
     },
     "execution_count": 45,
     "metadata": {},
     "output_type": "execute_result"
    }
   ],
   "source": [
    "top_nb_scores = max_filter.drop(['index','preclustering','distance_metric'],axis=1)\n",
    "top_nb_scores = top_nb_scores.set_index('nb_name')\n",
    "top_nb_scores = top_nb_scores.drop_duplicates()\n",
    "top_nb_scores"
   ]
  },
  {
   "cell_type": "code",
   "execution_count": 50,
   "metadata": {
    "scrolled": true
   },
   "outputs": [
    {
     "data": {
      "text/plain": [
       "True     11\n",
       "False     7\n",
       "Name: index, dtype: int64"
      ]
     },
     "execution_count": 50,
     "metadata": {},
     "output_type": "execute_result"
    }
   ],
   "source": [
    "max_filter['index'].value_counts()"
   ]
  },
  {
   "cell_type": "code",
   "execution_count": null,
   "metadata": {},
   "outputs": [],
   "source": []
  }
 ],
 "metadata": {
  "kernelspec": {
   "display_name": "Python 3",
   "language": "python",
   "name": "python3"
  },
  "language_info": {
   "codemirror_mode": {
    "name": "ipython",
    "version": 3
   },
   "file_extension": ".py",
   "mimetype": "text/x-python",
   "name": "python",
   "nbconvert_exporter": "python",
   "pygments_lexer": "ipython3",
   "version": "3.6.5"
  }
 },
 "nbformat": 4,
 "nbformat_minor": 2
}
