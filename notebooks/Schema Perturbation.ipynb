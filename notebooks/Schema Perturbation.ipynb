{
 "cells": [
  {
   "cell_type": "code",
   "execution_count": 30,
   "id": "88ad097a",
   "metadata": {},
   "outputs": [],
   "source": [
    "import pandas as pd\n",
    "import numpy as np\n",
    "import string\n",
    "import copy"
   ]
  },
  {
   "cell_type": "code",
   "execution_count": 59,
   "id": "23f81096",
   "metadata": {},
   "outputs": [],
   "source": [
    "_UNIQUE_DICTIONARY = string.ascii_letters+string.digits\n",
    "\n",
    "# Schema Perturbation Function\n",
    "\n",
    "def generate_prefix(symbol_dict: str=_UNIQUE_DICTIONARY, size: int=5) -> str:\n",
    "    return ''.join(np.random.choice(list(symbol_dict), size))\n",
    "\n",
    "\n",
    "def perturb_string(original_string, beta, prefix_change=False):\n",
    "    if prefix_change:\n",
    "        return generate_prefix()+'__'+original_string.split('__')[1]\n",
    "    else:\n",
    "        strlen = len(original_string)\n",
    "        new_string=list(original_string)\n",
    "        pertrub_idxs = np.random.randint(0,strlen, int(np.ceil(beta*strlen))).tolist()\n",
    "        for ix in pertrub_idxs:\n",
    "            new_string[ix] = np.random.choice(list(_UNIQUE_DICTIONARY),1)[0]\n",
    "        return \"\".join(new_string)\n",
    "\n",
    "\n",
    "def perturb_schema(input_df, alpha=0.5, prefix_change=False, beta=0.2):\n",
    "    original_column_set = set(input_df.columns)\n",
    "    rename_map = {}\n",
    "    cols_to_rename = np.random.choice(list(original_column_set), int(np.ceil(alpha*len(original_column_set))))\n",
    "    \n",
    "    for col_to_rename in cols_to_rename:\n",
    "        rename_map[col_to_rename] = perturb_string(col_to_rename, beta=beta, prefix_change=prefix_change)\n",
    "    \n",
    "    return input_df.rename(columns=rename_map)"
   ]
  },
  {
   "cell_type": "code",
   "execution_count": 62,
   "id": "feaceff2",
   "metadata": {},
   "outputs": [
    {
     "data": {
      "text/plain": [
       "{'07i5S5_phone_numbZa',\n",
       " '07i5S__phone_number',\n",
       " 'PdFsM__pyfloat',\n",
       " 'Pdws8__pyfOoat',\n",
       " 'TvxTJ__sha1',\n",
       " 'TvxhJ__sCa1',\n",
       " 'bp0Rn_3wird',\n",
       " 'bpLRn__word',\n",
       " 'q9p2y__mac_processor',\n",
       " 'q9p2y_rmac_ptocUssor',\n",
       " 'svtGf__pySloaU',\n",
       " 'svtGf__pyfloat',\n",
       " 'vxXvMTyascii_sgme_emahl',\n",
       " 'vxXvM__ascii_safe_email'}"
      ]
     },
     "execution_count": 62,
     "metadata": {},
     "output_type": "execute_result"
    }
   ],
   "source": [
    "test_df = pd.read_csv('/tmp/fuzzydatatest/modin_ray/artifacts/artifact_0.csv', index_col=0).drop('Unnamed: 0', axis=1)\n",
    "test_df\n",
    "renamed_df = perturb_schema(test_df)\n",
    "\n",
    "set(test_df.columns).symmetric_difference(set(renamed_df.columns))"
   ]
  },
  {
   "cell_type": "code",
   "execution_count": 52,
   "id": "4603c7c5",
   "metadata": {},
   "outputs": [
    {
     "data": {
      "text/plain": [
       "'t19jm_pUPnM'"
      ]
     },
     "execution_count": 52,
     "metadata": {},
     "output_type": "execute_result"
    }
   ],
   "source": [
    "perturb_string('t19zm__ean8', 0.5, prefix_change=False)"
   ]
  },
  {
   "cell_type": "code",
   "execution_count": null,
   "id": "a8581f78",
   "metadata": {},
   "outputs": [],
   "source": []
  }
 ],
 "metadata": {
  "kernelspec": {
   "display_name": "Python 3 (ipykernel)",
   "language": "python",
   "name": "python3"
  },
  "language_info": {
   "codemirror_mode": {
    "name": "ipython",
    "version": 3
   },
   "file_extension": ".py",
   "mimetype": "text/x-python",
   "name": "python",
   "nbconvert_exporter": "python",
   "pygments_lexer": "ipython3",
   "version": "3.8.10"
  }
 },
 "nbformat": 4,
 "nbformat_minor": 5
}
